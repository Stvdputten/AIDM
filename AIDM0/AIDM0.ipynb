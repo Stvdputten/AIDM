{
 "cells": [
  {
   "cell_type": "markdown",
   "metadata": {},
   "source": [
    "## **Advances in Data Mining**\n",
    "\n",
    "Stephan van der Putten | (s1528459) | stvdputtenjur@gmail.com  \n",
    "Theo Baart | s2370328 | s2370328@student.leidenuniv.nl\n",
    "\n",
    "### **Assignment 0**\n",
    "The target is to find a formula which expresses the number of unique values when generating ` n`  random integers between 0 and a value `N`. This formula will be based on the experimental results computed by testing for multiple values of `n` and `N`."
   ]
  },
  {
   "cell_type": "code",
   "execution_count": null,
   "metadata": {},
   "outputs": [],
   "source": [
    "import numpy as np\n",
    "import pandas as pd\n",
    "import matplotlib.pyplot as plt"
   ]
  },
  {
   "cell_type": "markdown",
   "metadata": {},
   "source": [
    "## **Experiment**\n",
    "\n",
    "To compute experimental results we run the experiment multiple times for various values of `n` and `N`. Observe that `n is in [1000, 10000]` and that `N is in [1n ... 64n]`. For each unique `(n, N)` combination the experiment will be repeated 10 times. Each repitition has a unique seed.\n",
    "\n",
    "`unique_values_experiment`  \n",
    "    This function computes the number of unique values for a randomly generated sequence of `n` values between 0 and `N`. To ensure that each sequences is indeed random a seed is computed based on the product of all of the function's parameters. In order to do this it uses the following parameters:\n",
    "   * `n` - the length of the sequence to be generated.\n",
    "   * `N` - the maximum value an item in the sequence may have.\n",
    "   * `z` - a modifier for the random seed to ensure a unique seed is used in each iteration of the function."
   ]
  },
  {
   "cell_type": "code",
   "execution_count": null,
   "metadata": {},
   "outputs": [],
   "source": [
    "def unique_values_experiment(n, N, z):\n",
    "    np.random.seed(n*N*z)\n",
    "    random_values = np.random.randint(0, N*n, n)\n",
    "    experiment = len(np.unique(random_values))\n",
    "    return experiment"
   ]
  },
  {
   "cell_type": "markdown",
   "metadata": {},
   "source": [
    "The `unique_values_experiment` function is executed multiple times to build a list of experimental results. For this experiment we test on lists of 1000 and 10000 items and test for values of `N` between 1 and 65. For each unique combination of `n` and `N` we repeat the function 10 times, each time with a different value for `z`. "
   ]
  },
  {
   "cell_type": "code",
   "execution_count": null,
   "metadata": {},
   "outputs": [],
   "source": [
    "r_exp = []\n",
    "n = np.array([1000, 10000])\n",
    "N = np.array([x for x in range(1, 65)])\n",
    "for x in n:\n",
    "    r_n = []\n",
    "    for y in N:\n",
    "        for z in range(10):\n",
    "            num_unique = unique_values_experiment(x, y, z)\n",
    "            r_n.append(num_unique)\n",
    "    r_exp.append(r_n)   "
   ]
  },
  {
   "cell_type": "markdown",
   "metadata": {},
   "source": [
    "The results of the experiment can be plotted into the following graphs."
   ]
  },
  {
   "cell_type": "code",
   "execution_count": null,
   "metadata": {},
   "outputs": [],
   "source": [
    "plt.title('Experiment: n = 1000')\n",
    "plt.plot(r_exp[0])\n",
    "plt.tight_layout()\n",
    "plt.show()\n",
    "\n",
    "plt.title('Experiment: n = 10000')\n",
    "plt.plot(r_exp[1])\n",
    "plt.tight_layout()\n",
    "plt.show()"
   ]
  },
  {
   "cell_type": "markdown",
   "metadata": {},
   "source": [
    "## **Our Formula**\n",
    "\n",
    "We can generalize the experimental results into the following formula:\n",
    "```\n",
    "unique_values(n,N) = n - (n - N(1 - ((N-1)/N)^n))\n",
    "```\n",
    "\n",
    "The above formula is an adaptation of a formula for the birthday collission problem / the hash collision problem.\n",
    "\n",
    "`unique_values`  \n",
    "    This function computes the number of unique values by implementing the the formula shown above. In order to do this it uses the following parameters:\n",
    "   * `n` - the length of the sequence to be generated.\n",
    "   * `N` - the maximum value an item in the sequence may have."
   ]
  },
  {
   "cell_type": "code",
   "execution_count": null,
   "metadata": {},
   "outputs": [],
   "source": [
    "def unique_values(n, N):\n",
    "    prediction = n - (n - N*(1 - ((N-1)/N)**n))\n",
    "    return prediction"
   ]
  },
  {
   "cell_type": "markdown",
   "metadata": {},
   "source": [
    "We repeat the experiment conducted in the previous section, but this time we use the function `unique_values` instead of `unique_values_experiment` to generate the expected number of unique values for a given combination of `n` and `N`. By using the same experimental setup we can directly compare the accuracy of our formula with the actual experimental results."
   ]
  },
  {
   "cell_type": "code",
   "execution_count": null,
   "metadata": {},
   "outputs": [],
   "source": [
    "r_pred = []\n",
    "for x in n:\n",
    "    r_n = []\n",
    "    for y in N:\n",
    "        for z in range(10):\n",
    "            num_unique = unique_values(x, y*x)\n",
    "            r_n.append(num_unique)\n",
    "    r_pred.append(r_n)"
   ]
  },
  {
   "cell_type": "markdown",
   "metadata": {},
   "source": [
    "This formula results in the following graphs."
   ]
  },
  {
   "cell_type": "code",
   "execution_count": null,
   "metadata": {},
   "outputs": [],
   "source": [
    "plt.plot(r_pred[0])\n",
    "plt.title('Formula: n = 1000')\n",
    "plt.tight_layout()\n",
    "plt.show()\n",
    "\n",
    "plt.plot(r_pred[1])\n",
    "plt.title('Formula: n = 10000')\n",
    "plt.tight_layout()\n",
    "plt.show()"
   ]
  },
  {
   "cell_type": "markdown",
   "metadata": {},
   "source": [
    "## **Comparison**\n",
    "\n",
    "We can then plot the graphs together to see how the formula aligns to the experimental results."
   ]
  },
  {
   "cell_type": "code",
   "execution_count": null,
   "metadata": {},
   "outputs": [],
   "source": [
    "plt.title('Comparison: n = 1000')\n",
    "plt.plot(r_exp[0],'-.',label=\"Experiment\")\n",
    "plt.plot(r_pred[0],'-.',label=\"Formula\")\n",
    "plt.legend()\n",
    "plt.tight_layout()\n",
    "plt.show()\n",
    "\n",
    "plt.title('Comparison: n = 10000')\n",
    "plt.plot(r_exp[1],'-.',label=\"Experiment\")\n",
    "plt.plot(r_pred[1],'-.',label=\"Formula\")\n",
    "plt.legend()\n",
    "plt.tight_layout()\n",
    "plt.show()"
   ]
  },
  {
   "cell_type": "markdown",
   "metadata": {},
   "source": [
    "## **Conclusion**\n",
    "\n",
    "As seen in the graphs, above the formula we have computed closely matches the experimental values generated in the test. Thus we can conclude that the formula is a good approximation of the number of unique values we can expect in a list of `n` values with a value between 0 and `N`."
   ]
  }
 ],
 "metadata": {
  "kernelspec": {
   "display_name": "Python 3",
   "language": "python",
   "name": "python3"
  },
  "language_info": {
   "codemirror_mode": {
    "name": "ipython",
    "version": 3
   },
   "file_extension": ".py",
   "mimetype": "text/x-python",
   "name": "python",
   "nbconvert_exporter": "python",
   "pygments_lexer": "ipython3",
   "version": "3.7.4"
  }
 },
 "nbformat": 4,
 "nbformat_minor": 2
}
