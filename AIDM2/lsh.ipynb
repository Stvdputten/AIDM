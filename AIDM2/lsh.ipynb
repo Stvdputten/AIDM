{
 "cells": [
  {
   "cell_type": "markdown",
   "metadata": {},
   "source": [
    "\n",
    "\n",
    "## **Advances in Data Mining**\n",
    "\n",
    "Stephan van der Putten | (s1528459) | stvdputtenjur@gmail.com  \n",
    "Theo Baart | s2370328 | s2370328@student.leidenuniv.nl\n",
    "\n",
    "### **Assignment 2**\n",
    "This assignment is concerned with finding the set of similar users in the provided datasource. To be more explicit, in finding all pairs of users who have a Jaccard similarity of more than 0.5. Additionally, this assignment considers comparing the \"naïve implementation\" with the \"LSH implementation\". The \"naïve implementation\" can be found in the file `time_estimate.ipynb` and the \"LSH implementation\" in the file `lsh.ipynb`.\n",
    "\n",
    "Note all implementations are based on the assignment guidelines and helper files given as well as the documentation of the used functions. \n",
    "\n",
    "\n",
    "POSSIBLE SOURCES:\n",
    "<http://www.hcbravo.org/dscert-mldm/projects/project_1/>\n",
    "<https://colab.research.google.com/drive/1HetBrWFRYqwUxn0v7wIwS7COBaNmusfD#scrollTo=hzPw8EMoW4i4&forceEdit=true&sandboxMode=true>\n",
    "\n",
    "\n",
    "#### **LSH Implementation**\n",
    "This notebook implements LSH in order to find all pairs of users with a Jaccard similarity of more than 0.5. As noted in the assignment instructions the data file is loaded from `user_movie.npy` and the list of user pairs are printed in the file `ans.txt`. Additionally, this implementation supports the setting of a random seed to determine the permutations to be used in LSH. The algorithm will continually save its output so as to aid in the evluation criteria which only looks at the first 15 minutes of the LSH execution.\n",
    "___"
   ]
  },
  {
   "cell_type": "markdown",
   "metadata": {},
   "source": [
    "The following snippet handles all imports."
   ]
  },
  {
   "cell_type": "code",
   "execution_count": 1,
   "metadata": {
    "pycharm": {
     "is_executing": false
    },
    "scrolled": true
   },
   "outputs": [],
   "source": [
    "import time\n",
    "import sys\n",
    "import numpy as np\n",
    "import pandas as pd\n",
    "from scipy.sparse import csr_matrix, csc_matrix, coo_matrix, lil_matrix, find\n",
    "from scipy.sparse import identity\n",
    "from collections import defaultdict"
   ]
  },
  {
   "cell_type": "markdown",
   "metadata": {},
   "source": [
    "### **Program Execution**\n",
    "This section is concerned with parsing the input arguments and determining the execution flow of the program.\n",
    "\n",
    "___\n",
    "The `main` function handles the start of execution from the command line.\n",
    "\n",
    "In order to do this the function uses the following parameters:\n",
    "  * `argv` - the command line arguments given to the program\n",
    "  \n",
    "The following command line arguments are expected:\n",
    "  * `seed` - the value to use as random seed\n",
    "  * `path` - the location of the `user_movies.npy` file"
   ]
  },
  {
   "cell_type": "code",
   "execution_count": 2,
   "metadata": {
    "pycharm": {
     "is_executing": false
    },
    "scrolled": true
   },
   "outputs": [],
   "source": [
    "user_movie = np.load('datasets/user_movie.npy')"
   ]
  },
  {
   "cell_type": "code",
   "execution_count": null,
   "metadata": {
    "pycharm": {
     "is_executing": false
    },
    "scrolled": true
   },
   "outputs": [],
   "source": [
    "%%time\n",
    "c = user_movie[:,0]\n",
    "r = user_movie[:,1]\n",
    "d = np.ones(len(c))\n",
    "max_c = len(np.unique(c))\n",
    "max_r = len(np.unique(r))\n",
    "# m = csr_matrix((d, (r,c)), shape=(max_r, max_c))\n",
    "csc = csc_matrix((d, (r,c)), shape=(max_r, max_c))\n",
    "csr = csr_matrix((d, (r,c)), shape=(max_r, max_c))\n",
    "signature_length = 50\n",
    "\n",
    "# example = np.array([[1,0,0,1],[0,0,1,0],[0,1,0,1],[1,0,1,0],[0,0,1,0]])\n",
    "# hash_func = np.array([[4,3,1,2,0], [3,0,4,2,1]])"
   ]
  },
  {
   "cell_type": "code",
   "execution_count": 100,
   "metadata": {
    "scrolled": true
   },
   "outputs": [],
   "source": [
    "example = np.array([[1,0,0,1,1,0,0,1],[0,0,1,0,0,0,1,0],[0,0,1,0,0,0,1,0],[0,1,0,1,1,0,0,1],[1,0,1,0,1,0,1,0],[0,1,1,1,1,1,0,1]])\n",
    "hash_func = np.array([[5,4,3,1,2,0],[3,1,2,0,5,4],[1,2,0,5,4,3],[2,0,5,4,3,1],[0,5,4,3,1,2],[3,0,4,2,1,5],[0,4,2,1,5,3],[4,2,1,5,3,0],[2,1,5,3,0,4]])\n",
    "c = csr_matrix(example)\n",
    "s = rowminhash(9, hash_func, c)"
   ]
  },
  {
   "cell_type": "code",
   "execution_count": 101,
   "metadata": {
    "scrolled": true
   },
   "outputs": [
    {
     "data": {
      "text/plain": [
       "matrix([[1, 0, 0, 1, 1, 0, 0, 1],\n",
       "        [0, 0, 1, 0, 0, 0, 1, 0],\n",
       "        [0, 0, 1, 0, 0, 0, 1, 0],\n",
       "        [0, 1, 0, 1, 1, 0, 0, 1],\n",
       "        [1, 0, 1, 0, 1, 0, 1, 0],\n",
       "        [0, 1, 1, 1, 1, 1, 0, 1]], dtype=int32)"
      ]
     },
     "metadata": {},
     "output_type": "display_data"
    },
    {
     "data": {
      "text/plain": [
       "array([[5, 4, 3, 1, 2, 0],\n",
       "       [3, 1, 2, 0, 5, 4],\n",
       "       [1, 2, 0, 5, 4, 3],\n",
       "       [2, 0, 5, 4, 3, 1],\n",
       "       [0, 5, 4, 3, 1, 2],\n",
       "       [3, 0, 4, 2, 1, 5],\n",
       "       [0, 4, 2, 1, 5, 3],\n",
       "       [4, 2, 1, 5, 3, 0],\n",
       "       [2, 1, 5, 3, 0, 4]])"
      ]
     },
     "metadata": {},
     "output_type": "display_data"
    },
    {
     "data": {
      "text/plain": [
       "array([[2., 0., 0., 0., 0., 0., 2., 0.],\n",
       "       [3., 0., 1., 0., 0., 4., 1., 0.],\n",
       "       [1., 3., 0., 1., 1., 3., 0., 1.],\n",
       "       [2., 1., 0., 1., 1., 1., 0., 1.],\n",
       "       [0., 2., 1., 0., 0., 2., 1., 0.],\n",
       "       [1., 2., 0., 2., 1., 5., 0., 2.],\n",
       "       [0., 1., 2., 0., 0., 3., 2., 0.],\n",
       "       [3., 0., 0., 0., 0., 0., 1., 0.],\n",
       "       [0., 3., 0., 2., 0., 4., 0., 2.]])"
      ]
     },
     "metadata": {},
     "output_type": "display_data"
    }
   ],
   "source": [
    "display(c.todense())\n",
    "display(hash_func)\n",
    "display(s)"
   ]
  },
  {
   "cell_type": "code",
   "execution_count": 3,
   "metadata": {
    "jupyter": {
     "outputs_hidden": false
    },
    "pycharm": {
     "is_executing": false,
     "name": "#%%\n"
    },
    "scrolled": true
   },
   "outputs": [],
   "source": [
    "def rowminhash(signature_length, hash_func, matrix):\n",
    "    sigm = np.full((signature_length, matrix.shape[1]), np.inf)\n",
    "    for row in range(matrix.shape[0]):\n",
    "        ones = find(matrix[row, :])[1]\n",
    "        hash = hash_func[:,row]\n",
    "        B = sigm.copy()\n",
    "        B[:,ones] = 1\n",
    "        B[:,ones] = np.multiply(B[:,ones], hash.reshape((len(hash), 1)))\n",
    "        sigm = np.minimum(sigm, B)\n",
    "    return(sigm)"
   ]
  },
  {
   "cell_type": "code",
   "execution_count": 4,
   "metadata": {
    "jupyter": {
     "outputs_hidden": false
    },
    "pycharm": {
     "is_executing": false,
     "name": "#%%\n"
    },
    "scrolled": true
   },
   "outputs": [],
   "source": [
    "import scipy.optimize as opt\n",
    "import math\n",
    "\n",
    "def choose_nbands(t, n):\n",
    "    def error_fun(x):\n",
    "        cur_t = (1/x[0])**(x[0]/n)\n",
    "        return (t-cur_t)**2\n",
    "\n",
    "    opt_res = opt.minimize(error_fun, x0=(10), method='Nelder-Mead')\n",
    "    b = int(math.ceil(opt_res['x'][0]))\n",
    "#     r = int(n / b)\n",
    "    r = round(n / b)\n",
    "    final_t = (1/b)**(1/r)\n",
    "    return b, final_t\n",
    "\n",
    "\n",
    "\n",
    "\n",
    "def do_lsh(sign_matrix, signature_length, threshold):\n",
    "    return 0"
   ]
  },
  {
   "cell_type": "code",
   "execution_count": 138,
   "metadata": {
    "scrolled": true
   },
   "outputs": [],
   "source": [
    "def make_random_hash_fn(p=2**31-1, m=4294967295):\n",
    "# def make_random_hash_fn(p=2**33-355, m=4294967295):\n",
    "    a = np.random.randint(1,p-1)\n",
    "    b = np.random.randint(0, p-1)\n",
    "    return lambda x: ((a * x + b) % p) % m"
   ]
  },
  {
   "cell_type": "code",
   "execution_count": 139,
   "metadata": {},
   "outputs": [],
   "source": [
    "hf = make_random_hash_fn"
   ]
  },
  {
   "cell_type": "code",
   "execution_count": 150,
   "metadata": {},
   "outputs": [
    {
     "name": "stdout",
     "output_type": "stream",
     "text": [
      "7431932759269154899\n"
     ]
    },
    {
     "ename": "ValueError",
     "evalue": "high is out of bounds for int32",
     "output_type": "error",
     "traceback": [
      "\u001b[1;31m---------------------------------------------------------------------------\u001b[0m",
      "\u001b[1;31mValueError\u001b[0m                                Traceback (most recent call last)",
      "\u001b[1;32m<ipython-input-150-7110fd3241c5>\u001b[0m in \u001b[0;36m<module>\u001b[1;34m\u001b[0m\n\u001b[0;32m      1\u001b[0m \u001b[0ms\u001b[0m \u001b[1;33m=\u001b[0m \u001b[0mhash\u001b[0m\u001b[1;33m(\u001b[0m\u001b[1;34m'hi'\u001b[0m\u001b[1;33m)\u001b[0m\u001b[1;33m\u001b[0m\u001b[1;33m\u001b[0m\u001b[0m\n\u001b[0;32m      2\u001b[0m \u001b[0mprint\u001b[0m\u001b[1;33m(\u001b[0m\u001b[0ms\u001b[0m\u001b[1;33m)\u001b[0m\u001b[1;33m\u001b[0m\u001b[1;33m\u001b[0m\u001b[0m\n\u001b[1;32m----> 3\u001b[1;33m \u001b[0mh\u001b[0m \u001b[1;33m=\u001b[0m \u001b[0mhf\u001b[0m\u001b[1;33m(\u001b[0m\u001b[0ms\u001b[0m\u001b[1;33m)\u001b[0m\u001b[1;33m\u001b[0m\u001b[1;33m\u001b[0m\u001b[0m\n\u001b[0m\u001b[0;32m      4\u001b[0m \u001b[0mprint\u001b[0m\u001b[1;33m(\u001b[0m\u001b[0mh\u001b[0m\u001b[1;33m)\u001b[0m\u001b[1;33m\u001b[0m\u001b[1;33m\u001b[0m\u001b[0m\n",
      "\u001b[1;32m<ipython-input-138-d81873cf3bed>\u001b[0m in \u001b[0;36mmake_random_hash_fn\u001b[1;34m(p, m)\u001b[0m\n\u001b[0;32m      1\u001b[0m \u001b[1;32mdef\u001b[0m \u001b[0mmake_random_hash_fn\u001b[0m\u001b[1;33m(\u001b[0m\u001b[0mp\u001b[0m\u001b[1;33m=\u001b[0m\u001b[1;36m2\u001b[0m\u001b[1;33m**\u001b[0m\u001b[1;36m31\u001b[0m\u001b[1;33m-\u001b[0m\u001b[1;36m1\u001b[0m\u001b[1;33m,\u001b[0m \u001b[0mm\u001b[0m\u001b[1;33m=\u001b[0m\u001b[1;36m4294967295\u001b[0m\u001b[1;33m)\u001b[0m\u001b[1;33m:\u001b[0m\u001b[1;33m\u001b[0m\u001b[1;33m\u001b[0m\u001b[0m\n\u001b[0;32m      2\u001b[0m \u001b[1;31m# def make_random_hash_fn(p=2**33-355, m=4294967295):\u001b[0m\u001b[1;33m\u001b[0m\u001b[1;33m\u001b[0m\u001b[1;33m\u001b[0m\u001b[0m\n\u001b[1;32m----> 3\u001b[1;33m     \u001b[0ma\u001b[0m \u001b[1;33m=\u001b[0m \u001b[0mnp\u001b[0m\u001b[1;33m.\u001b[0m\u001b[0mrandom\u001b[0m\u001b[1;33m.\u001b[0m\u001b[0mrandint\u001b[0m\u001b[1;33m(\u001b[0m\u001b[1;36m1\u001b[0m\u001b[1;33m,\u001b[0m\u001b[0mp\u001b[0m\u001b[1;33m-\u001b[0m\u001b[1;36m1\u001b[0m\u001b[1;33m)\u001b[0m\u001b[1;33m\u001b[0m\u001b[1;33m\u001b[0m\u001b[0m\n\u001b[0m\u001b[0;32m      4\u001b[0m     \u001b[0mb\u001b[0m \u001b[1;33m=\u001b[0m \u001b[0mnp\u001b[0m\u001b[1;33m.\u001b[0m\u001b[0mrandom\u001b[0m\u001b[1;33m.\u001b[0m\u001b[0mrandint\u001b[0m\u001b[1;33m(\u001b[0m\u001b[1;36m0\u001b[0m\u001b[1;33m,\u001b[0m \u001b[0mp\u001b[0m\u001b[1;33m-\u001b[0m\u001b[1;36m1\u001b[0m\u001b[1;33m)\u001b[0m\u001b[1;33m\u001b[0m\u001b[1;33m\u001b[0m\u001b[0m\n\u001b[0;32m      5\u001b[0m     \u001b[1;32mreturn\u001b[0m \u001b[1;32mlambda\u001b[0m \u001b[0mx\u001b[0m\u001b[1;33m:\u001b[0m \u001b[1;33m(\u001b[0m\u001b[1;33m(\u001b[0m\u001b[0ma\u001b[0m \u001b[1;33m*\u001b[0m \u001b[0mx\u001b[0m \u001b[1;33m+\u001b[0m \u001b[0mb\u001b[0m\u001b[1;33m)\u001b[0m \u001b[1;33m%\u001b[0m \u001b[0mp\u001b[0m\u001b[1;33m)\u001b[0m \u001b[1;33m%\u001b[0m \u001b[0mm\u001b[0m\u001b[1;33m\u001b[0m\u001b[1;33m\u001b[0m\u001b[0m\n",
      "\u001b[1;32mmtrand.pyx\u001b[0m in \u001b[0;36mmtrand.RandomState.randint\u001b[1;34m()\u001b[0m\n",
      "\u001b[1;31mValueError\u001b[0m: high is out of bounds for int32"
     ]
    }
   ],
   "source": [
    "s = hash('hi')\n",
    "print(s)\n",
    "h = hf(s)\n",
    "print(h)"
   ]
  },
  {
   "cell_type": "code",
   "execution_count": 162,
   "metadata": {
    "scrolled": true
   },
   "outputs": [],
   "source": [
    "import hashlib\n",
    "import random\n",
    "from collections import defaultdict\n",
    "def lsh_r_bucket_to_id(sigm,id,b,r,numhashes):\n",
    "#     print(sigm)\n",
    "#     u=sigm.T\n",
    "#     print(u)\n",
    "#     return\n",
    "    u = sigm\n",
    "    id = np.array(id)\n",
    "#     number_of_users = u.shape[0]\n",
    "    number_of_users = sigm.shape[1]\n",
    "    buckets = [dict() for x in range(b)]\n",
    "#     hash_buckets = [dict() for x in range(b)]\n",
    "    hash_buckets = defaultdict(list)\n",
    "#     buckets = []\n",
    "    hf = make_random_hash_fn()\n",
    "    t1 = time.time()    \n",
    "    for i in range(number_of_users):\n",
    "        if i % 10000==0:\n",
    "            print(str(round(100*i/number_of_users,2))+' percent complete in '+str(round(time.time()-t1,2))+ ' seconds')\n",
    "#         row = u[i,:]  \n",
    "        row = u[:,i] \n",
    "        for j in range(b):\n",
    "            r_signature = str(row[j*r:(j+1)*r])\n",
    "            r_hash = hash(r_signature)\n",
    "#             print(r_signature)\n",
    "#             print(r_hash)\n",
    "#             r_hash = int(hashlib.sha1(r_signature.encode()).hexdigest()[:8], 16)\n",
    "            r_hash = hf(r_hash)# ^ h_r\n",
    "#             print(r_signature.shape)\n",
    "#             print(r_hash)\n",
    "#             return 0\n",
    "            hash_buckets[r_hash].append(id[i])\n",
    "#             if r_hash in hash_buckets[j]:\n",
    "#                 hash_buckets[j][r_hash] = hash_buckets[j][r_hash]+[id[i]]\n",
    "#             else :\n",
    "#                 hash_buckets[j][r_hash] = [id[i]]\n",
    "#             if r_signature in buckets[j]:\n",
    "#                 buckets[j][r_signature] = buckets[j][r_signature]+[id[i]]\n",
    "#             else :\n",
    "#                 buckets[j][r_signature] = [id[i]]\n",
    "    hash_buckets_set = {k: set(v) for k,v in hash_buckets.items()}\n",
    "    return hash_buckets_set#buckets"
   ]
  },
  {
   "cell_type": "code",
   "execution_count": 118,
   "metadata": {
    "scrolled": true
   },
   "outputs": [],
   "source": [
    "# sigm100 = np.load('datasets/sign_matrix_100.npy')\n",
    "sigm50 = np.load('datasets/sign_matrix.npy')"
   ]
  },
  {
   "cell_type": "code",
   "execution_count": null,
   "metadata": {
    "scrolled": true
   },
   "outputs": [],
   "source": [
    "# Tests multiple values of b and r and returns those with .1 of our ideal t value\n",
    "#TODO make function and auto generate b/r\n",
    "for b in range(1,15):\n",
    "    r = int(numhashes / b)\n",
    "    for r_i in range (r-2,r+3):\n",
    "        t = (1/b)**(1/r_i)\n",
    "        if t > 0.4 and t < 0.6:\n",
    "            print(b,r_i,t)"
   ]
  },
  {
   "cell_type": "code",
   "execution_count": 163,
   "metadata": {
    "scrolled": true
   },
   "outputs": [
    {
     "name": "stdout",
     "output_type": "stream",
     "text": [
      "52 vs 50\n",
      "0.5266403878479267 13 4\n",
      "0.0 percent complete in 0.0 seconds\n",
      "9.64 percent complete in 16.02 seconds\n",
      "19.29 percent complete in 33.82 seconds\n",
      "28.93 percent complete in 49.26 seconds\n",
      "38.57 percent complete in 65.9 seconds\n",
      "48.21 percent complete in 82.13 seconds\n",
      "57.86 percent complete in 101.35 seconds\n",
      "67.5 percent complete in 116.98 seconds\n",
      "77.14 percent complete in 133.21 seconds\n",
      "86.79 percent complete in 154.04 seconds\n",
      "96.43 percent complete in 170.41 seconds\n"
     ]
    }
   ],
   "source": [
    "sigm = sigm50\n",
    "threshold=0.57 # overshoot so as to get a similarity matrix closer to 0.5\n",
    "numhashes = sigm.shape[0]\n",
    "# b, _ = choose_nbands(threshold, numhashes)\n",
    "b = 13\n",
    "r = 4\n",
    "# b = 3\n",
    "# r = 3\n",
    "print(b*r,'vs',numhashes)\n",
    "# r = round(numhashes / b)\n",
    "threshold = (1/b)**(1/r)\n",
    "print(threshold,b,r)\n",
    "user_ids = np.array(list(range(sigm.shape[1])))\n",
    "buckets = lsh_r_bucket_to_id(sigm,user_ids,b,r,numhashes)"
   ]
  },
  {
   "cell_type": "code",
   "execution_count": 157,
   "metadata": {},
   "outputs": [
    {
     "name": "stdout",
     "output_type": "stream",
     "text": [
      "3503486605907668772\n"
     ]
    },
    {
     "data": {
      "text/plain": [
       "-3378229029050999201"
      ]
     },
     "execution_count": 157,
     "metadata": {},
     "output_type": "execute_result"
    }
   ],
   "source": []
  },
  {
   "cell_type": "code",
   "execution_count": 97,
   "metadata": {
    "scrolled": true
   },
   "outputs": [
    {
     "name": "stdout",
     "output_type": "stream",
     "text": [
      "s.t [[2. 3. 1. 2. 0. 1. 0. 3. 0.]\n",
      " [0. 0. 3. 1. 2. 2. 1. 0. 3.]\n",
      " [0. 1. 0. 0. 1. 0. 2. 0. 0.]\n",
      " [0. 0. 1. 1. 0. 2. 0. 0. 2.]\n",
      " [0. 0. 1. 1. 0. 1. 0. 0. 0.]\n",
      " [0. 4. 3. 1. 2. 5. 3. 0. 4.]\n",
      " [2. 1. 0. 0. 1. 0. 2. 1. 0.]\n",
      " [0. 0. 1. 1. 0. 2. 0. 0. 2.]]\n",
      "defaultdict(<class 'list'>, {'[2. 3. 1.]': [0], '[2. 0. 1.]': [0], '[0. 3. 0.]': [0], '[0. 0. 3.]': [1], '[1. 2. 2.]': [1], '[1. 0. 3.]': [1], '[0. 1. 0.]': [2, 2, 6], '[2. 0. 0.]': [2], '[0. 0. 1.]': [3, 4, 7], '[1. 0. 2.]': [3, 7], '[0. 0. 2.]': [3, 7], '[1. 0. 1.]': [4], '[0. 0. 0.]': [4], '[0. 4. 3.]': [5], '[1. 2. 5.]': [5], '[3. 0. 4.]': [5], '[2. 1. 0.]': [6, 6]})\n",
      "{'[2. 3. 1.]': {0}, '[2. 0. 1.]': {0}, '[0. 3. 0.]': {0}, '[0. 0. 3.]': {1}, '[1. 2. 2.]': {1}, '[1. 0. 3.]': {1}, '[0. 1. 0.]': {2, 6}, '[2. 0. 0.]': {2}, '[0. 0. 1.]': {3, 4, 7}, '[1. 0. 2.]': {3, 7}, '[0. 0. 2.]': {3, 7}, '[1. 0. 1.]': {4}, '[0. 0. 0.]': {4}, '[0. 4. 3.]': {5}, '[1. 2. 5.]': {5}, '[3. 0. 4.]': {5}, '[2. 1. 0.]': {6}}\n"
     ]
    }
   ],
   "source": [
    "from collections import defaultdict\n",
    "hf = make_random_hash_fn()\n",
    "n_b = 3\n",
    "n_r = 3\n",
    "t = s.T\n",
    "bu = dd(list)\n",
    "# print('s',s)\n",
    "print('s.t',t)\n",
    "for i in range(8):\n",
    "#     r = t[i,:]\n",
    "    c = s[:,i]\n",
    "    r = c\n",
    "#     print(r)\n",
    "    # print(c)\n",
    "    for b in range(n_b):\n",
    "        r_s = r[b*n_r:(b+1)*n_r]\n",
    "#         print(r_s)\n",
    "        r_h = str(r_s)\n",
    "#         r_h = hf(hash(str(r_s)))\n",
    "#         print(r_h)\n",
    "        bu[r_h].append(i)\n",
    "#         bu[b][r_h] = bu[b][r_h]+[i]\n",
    "print(bu)\n",
    "bu_s = {k: set(v) for k,v in bu.items()}\n",
    "print(bu_s)"
   ]
  },
  {
   "cell_type": "code",
   "execution_count": 160,
   "metadata": {
    "scrolled": true
   },
   "outputs": [
    {
     "name": "stdout",
     "output_type": "stream",
     "text": [
      "no_buckets: 498112\n",
      "no_candidate_buckets 120311\n",
      "max_bucket_size: 0\n",
      "no_pairs: 0\n",
      "pairs: set()\n",
      "Wall time: 7min 4s\n"
     ]
    }
   ],
   "source": [
    "%%time\n",
    "import itertools as it\n",
    "pairs = set()\n",
    "max_l = 0\n",
    "# for b in range(len(buckets)):\n",
    "#     print('band:',b)\n",
    "sub_buckets = buckets\n",
    "print('no_buckets:',len(sub_buckets))\n",
    "short_buckets = {k: v for k, v in sub_buckets.items() if len(v) >= 2}\n",
    "print('no_candidate_buckets',len(short_buckets))\n",
    "i = 0\n",
    "# for v in short_buckets.values():\n",
    "#     if len(v) > max_l:\n",
    "#         max_l = len(v)\n",
    "# #         print(i,len(v))\n",
    "#     pairs.update(set(it.combinations(v,2)))\n",
    "# #         i += 1\n",
    "# #         if i == 100:\n",
    "# #             break\n",
    "print('max_bucket_size:',max_l)\n",
    "print('no_pairs:',len(pairs))\n",
    "print('pairs:',pairs)"
   ]
  },
  {
   "cell_type": "code",
   "execution_count": 161,
   "metadata": {},
   "outputs": [
    {
     "data": {
      "text/plain": [
       "{-9223094484734418285: {52472, 58753, 84248},\n",
       " -9222974050898379094: {457,\n",
       "  7199,\n",
       "  8132,\n",
       "  14416,\n",
       "  18338,\n",
       "  21690,\n",
       "  28909,\n",
       "  30818,\n",
       "  35018,\n",
       "  38277,\n",
       "  39685,\n",
       "  40053,\n",
       "  40379,\n",
       "  41855,\n",
       "  50486,\n",
       "  55436,\n",
       "  58742,\n",
       "  66894,\n",
       "  70341,\n",
       "  75374,\n",
       "  76171,\n",
       "  82890,\n",
       "  83861,\n",
       "  85429,\n",
       "  86123,\n",
       "  88068,\n",
       "  93008,\n",
       "  97156,\n",
       "  97316},\n",
       " -9222930170988853674: {3893,\n",
       "  8766,\n",
       "  13493,\n",
       "  17374,\n",
       "  22121,\n",
       "  36759,\n",
       "  38234,\n",
       "  45760,\n",
       "  50028,\n",
       "  50676,\n",
       "  53207,\n",
       "  63354,\n",
       "  75684,\n",
       "  77106,\n",
       "  79117,\n",
       "  88435,\n",
       "  90271,\n",
       "  97334,\n",
       "  99259},\n",
       " -9222693069484048805: {6603, 28523, 49473, 84610},\n",
       " -9222503931554967014: {27808, 38363, 73242, 82109, 89393},\n",
       " -9222461699450372472: {15302, 101127},\n",
       " -9222321469531856744: {55017, 73721},\n",
       " -9222321243107868221: {25393, 80165},\n",
       " -9221776363504249545: {55556, 94358, 101957},\n",
       " -9221712686992875266: {79635, 101160},\n",
       " -9221698087874820231: {21745, 64302},\n",
       " -9221648556140564222: {7884, 46379},\n",
       " -9221601800765036966: {230,\n",
       "  16395,\n",
       "  19804,\n",
       "  24495,\n",
       "  35111,\n",
       "  35716,\n",
       "  37557,\n",
       "  45343,\n",
       "  49951,\n",
       "  75407,\n",
       "  95292,\n",
       "  97999},\n",
       " -9221318216885869942: {12182,\n",
       "  13225,\n",
       "  48393,\n",
       "  62521,\n",
       "  75246,\n",
       "  85660,\n",
       "  94919,\n",
       "  102543},\n",
       " -9220437321541334745: {1548,\n",
       "  6581,\n",
       "  9596,\n",
       "  12296,\n",
       "  14605,\n",
       "  18222,\n",
       "  18832,\n",
       "  22814,\n",
       "  47369,\n",
       "  50823,\n",
       "  58759,\n",
       "  69137,\n",
       "  78267,\n",
       "  79305,\n",
       "  85056,\n",
       "  101951},\n",
       " -9220332832535121924: {5472, 12855, 41669, 45245, 64320, 82981, 90175, 95433},\n",
       " -9220089906247898900: {52950, 74850},\n",
       " -9220065329745693618: {966,\n",
       "  1711,\n",
       "  1766,\n",
       "  2221,\n",
       "  2562,\n",
       "  2678,\n",
       "  3794,\n",
       "  4338,\n",
       "  5636,\n",
       "  5754,\n",
       "  6029,\n",
       "  6606,\n",
       "  8083,\n",
       "  8498,\n",
       "  9054,\n",
       "  9295,\n",
       "  9451,\n",
       "  9769,\n",
       "  9841,\n",
       "  10290,\n",
       "  10431,\n",
       "  11109,\n",
       "  11828,\n",
       "  13026,\n",
       "  13277,\n",
       "  13747,\n",
       "  13750,\n",
       "  14716,\n",
       "  15939,\n",
       "  15951,\n",
       "  16142,\n",
       "  18344,\n",
       "  18632,\n",
       "  18634,\n",
       "  18658,\n",
       "  18869,\n",
       "  19084,\n",
       "  21829,\n",
       "  22649,\n",
       "  22680,\n",
       "  23690,\n",
       "  23912,\n",
       "  24705,\n",
       "  24964,\n",
       "  27110,\n",
       "  27150,\n",
       "  27385,\n",
       "  28222,\n",
       "  28363,\n",
       "  28739,\n",
       "  28746,\n",
       "  29618,\n",
       "  30243,\n",
       "  30672,\n",
       "  31008,\n",
       "  31371,\n",
       "  31703,\n",
       "  32504,\n",
       "  33697,\n",
       "  33779,\n",
       "  34125,\n",
       "  36354,\n",
       "  37740,\n",
       "  37899,\n",
       "  38773,\n",
       "  39704,\n",
       "  40257,\n",
       "  42262,\n",
       "  42456,\n",
       "  43147,\n",
       "  43838,\n",
       "  45418,\n",
       "  47216,\n",
       "  47483,\n",
       "  48247,\n",
       "  49234,\n",
       "  50230,\n",
       "  51170,\n",
       "  51417,\n",
       "  52300,\n",
       "  54351,\n",
       "  54589,\n",
       "  54693,\n",
       "  55310,\n",
       "  55779,\n",
       "  55949,\n",
       "  56198,\n",
       "  56523,\n",
       "  59041,\n",
       "  59587,\n",
       "  59966,\n",
       "  61630,\n",
       "  63998,\n",
       "  64775,\n",
       "  66835,\n",
       "  67980,\n",
       "  68493,\n",
       "  70533,\n",
       "  70711,\n",
       "  71256,\n",
       "  71260,\n",
       "  71364,\n",
       "  72342,\n",
       "  72712,\n",
       "  73502,\n",
       "  76835,\n",
       "  77057,\n",
       "  78174,\n",
       "  78250,\n",
       "  78402,\n",
       "  78735,\n",
       "  80775,\n",
       "  81151,\n",
       "  81912,\n",
       "  82120,\n",
       "  82942,\n",
       "  83307,\n",
       "  83469,\n",
       "  83555,\n",
       "  85062,\n",
       "  85111,\n",
       "  87386,\n",
       "  87726,\n",
       "  88093,\n",
       "  88137,\n",
       "  88564,\n",
       "  89119,\n",
       "  89609,\n",
       "  90555,\n",
       "  90861,\n",
       "  91301,\n",
       "  91619,\n",
       "  93101,\n",
       "  94594,\n",
       "  96722,\n",
       "  96940,\n",
       "  97943,\n",
       "  98244,\n",
       "  98329,\n",
       "  98416,\n",
       "  98773,\n",
       "  99097,\n",
       "  99366,\n",
       "  99943,\n",
       "  100278,\n",
       "  100496,\n",
       "  100518,\n",
       "  101361,\n",
       "  101643,\n",
       "  102326,\n",
       "  102573,\n",
       "  102862,\n",
       "  103218,\n",
       "  103573},\n",
       " -9219968096576939813: {29165, 41350, 64985, 98363, 100220},\n",
       " -9219933318293094385: {35615, 64712, 82524}}"
      ]
     },
     "execution_count": 161,
     "metadata": {},
     "output_type": "execute_result"
    }
   ],
   "source": [
    "{k: short_buckets[k] for k in sorted(short_buckets.keys())[:20]}"
   ]
  },
  {
   "cell_type": "code",
   "execution_count": null,
   "metadata": {
    "jupyter": {
     "outputs_hidden": false
    },
    "pycharm": {
     "is_executing": false,
     "name": "#%%\n"
    },
    "scrolled": true
   },
   "outputs": [],
   "source": [
    "np.random.seed = 42\n",
    "\n",
    "# example = csr\n",
    "# example = np.array([[1,0,0,1],[0,0,1,0],[0,1,0,1],[1,0,1,0],[0,0,1,0]])\n",
    "# %time sigm1 = minhash(signature_length,hash_func, example)\n",
    "# signature_length = 100\n",
    "# hash_func = np.array([np.random.permutation(csr.shape[0]) for i in range(signature_length)])\n",
    "# %time sigm1 = rowminhash(signature_length ,hash_func, csr)\n",
    "\n",
    "signature_length = 50\n",
    "hash_func = np.array([np.random.permutation(csr.shape[0]) for i in range(signature_length)])\n",
    "%time sigm2 = rowminhash(signature_length,hash_func, csr)\n",
    "# print(sigm2)\n",
    "# np.save('datasets/sign_matrix_100', sigm1)\n",
    "# np.save('datasets/sign_matrix', sigm2)"
   ]
  },
  {
   "cell_type": "code",
   "execution_count": null,
   "metadata": {
    "scrolled": true
   },
   "outputs": [],
   "source": [
    "#TODO write out our results ans.txt \n",
    "#TODO set seed in our perm hash function\n",
    "#TODO Find pairs of similar users from buckets\n",
    "#TODO Elegance aka classes, comments/report/citation\n",
    "#TODO IMPROVE EFFICIENCY FOR LONGER SIGNATURES Time < 15"
   ]
  },
  {
   "cell_type": "code",
   "execution_count": null,
   "metadata": {
    "pycharm": {
     "is_executing": false
    },
    "scrolled": true
   },
   "outputs": [],
   "source": [
    "def main(argv):\n",
    "    seed = sys.argv[1]\n",
    "    path = sys.argv[2]\n",
    "    print(seed, path)"
   ]
  },
  {
   "cell_type": "markdown",
   "metadata": {},
   "source": [
    "The following snippet passes the start of the program and the command line arguments to the `main` function."
   ]
  },
  {
   "cell_type": "code",
   "execution_count": null,
   "metadata": {
    "pycharm": {
     "is_executing": false
    },
    "scrolled": true
   },
   "outputs": [],
   "source": [
    "if __name__ == \"__main__\":\n",
    "    main(sys.argv[1:])"
   ]
  }
 ],
 "metadata": {
  "kernelspec": {
   "display_name": "Python 3",
   "language": "python",
   "name": "python3"
  },
  "language_info": {
   "codemirror_mode": {
    "name": "ipython",
    "version": 3
   },
   "file_extension": ".py",
   "mimetype": "text/x-python",
   "name": "python",
   "nbconvert_exporter": "python",
   "pygments_lexer": "ipython3",
   "version": "3.7.4"
  },
  "pycharm": {
   "stem_cell": {
    "cell_type": "raw",
    "metadata": {
     "collapsed": false
    },
    "source": []
   }
  }
 },
 "nbformat": 4,
 "nbformat_minor": 4
}
