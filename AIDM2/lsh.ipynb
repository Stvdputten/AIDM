{
 "cells": [
  {
   "cell_type": "markdown",
   "metadata": {},
   "source": [
    "\n",
    "\n",
    "## **Advances in Data Mining**\n",
    "\n",
    "Stephan van der Putten | (s1528459) | stvdputtenjur@gmail.com  \n",
    "Theo Baart | s2370328 | s2370328@student.leidenuniv.nl\n",
    "\n",
    "### **Assignment 2**\n",
    "This assignment is concerned with finding the set of similar users in the provided datasource. To be more explicit, in finding all pairs of users who have a Jaccard similarity of more than 0.5. Additionally, this assignment considers comparing the \"naïve implementation\" with the \"LSH implementation\". The \"naïve implementation\" can be found in the file `time_estimate.ipynb` and the \"LSH implementation\" in the file `lsh.ipynb`.\n",
    "\n",
    "Note all implementations are based on the assignment guidelines and helper files given as well as the documentation of the used functions. \n",
    "\n",
    "#### **LSH Implementation**\n",
    "This notebook implements LSH in order to find all pairs of users with a Jaccard similarity of more than 0.5. As noted in the assignment instructions the data file is loaded from `user_movie.npy` and the list of user pairs are printed in the file `ans.txt`. Additionally, this implementation supports the setting of a random seed to determine the permutations to be used in LSH. The algorithm will continually save its output so as to aid in the evluation criteria which only looks at the first 15 minutes of the LSH execution.\n",
    "___"
   ]
  },
  {
   "cell_type": "markdown",
   "metadata": {},
   "source": [
    "The following snippet handles all imports."
   ]
  },
  {
   "cell_type": "code",
   "execution_count": 2,
   "metadata": {
    "pycharm": {
     "is_executing": false
    }
   },
   "outputs": [],
   "source": [
    "import time\n",
    "import sys\n",
    "import numpy as np\n",
    "import pandas as pd\n",
    "from scipy.sparse import csr_matrix, csc_matrix, coo_matrix, lil_matrix, find\n",
    "from scipy.sparse import identity"
   ]
  },
  {
   "cell_type": "markdown",
   "metadata": {},
   "source": [
    "### **Program Execution**\n",
    "This section is concerned with parsing the input arguments and determining the execution flow of the program.\n",
    "\n",
    "___\n",
    "The `main` function handles the start of execution from the command line.\n",
    "\n",
    "In order to do this the function uses the following parameters:\n",
    "  * `argv` - the command line arguments given to the program\n",
    "  \n",
    "The following command line arguments are expected:\n",
    "  * `seed` - the value to use as random seed\n",
    "  * `path` - the location of the `user_movies.npy` file"
   ]
  },
  {
   "cell_type": "code",
   "execution_count": 3,
   "metadata": {
    "pycharm": {
     "is_executing": false
    }
   },
   "outputs": [],
   "source": [
    "user_movie = np.load('datasets/user_movie.npy')"
   ]
  },
  {
   "cell_type": "code",
   "execution_count": 4,
   "metadata": {
    "pycharm": {
     "is_executing": false
    }
   },
   "outputs": [
    {
     "name": "stdout",
     "text": [
      "CPU times: user 16.9 s, sys: 6.65 s, total: 23.6 s\nWall time: 24 s\n"
     ],
     "output_type": "stream"
    }
   ],
   "source": [
    "%%time\n",
    "c = user_movie[:,0]\n",
    "r = user_movie[:,1]\n",
    "d = np.ones(len(c))\n",
    "max_c = len(np.unique(c))\n",
    "max_r = len(np.unique(r))\n",
    "# m = csr_matrix((d, (r,c)), shape=(max_r, max_c))\n",
    "csc = csc_matrix((d, (r,c)), shape=(max_r, max_c))\n",
    "csr = csr_matrix((d, (r,c)), shape=(max_r, max_c))\n",
    "signature_length = 50\n",
    "\n",
    "# example = np.array([[1,0,0,1],[0,0,1,0],[0,1,0,1],[1,0,1,0],[0,0,1,0]])\n",
    "# hash_func = np.array([[4,3,1,2,0], [3,0,4,2,1]])"
   ]
  },
  {
   "cell_type": "code",
   "execution_count": 5,
   "outputs": [],
   "source": [
    "def rowminhash(signature_length, hash_func, matrix):\n",
    "    sigm = np.full((signature_length, matrix.shape[1]), np.inf)\n",
    "    for row in range(matrix.shape[0]):\n",
    "        ones = find(matrix[row, :])[1]\n",
    "        hash = hash_func[:,row]\n",
    "        B = sigm.copy()\n",
    "        B[:,ones] = 1\n",
    "        B[:,ones] = np.multiply(B[:,ones], hash.reshape((len(hash), 1)))\n",
    "        # B[:, ones] *= hash.reshape((len(hash),1))\n",
    "        sigm = np.minimum(sigm, B)\n",
    "        # print(example[row%len(hash_func), ones] * hash.reshape((len(hash),1)))\n",
    "        # np.amin()\n",
    "        # sigm[example]\n",
    "        # sigm[]\n",
    "        \n",
    "        # print(example[row%len(hash_func), ones]*hash.reshape((len(hash),1)))\n",
    "        # np.dot(example[row%len(hash_func)],hash)\n",
    "        # row_sign = np.amin(hash, axis=0)\n",
    "        # print(np.multiply(np.array([[1,1],[1,1]]), np.array([[2],[3]])))\n",
    "        # print('Rowsgn = ', row_sign)\n",
    "        # sigm[row%len(hash_func), ones] = hash\n",
    "        # print('Row =', row, 'Ones =' ,ones, 'Hash =', hash)\n",
    "        # print(sigm[row%len(hash_func), ones])\n",
    "        # for row,col in zip(*example.nonzero()):\n",
    "        # hash = hash_func[:, row]\n",
    "        # print('Row =', row, 'Ones =' ,ones, 'Hash =', hash)\n",
    "        # print(row,col)\n",
    "    return(sigm)"
   ],
   "metadata": {
    "collapsed": false,
    "pycharm": {
     "name": "#%%\n",
     "is_executing": false
    }
   }
  },
  {
   "cell_type": "code",
   "execution_count": 19,
   "outputs": [],
   "source": [
    "def minhash(signature_length,hashfunc, matrix):\n",
    "    # t0 = time.time()\n",
    "    sigm = np.full((signature_length, matrix.shape[1]), np.inf)\n",
    "    # print(sigm)\n",
    "    # hash_func = np.array([np.random.permutation(matrix.shape[0]) for i in range(signature_length)])\n",
    "    # print(hash_func)\n",
    "    for r,c in zip(*matrix.nonzero()):\n",
    "        # print('r = ', r, 'c = ', c)\n",
    "        for h_i in range(signature_length):\n",
    "            # print('h_i = ' ,h_i)\n",
    "            hash = hash_func[h_i]\n",
    "            if(hash[r] < sigm[h_i][c]):\n",
    "                # print(hash[r])\n",
    "                sigm[h_i][c] = hash[r]\n",
    "            # print(\"\\nGenerating MinHash signatures took %.2fsec\" % elapsed)\n",
    "        # elapsed = (time.time() - t0)            \n",
    "    return(sigm)  "
   ],
   "metadata": {
    "collapsed": false,
    "pycharm": {
     "name": "#%%\n",
     "is_executing": false
    }
   }
  },
  {
   "cell_type": "code",
   "execution_count": 59,
   "outputs": [
    {
     "name": "stdout",
     "text": [
      "14 3\n"
     ],
     "output_type": "stream"
    }
   ],
   "source": [
    "from collections import defaultdict\n",
    "threshold=0.5\n",
    "numhashes = signature_length\n",
    "b, _ = choose_nbands(threshold, numhashes)\n",
    "r = int(numhashes / b)\n",
    "print(b, r)\n",
    "\n",
    "n_col = len(csc.shape[1])\n",
    "for band in range(b):\n",
    "    # figure out which rows of minhash signature matrix to hash for this band\n",
    "    start_index = int(band * r)\n",
    "    end_index = min(start_index + r, numhashes)\n",
    "\n",
    "    # initialize hashtable for this band\n",
    "    cur_buckets = defaultdict(list)\n",
    "    \n",
    "    for j in range(n_col):\n",
    "      # THIS IS WHAT YOU NEED TO IMPLEMENT\n",
    "# http://www.hcbravo.org/dscert-mldm/projects/project_1/\n",
    "#     https://colab.research.google.com/drive/1HetBrWFRYqwUxn0v7wIwS7COBaNmusfD#scrollTo=hzPw8EMoW4i4&forceEdit=true&sandboxMode=true\n",
    "    # add this hashtable to the list of hashtables\n",
    "    buckets.append(cur_buckets)"
   ],
   "metadata": {
    "collapsed": false,
    "pycharm": {
     "name": "#%%\n",
     "is_executing": false
    }
   }
  },
  {
   "cell_type": "code",
   "execution_count": 57,
   "outputs": [],
   "source": [
    "import scipy.optimize as opt\n",
    "import math\n",
    "\n",
    "def choose_nbands(t, n):\n",
    "    def error_fun(x):\n",
    "        cur_t = (1/x[0])**(x[0]/n)\n",
    "        return (t-cur_t)**2\n",
    "\n",
    "    opt_res = opt.minimize(error_fun, x0=(10), method='Nelder-Mead')\n",
    "    b = int(math.ceil(opt_res['x'][0]))\n",
    "    r = int(n / b)\n",
    "    final_t = (1/b)**(1/r)\n",
    "    return b, final_t\n",
    "\n",
    "\n",
    "\n",
    "\n",
    "def do_lsh(sign_matrix, signature_length, threshold):\n",
    "    return 0"
   ],
   "metadata": {
    "collapsed": false,
    "pycharm": {
     "name": "#%%\n",
     "is_executing": false
    }
   }
  },
  {
   "cell_type": "code",
   "execution_count": 6,
   "outputs": [
    {
     "name": "stdout",
     "text": [
      "CPU times: user 18min 59s, sys: 6min 26s, total: 25min 26s\nWall time: 25min 28s\n",
      "CPU times: user 13min 7s, sys: 3min 23s, total: 16min 31s\nWall time: 16min 31s\n"
     ],
     "output_type": "stream"
    }
   ],
   "source": [
    "np.random.seed = 42\n",
    "\n",
    "# example = csr\n",
    "# example = np.array([[1,0,0,1],[0,0,1,0],[0,1,0,1],[1,0,1,0],[0,0,1,0]])\n",
    "# %time sigm1 = minhash(signature_length,hash_func, example)\n",
    "signature_length = 100\n",
    "hash_func = np.array([np.random.permutation(csr.shape[0]) for i in range(signature_length)])\n",
    "%time sigm1 = rowminhash(signature_length ,hash_func, csr)\n",
    "\n",
    "signature_length = 50\n",
    "hash_func = np.array([np.random.permutation(csr.shape[0]) for i in range(signature_length)])\n",
    "%time sigm2 = rowminhash(signature_length,hash_func, csr)\n",
    "# print(sigm2)\n",
    "np.save('datasets/sign_matrix_100', sigm1)\n",
    "np.save('datasets/sign_matrix', sigm2)\n",
    "\n",
    "# print(np.equal(sigm1, sigm2))"
   ],
   "metadata": {
    "collapsed": false,
    "pycharm": {
     "name": "#%%\n",
     "is_executing": false
    }
   }
  },
  {
   "cell_type": "code",
   "execution_count": 6,
   "outputs": [
    {
     "name": "stdout",
     "text": [
      "bob\n"
     ],
     "output_type": "stream"
    }
   ],
   "source": [
    "print('bob')"
   ],
   "metadata": {
    "collapsed": false,
    "pycharm": {
     "name": "#%%\n",
     "is_executing": false
    }
   }
  },
  {
   "cell_type": "code",
   "execution_count": null,
   "outputs": [],
   "source": [
    "print(hash_func)\n",
    "# csr1 = example\n",
    "for row in range(csr1.shape[1]):\n",
    "    ones = find(csr1[row,:])[1]\n",
    "    # print(ones)\n",
    "    hash = hash_func[:, ones]\n",
    "    print(hash)\n",
    "    # np.amin()\n",
    "    \n",
    "    # row_signature = np.amin(hash,).reshape((1,signature_length))\n",
    "# \n",
    "# for row in range(test[:,:2].shape[1]):\n",
    "#     ones_index = np.where(test[row,:]==1)\n",
    "# for row in range(n_row):\n",
    "#     ones_index = np.where(u[row,:]==1)[0]\n",
    "#     corresponding_hashes = hash_code[:,ones_index]\n",
    "# \n",
    "#     row_signature = np.amin(corresponding_hashes,axis=1).reshape((1,num_of_hashes))\n",
    "#     \n",
    "#     signature_array[row,:] = row_signature\n",
    "#     \n",
    "#     if row % 10000 == 0 :\n",
    "#       #print(row)\n",
    "#       print (str(round(row*100/n_row,2))+' percent complete in '+str(round(time.time()-t2,2))+' seconds')"
   ],
   "metadata": {
    "collapsed": false,
    "pycharm": {
     "name": "#%%\n"
    }
   }
  },
  {
   "cell_type": "code",
   "execution_count": null,
   "metadata": {
    "pycharm": {
     "is_executing": false
    }
   },
   "outputs": [],
   "source": [
    "def main(argv):\n",
    "    seed = sys.argv[1]\n",
    "    path = sys.argv[2]\n",
    "    print(seed, path)"
   ]
  },
  {
   "cell_type": "markdown",
   "metadata": {},
   "source": [
    "The following snippet passes the start of the program and the command line arguments to the `main` function."
   ]
  },
  {
   "cell_type": "code",
   "execution_count": null,
   "metadata": {
    "pycharm": {
     "is_executing": false
    }
   },
   "outputs": [],
   "source": [
    "if __name__ == \"__main__\":\n",
    "    main(sys.argv[1:])"
   ]
  }
 ],
 "metadata": {
  "kernelspec": {
   "display_name": "Python 3",
   "language": "python",
   "name": "python3"
  },
  "language_info": {
   "codemirror_mode": {
    "name": "ipython",
    "version": 3
   },
   "file_extension": ".py",
   "mimetype": "text/x-python",
   "name": "python",
   "nbconvert_exporter": "python",
   "pygments_lexer": "ipython3",
   "version": "3.6.8"
  },
  "pycharm": {
   "stem_cell": {
    "cell_type": "raw",
    "source": [],
    "metadata": {
     "collapsed": false
    }
   }
  }
 },
 "nbformat": 4,
 "nbformat_minor": 4
}