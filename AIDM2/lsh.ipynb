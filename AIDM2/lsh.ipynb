{
 "cells": [
  {
   "cell_type": "markdown",
   "metadata": {},
   "source": [
    "\n",
    "\n",
    "## **Advances in Data Mining**\n",
    "\n",
    "Stephan van der Putten | (s1528459) | stvdputtenjur@gmail.com  \n",
    "Theo Baart | s2370328 | s2370328@student.leidenuniv.nl\n",
    "\n",
    "### **Assignment 2**\n",
    "This assignment is concerned with finding the set of similar users in the provided datasource. To be more explicit, in finding all pairs of users who have a Jaccard similarity of more than 0.5. Additionally, this assignment considers comparing the \"naïve implementation\" with the \"LSH implementation\". The \"naïve implementation\" can be found in the file `time_estimate.ipynb` and the \"LSH implementation\" in the file `lsh.ipynb`.\n",
    "\n",
    "Note all implementations are based on the assignment guidelines and helper files given as well as the documentation of the used functions. \n",
    "\n",
    "TODO -> weg halen? Additionally, this course makes use of some of tips and comments given in the tutorial `MinHash Tutorial with Python Code` by `Chris McCormick`.\n",
    "\n",
    "#### **LSH Implementation**\n",
    "This notebook implements LSH in order to find all pairs of users with a Jaccard similarity of more than 0.5. As noted in the assignment instructions the data file is loaded from `user_movie.npy` and the list of user pairs are printed in the file `ans.txt`. Additionally, this implementation supports the setting of a random seed to determine the permutations to be used in LSH. The algorithm will continually save its output so as to aid in the evluation criteria which only looks at the first 15 minutes of the LSH execution.\n",
    "___"
   ]
  },
  {
   "cell_type": "markdown",
   "metadata": {},
   "source": [
    "The following snippet handles all imports."
   ]
  },
  {
   "cell_type": "code",
   "execution_count": 1,
   "metadata": {
    "pycharm": {
     "is_executing": false
    }
   },
   "outputs": [],
   "source": [
    "import sys\n",
    "import numpy as np\n",
    "from scipy.sparse import csr_matrix\n",
    "from joblib import Parallel, delayed\n",
    "import multiprocessing\n",
    "import timeit"
   ]
  },
  {
   "cell_type": "markdown",
   "metadata": {},
   "source": [
    "### **Program Execution**\n",
    "This section is concerned with parsing the input arguments and determining the execution flow of the program.\n",
    "\n",
    "___\n",
    "The `main` function handles the start of execution from the command line.\n",
    "\n",
    "In order to do this the function uses the following parameters:\n",
    "  * `argv` - the command line arguments given to the program\n",
    "  \n",
    "The following command line arguments are expected:\n",
    "  * `seed` - the value to use as random seed\n",
    "  * `path` - the location of the `user_movies.npy` file"
   ]
  },
  {
   "cell_type": "code",
   "execution_count": 74,
   "metadata": {
    "collapsed": false,
    "jupyter": {
     "outputs_hidden": false
    },
    "pycharm": {
     "name": "#%%\n"
    }
   },
   "outputs": [],
   "source": [
    "user_movie = np.load('datasets/user_movie.npy')\n",
    "# stuff to make the test set manageable\n",
    "# mask = np.where(user_movie[:,0]<1000)\n",
    "# user_movie = user_movie[mask]\n",
    "# mask = np.where(user_movie[:,1]<20000)\n",
    "# user_movie = user_movie[mask]\n",
    "# i = 0\n",
    "# for m in np.unique(user_movie[:,1]):\n",
    "#     user_movie[:,1] = np.where(user_movie[:,1]==m, i, user_movie[:,1])\n",
    "#     i += 1\n",
    "# i = 0\n",
    "# for u in np.unique(user_movie[:,0]):\n",
    "#     user_movie[:,0] = np.where(user_movie[:,0]==u, i, user_movie[:,0])\n",
    "#     i += 1"
   ]
  },
  {
   "cell_type": "code",
   "execution_count": 76,
   "metadata": {
    "collapsed": false,
    "jupyter": {
     "outputs_hidden": false
    },
    "pycharm": {
     "is_executing": false,
     "name": "#%%\n"
    }
   },
   "outputs": [
    {
     "name": "stdout",
     "output_type": "stream",
     "text": [
      "Wall time: 16.9 s\n"
     ]
    }
   ],
   "source": [
    "%%time\n",
    "# user_movie = np.load('datasets/user_movie.npy')\n",
    "c = user_movie[:,0]\n",
    "r = user_movie[:,1]\n",
    "d = np.ones(len(c))\n",
    "max_c = len(np.unique(c))\n",
    "max_r = len(np.unique(r))\n",
    "input_matrix = csr_matrix((d, (r,c)), shape=(max_r, max_c))"
   ]
  },
  {
   "cell_type": "code",
   "execution_count": 77,
   "metadata": {},
   "outputs": [],
   "source": [
    "signature_length = 4\n",
    "hash_func = [np.random.permutation(max_r) for i in range(signature_length)]\n",
    "# signature_matrix = np.full((signature_length, max_c), np.inf)"
   ]
  },
  {
   "cell_type": "code",
   "execution_count": 78,
   "metadata": {},
   "outputs": [
    {
     "ename": "KeyboardInterrupt",
     "evalue": "",
     "output_type": "error",
     "traceback": [
      "\u001b[1;31m---------------------------------------------------------------------------\u001b[0m",
      "\u001b[1;31mKeyboardInterrupt\u001b[0m                         Traceback (most recent call last)",
      "\u001b[1;32m<timed exec>\u001b[0m in \u001b[0;36m<module>\u001b[1;34m\u001b[0m\n",
      "\u001b[1;32m~\\Anaconda3\\lib\\site-packages\\scipy\\sparse\\csr.py\u001b[0m in \u001b[0;36mgetcol\u001b[1;34m(self, i)\u001b[0m\n\u001b[0;32m    268\u001b[0m             \u001b[1;32mraise\u001b[0m \u001b[0mIndexError\u001b[0m\u001b[1;33m(\u001b[0m\u001b[1;34m'index (%d) out of range'\u001b[0m \u001b[1;33m%\u001b[0m \u001b[0mi\u001b[0m\u001b[1;33m)\u001b[0m\u001b[1;33m\u001b[0m\u001b[1;33m\u001b[0m\u001b[0m\n\u001b[0;32m    269\u001b[0m         indptr, indices, data = get_csr_submatrix(\n\u001b[1;32m--> 270\u001b[1;33m             M, N, self.indptr, self.indices, self.data, 0, M, i, i + 1)\n\u001b[0m\u001b[0;32m    271\u001b[0m         return csr_matrix((data, indices, indptr), shape=(M, 1),\n\u001b[0;32m    272\u001b[0m                           dtype=self.dtype, copy=False)\n",
      "\u001b[1;31mKeyboardInterrupt\u001b[0m: "
     ]
    }
   ],
   "source": [
    "%%time\n",
    "signatures = []\n",
    "for u in range(max_c):\n",
    "#     print(\"user:\", u)\n",
    "    movie_rows = input_matrix.getcol(u).nonzero()[0]\n",
    "    signature = []\n",
    "#     print(\"ones in rows:\",movie_rows)\n",
    "    for p in range(signature_length):\n",
    "        perm = hash_func[p]\n",
    "        min_perm_val = np.inf\n",
    "        for mov in movie_rows:\n",
    "            perm_val = perm[mov]\n",
    "            if perm_val < min_perm_val:\n",
    "                min_perm_val = perm_val\n",
    "        signature.append(min_perm_val)\n",
    "    signatures.append(signature)\n",
    "#     print(\"signature:\",signature)\n",
    "print(signatures)"
   ]
  },
  {
   "cell_type": "code",
   "execution_count": 68,
   "metadata": {},
   "outputs": [
    {
     "data": {
      "text/plain": [
       "100"
      ]
     },
     "execution_count": 68,
     "metadata": {},
     "output_type": "execute_result"
    }
   ],
   "source": []
  },
  {
   "cell_type": "code",
   "execution_count": null,
   "metadata": {
    "collapsed": false,
    "jupyter": {
     "outputs_hidden": false
    },
    "pycharm": {
     "name": "#%%\n"
    }
   },
   "outputs": [],
   "source": [
    "# what are your inputs, and what operation do you want to \n",
    "# perform on each input. For example...\n",
    "def processInput(i,j):\n",
    "    # print(i,j)\n",
    "    for h_i in range(signature_length):\n",
    "        hash = hash_func[h_i]\n",
    "        # print(hash[i], (i,j), matrix[h_i][j])\n",
    "        if(hash[i] < matrix[h_i][j]):\n",
    "            matrix[h_i][j] = hash[i]\n",
    "        # print(hash)\n",
    "        \n",
    "        # print(hash[i], (i,j), matrix[h_i][j])\n",
    "        # if(timeit.default_timer()-start > 30):\n",
    "        #     print('STOP')\n",
    "        #     break\n",
    "            \n",
    "    np.save('datasets/sign_matrix', matrix)\n",
    "\n",
    "            "
   ]
  },
  {
   "cell_type": "code",
   "execution_count": null,
   "metadata": {
    "pycharm": {
     "is_executing": false
    }
   },
   "outputs": [],
   "source": [
    "def main(argv):\n",
    "    seed = sys.argv[1]\n",
    "    path = sys.argv[2]\n",
    "    print(seed, path)\n",
    "    \n",
    "    num_cores = 8\n",
    "    print(num_cores)\n",
    "    \n",
    "    start = timeit.default_timer()\n",
    "    Parallel(n_jobs=num_cores, max_nbytes='50M')(delayed(processInput)(i,j) for i,j in zip(*m.nonzero()))\n",
    "    end = timeit.default_timer() - start\n",
    "    \n",
    "    print('Done in: ', end, 'seconds!')\n",
    "    "
   ]
  },
  {
   "cell_type": "markdown",
   "metadata": {},
   "source": [
    "The following snippet passes the start of the program and the command line arguments to the `main` function."
   ]
  },
  {
   "cell_type": "code",
   "execution_count": null,
   "metadata": {
    "pycharm": {
     "is_executing": false
    }
   },
   "outputs": [],
   "source": [
    "if __name__ == \"__main__\":\n",
    "    main(sys.argv[1:])"
   ]
  }
 ],
 "metadata": {
  "kernelspec": {
   "display_name": "Python 3",
   "language": "python",
   "name": "python3"
  },
  "language_info": {
   "codemirror_mode": {
    "name": "ipython",
    "version": 3
   },
   "file_extension": ".py",
   "mimetype": "text/x-python",
   "name": "python",
   "nbconvert_exporter": "python",
   "pygments_lexer": "ipython3",
   "version": "3.7.4"
  },
  "pycharm": {
   "stem_cell": {
    "cell_type": "raw",
    "metadata": {
     "collapsed": false
    },
    "source": []
   }
  }
 },
 "nbformat": 4,
 "nbformat_minor": 4
}
