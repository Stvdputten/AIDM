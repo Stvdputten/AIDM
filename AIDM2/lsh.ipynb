{
 "cells": [
  {
   "cell_type": "markdown",
   "metadata": {},
   "source": [
    "\n",
    "\n",
    "## **Advances in Data Mining**\n",
    "\n",
    "Stephan van der Putten | (s1528459) | stvdputtenjur@gmail.com  \n",
    "Theo Baart | s2370328 | s2370328@student.leidenuniv.nl\n",
    "\n",
    "### **Assignment 2**\n",
    "This assignment is concerned with finding the set of similar users in the provided datasource. To be more explicit, in finding all pairs of users who have a Jaccard similarity of more than 0.5. Additionally, this assignment considers comparing the \"naïve implementation\" with the \"LSH implementation\". The \"naïve implementation\" can be found in the file `time_estimate.ipynb` and the \"LSH implementation\" in the file `lsh.ipynb`.\n",
    "\n",
    "Note all implementations are based on the assignment guidelines and helper files given as well as the documentation of the used functions. \n",
    "\n",
    "#### **LSH Implementation**\n",
    "This notebook implements LSH in order to find all pairs of users with a Jaccard similarity of more than 0.5. As noted in the assignment instructions the data file is loaded from `user_movie.npy` and the list of user pairs are printed in the file `ans.txt`. Additionally, this implementation supports the setting of a random seed to determine the permutations to be used in LSH. The algorithm will continually save its output so as to aid in the evluation criteria which only looks at the first 15 minutes of the LSH execution.\n",
    "___"
   ]
  },
  {
   "cell_type": "markdown",
   "metadata": {},
   "source": [
    "The following snippet handles all imports."
   ]
  },
  {
   "cell_type": "code",
   "execution_count": 1,
   "metadata": {
    "pycharm": {
     "is_executing": false
    }
   },
   "outputs": [],
   "source": [
    "import sys\n",
    "import numpy as np\n",
    "from scipy.sparse import csr_matrix\n",
    "from joblib import Parallel, delayed\n",
    "import multiprocessing\n",
    "import timeit"
   ]
  },
  {
   "cell_type": "markdown",
   "metadata": {},
   "source": [
    "### **Program Execution**\n",
    "This section is concerned with parsing the input arguments and determining the execution flow of the program.\n",
    "\n",
    "___\n",
    "The `main` function handles the start of execution from the command line.\n",
    "\n",
    "In order to do this the function uses the following parameters:\n",
    "  * `argv` - the command line arguments given to the program\n",
    "  \n",
    "The following command line arguments are expected:\n",
    "  * `seed` - the value to use as random seed\n",
    "  * `path` - the location of the `user_movies.npy` file"
   ]
  },
  {
   "cell_type": "code",
   "execution_count": null,
   "outputs": [],
   "source": [
    "# user_movie = np.load('datasets/user_movie.npy')\n",
    "# user_movie = user_movie[:1000,]"
   ],
   "metadata": {
    "collapsed": false,
    "pycharm": {
     "name": "#%%\n"
    }
   }
  },
  {
   "cell_type": "code",
   "execution_count": 6,
   "outputs": [],
   "source": [
    "# %%time\n",
    "user_movie = np.load('datasets/user_movie.npy')\n",
    "c = user_movie[:,0]\n",
    "r = user_movie[:,1]\n",
    "d = np.ones(len(c))\n",
    "max_c = len(np.unique(c))\n",
    "max_r = len(np.unique(r))\n",
    "m = csr_matrix((d, (r,c)), shape=(max_r, max_c))\n",
    "signature_length = 10\n",
    "hash_func = [np.random.permutation(max_r) for i in range(signature_length)]\n",
    "matrix = np.full((signature_length, max_c), np.inf)"
   ],
   "metadata": {
    "collapsed": false,
    "pycharm": {
     "name": "#%%\n",
     "is_executing": false
    }
   }
  },
  {
   "cell_type": "code",
   "execution_count": null,
   "outputs": [],
   "source": [
    "# what are your inputs, and what operation do you want to \n",
    "# perform on each input. For example...\n",
    "def processInput(i,j):\n",
    "    # print(i,j)\n",
    "    for h_i in range(signature_length):\n",
    "        hash = hash_func[h_i]\n",
    "        # print(hash[i], (i,j), matrix[h_i][j])\n",
    "        if(hash[i] < matrix[h_i][j]):\n",
    "            matrix[h_i][j] = hash[i]\n",
    "        # print(hash)\n",
    "        \n",
    "        # print(hash[i], (i,j), matrix[h_i][j])\n",
    "        # if(timeit.default_timer()-start > 30):\n",
    "        #     print('STOP')\n",
    "        #     break\n",
    "            \n",
    "    np.save('datasets/sign_matrix', matrix)\n",
    "\n",
    "            "
   ],
   "metadata": {
    "collapsed": false,
    "pycharm": {
     "name": "#%%\n"
    }
   }
  },
  {
   "cell_type": "code",
   "execution_count": null,
   "metadata": {
    "pycharm": {
     "is_executing": false
    }
   },
   "outputs": [],
   "source": [
    "def main(argv):\n",
    "    seed = sys.argv[1]\n",
    "    path = sys.argv[2]\n",
    "    print(seed, path)\n",
    "    \n",
    "    num_cores = 8\n",
    "    print(num_cores)\n",
    "    \n",
    "    start = timeit.default_timer()\n",
    "    Parallel(n_jobs=num_cores, max_nbytes='50M')(delayed(processInput)(i,j) for i,j in zip(*m.nonzero()))\n",
    "    end = timeit.default_timer() - start\n",
    "    \n",
    "    print('Done in: ', end, 'seconds!')\n",
    "    "
   ]
  },
  {
   "cell_type": "markdown",
   "metadata": {},
   "source": [
    "The following snippet passes the start of the program and the command line arguments to the `main` function."
   ]
  },
  {
   "cell_type": "code",
   "execution_count": null,
   "metadata": {
    "pycharm": {
     "is_executing": false
    }
   },
   "outputs": [],
   "source": [
    "if __name__ == \"__main__\":\n",
    "    main(sys.argv[1:])"
   ]
  }
 ],
 "metadata": {
  "kernelspec": {
   "display_name": "Python 3",
   "language": "python",
   "name": "python3"
  },
  "language_info": {
   "codemirror_mode": {
    "name": "ipython",
    "version": 3
   },
   "file_extension": ".py",
   "mimetype": "text/x-python",
   "name": "python",
   "nbconvert_exporter": "python",
   "pygments_lexer": "ipython3",
   "version": "3.6.8"
  },
  "pycharm": {
   "stem_cell": {
    "cell_type": "raw",
    "source": [],
    "metadata": {
     "collapsed": false
    }
   }
  }
 },
 "nbformat": 4,
 "nbformat_minor": 4
}