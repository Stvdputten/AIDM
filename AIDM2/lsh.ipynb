{
 "cells": [
  {
   "cell_type": "markdown",
   "metadata": {},
   "source": [
    "\n",
    "\n",
    "## **Advances in Data Mining**\n",
    "\n",
    "Stephan van der Putten | (s1528459) | stvdputtenjur@gmail.com  \n",
    "Theo Baart | s2370328 | s2370328@student.leidenuniv.nl\n",
    "\n",
    "### **Assignment 2**\n",
    "This assignment is concerned with finding the set of similar users in the provided datasource. To be more explicit, in finding all pairs of users who have a Jaccard similarity of more than 0.5. Additionally, this assignment considers comparing the \"naïve implementation\" with the \"LSH implementation\". The \"naïve implementation\" can be found in the file `time_estimate.ipynb` and the \"LSH implementation\" in the file `lsh.ipynb`.\n",
    "\n",
    "Note all implementations are based on the assignment guidelines and helper files given as well as the documentation of the used functions. \n",
    "\n",
    "\n",
    "POSSIBLE SOURCES:\n",
    "<http://www.hcbravo.org/dscert-mldm/projects/project_1/>\n",
    "<https://colab.research.google.com/drive/1HetBrWFRYqwUxn0v7wIwS7COBaNmusfD#scrollTo=hzPw8EMoW4i4&forceEdit=true&sandboxMode=true>\n",
    "\n",
    "\n",
    "#### **LSH Implementation**\n",
    "This notebook implements LSH in order to find all pairs of users with a Jaccard similarity of more than 0.5. As noted in the assignment instructions the data file is loaded from `user_movie.npy` and the list of user pairs are printed in the file `ans.txt`. Additionally, this implementation supports the setting of a random seed to determine the permutations to be used in LSH. The algorithm will continually save its output so as to aid in the evluation criteria which only looks at the first 15 minutes of the LSH execution.\n",
    "___"
   ]
  },
  {
   "cell_type": "markdown",
   "metadata": {},
   "source": [
    "The following snippet handles all imports."
   ]
  },
  {
   "cell_type": "code",
   "execution_count": 1,
   "metadata": {
    "pycharm": {
     "is_executing": false
    },
    "scrolled": true
   },
   "outputs": [],
   "source": [
    "import time\n",
    "import sys\n",
    "import numpy as np\n",
    "import pandas as pd\n",
    "from scipy.sparse import csr_matrix, csc_matrix, coo_matrix, lil_matrix, find\n",
    "from scipy.sparse import identity\n",
    "from collections import defaultdict"
   ]
  },
  {
   "cell_type": "markdown",
   "metadata": {},
   "source": [
    "### **Program Execution**\n",
    "This section is concerned with parsing the input arguments and determining the execution flow of the program.\n",
    "\n",
    "___\n",
    "The `main` function handles the start of execution from the command line.\n",
    "\n",
    "In order to do this the function uses the following parameters:\n",
    "  * `argv` - the command line arguments given to the program\n",
    "  \n",
    "The following command line arguments are expected:\n",
    "  * `seed` - the value to use as random seed\n",
    "  * `path` - the location of the `user_movies.npy` file"
   ]
  },
  {
   "cell_type": "code",
   "execution_count": 2,
   "metadata": {
    "pycharm": {
     "is_executing": false
    },
    "scrolled": true
   },
   "outputs": [],
   "source": [
    "user_movie = np.load('datasets/user_movie.npy')"
   ]
  },
  {
   "cell_type": "code",
   "execution_count": null,
   "metadata": {
    "pycharm": {
     "is_executing": false
    },
    "scrolled": true
   },
   "outputs": [],
   "source": [
    "%%time\n",
    "c = user_movie[:,0]\n",
    "r = user_movie[:,1]\n",
    "d = np.ones(len(c))\n",
    "max_c = len(np.unique(c))\n",
    "max_r = len(np.unique(r))\n",
    "# m = csr_matrix((d, (r,c)), shape=(max_r, max_c))\n",
    "csc = csc_matrix((d, (r,c)), shape=(max_r, max_c))\n",
    "csr = csr_matrix((d, (r,c)), shape=(max_r, max_c))\n",
    "signature_length = 50\n",
    "\n",
    "# example = np.array([[1,0,0,1],[0,0,1,0],[0,1,0,1],[1,0,1,0],[0,0,1,0]])\n",
    "# hash_func = np.array([[4,3,1,2,0], [3,0,4,2,1]])"
   ]
  },
  {
   "cell_type": "code",
   "execution_count": 100,
   "metadata": {
    "scrolled": true
   },
   "outputs": [],
   "source": [
    "example = np.array([[1,0,0,1,1,0,0,1],[0,0,1,0,0,0,1,0],[0,0,1,0,0,0,1,0],[0,1,0,1,1,0,0,1],[1,0,1,0,1,0,1,0],[0,1,1,1,1,1,0,1]])\n",
    "hash_func = np.array([[5,4,3,1,2,0],[3,1,2,0,5,4],[1,2,0,5,4,3],[2,0,5,4,3,1],[0,5,4,3,1,2],[3,0,4,2,1,5],[0,4,2,1,5,3],[4,2,1,5,3,0],[2,1,5,3,0,4]])\n",
    "c = csr_matrix(example)\n",
    "s = rowminhash(9, hash_func, c)"
   ]
  },
  {
   "cell_type": "code",
   "execution_count": 101,
   "metadata": {
    "scrolled": true
   },
   "outputs": [
    {
     "data": {
      "text/plain": [
       "matrix([[1, 0, 0, 1, 1, 0, 0, 1],\n",
       "        [0, 0, 1, 0, 0, 0, 1, 0],\n",
       "        [0, 0, 1, 0, 0, 0, 1, 0],\n",
       "        [0, 1, 0, 1, 1, 0, 0, 1],\n",
       "        [1, 0, 1, 0, 1, 0, 1, 0],\n",
       "        [0, 1, 1, 1, 1, 1, 0, 1]], dtype=int32)"
      ]
     },
     "metadata": {},
     "output_type": "display_data"
    },
    {
     "data": {
      "text/plain": [
       "array([[5, 4, 3, 1, 2, 0],\n",
       "       [3, 1, 2, 0, 5, 4],\n",
       "       [1, 2, 0, 5, 4, 3],\n",
       "       [2, 0, 5, 4, 3, 1],\n",
       "       [0, 5, 4, 3, 1, 2],\n",
       "       [3, 0, 4, 2, 1, 5],\n",
       "       [0, 4, 2, 1, 5, 3],\n",
       "       [4, 2, 1, 5, 3, 0],\n",
       "       [2, 1, 5, 3, 0, 4]])"
      ]
     },
     "metadata": {},
     "output_type": "display_data"
    },
    {
     "data": {
      "text/plain": [
       "array([[2., 0., 0., 0., 0., 0., 2., 0.],\n",
       "       [3., 0., 1., 0., 0., 4., 1., 0.],\n",
       "       [1., 3., 0., 1., 1., 3., 0., 1.],\n",
       "       [2., 1., 0., 1., 1., 1., 0., 1.],\n",
       "       [0., 2., 1., 0., 0., 2., 1., 0.],\n",
       "       [1., 2., 0., 2., 1., 5., 0., 2.],\n",
       "       [0., 1., 2., 0., 0., 3., 2., 0.],\n",
       "       [3., 0., 0., 0., 0., 0., 1., 0.],\n",
       "       [0., 3., 0., 2., 0., 4., 0., 2.]])"
      ]
     },
     "metadata": {},
     "output_type": "display_data"
    }
   ],
   "source": [
    "display(c.todense())\n",
    "display(hash_func)\n",
    "display(s)"
   ]
  },
  {
   "cell_type": "code",
   "execution_count": 3,
   "metadata": {
    "jupyter": {
     "outputs_hidden": false
    },
    "pycharm": {
     "is_executing": false,
     "name": "#%%\n"
    },
    "scrolled": true
   },
   "outputs": [],
   "source": [
    "def rowminhash(signature_length, hash_func, matrix):\n",
    "    sigm = np.full((signature_length, matrix.shape[1]), np.inf)\n",
    "    for row in range(matrix.shape[0]):\n",
    "        ones = find(matrix[row, :])[1]\n",
    "        hash = hash_func[:,row]\n",
    "        B = sigm.copy()\n",
    "        B[:,ones] = 1\n",
    "        B[:,ones] = np.multiply(B[:,ones], hash.reshape((len(hash), 1)))\n",
    "        sigm = np.minimum(sigm, B)\n",
    "    return(sigm)"
   ]
  },
  {
   "cell_type": "code",
   "execution_count": 4,
   "metadata": {
    "jupyter": {
     "outputs_hidden": false
    },
    "pycharm": {
     "is_executing": false,
     "name": "#%%\n"
    },
    "scrolled": true
   },
   "outputs": [],
   "source": [
    "import scipy.optimize as opt\n",
    "import math\n",
    "\n",
    "def choose_nbands(t, n):\n",
    "    def error_fun(x):\n",
    "        cur_t = (1/x[0])**(x[0]/n)\n",
    "        return (t-cur_t)**2\n",
    "\n",
    "    opt_res = opt.minimize(error_fun, x0=(10), method='Nelder-Mead')\n",
    "    b = int(math.ceil(opt_res['x'][0]))\n",
    "#     r = int(n / b)\n",
    "    r = round(n / b)\n",
    "    final_t = (1/b)**(1/r)\n",
    "    return b, final_t\n",
    "\n",
    "\n",
    "\n",
    "\n",
    "def do_lsh(sign_matrix, signature_length, threshold):\n",
    "    return 0"
   ]
  },
  {
   "cell_type": "code",
   "execution_count": 138,
   "metadata": {
    "scrolled": true
   },
   "outputs": [],
   "source": [
    "def make_random_hash_fn(p=2**31-1, m=4294967295):\n",
    "    a = np.random.randint(1,p-1)\n",
    "    b = np.random.randint(0, p-1)\n",
    "    return lambda x: ((a * x + b) % p) % m"
   ]
  },
  {
   "cell_type": "code",
   "execution_count": 209,
   "metadata": {
    "scrolled": true
   },
   "outputs": [],
   "source": [
    "import random\n",
    "from collections import defaultdict\n",
    "def lsh_r_bucket_to_id(sigm,id,b,r,numhashes):\n",
    "    id = np.array(id)\n",
    "    number_of_users = sigm.shape[1]\n",
    "    hash_buckets = defaultdict(list)\n",
    "    hf = make_random_hash_fn()\n",
    "    t1 = time.time()    \n",
    "    for i in range(number_of_users):\n",
    "        if i % 10000==0:\n",
    "            print(str(round(100*i/number_of_users,2))+' percent complete in '+str(round(time.time()-t1,2))+ ' seconds')\n",
    "#         row = u[i,:]  \n",
    "        row = sigm[:,i] \n",
    "        for j in range(b):\n",
    "            r_signature = str(row[j*r:(j+1)*r])\n",
    "            r_hash = hash(r_signature)\n",
    "#             print(r_signature)\n",
    "#             print(r_hash)\n",
    "            r_hash = hf(r_hash)\n",
    "            hash_buckets[r_hash].append(id[i])\n",
    "    hash_buckets_set = {k: set(v) for k,v in hash_buckets.items()}\n",
    "    return hash_buckets_set"
   ]
  },
  {
   "cell_type": "code",
   "execution_count": 166,
   "metadata": {
    "scrolled": true
   },
   "outputs": [],
   "source": [
    "sigm100 = np.load('datasets/sign_matrix_100.npy')\n",
    "sigm50 = np.load('datasets/sign_matrix.npy')"
   ]
  },
  {
   "cell_type": "code",
   "execution_count": 169,
   "metadata": {
    "scrolled": true
   },
   "outputs": [
    {
     "name": "stdout",
     "output_type": "stream",
     "text": [
      "100 vs 100\n",
      "0.5492802716530588 20 5\n",
      "0.0 percent complete in 0.0 seconds\n",
      "9.64 percent complete in 30.26 seconds\n",
      "19.29 percent complete in 62.77 seconds\n",
      "28.93 percent complete in 102.01 seconds\n",
      "38.57 percent complete in 136.38 seconds\n",
      "48.21 percent complete in 161.7 seconds\n",
      "57.86 percent complete in 186.94 seconds\n",
      "67.5 percent complete in 214.16 seconds\n",
      "77.14 percent complete in 238.86 seconds\n",
      "86.79 percent complete in 265.06 seconds\n",
      "96.43 percent complete in 289.54 seconds\n"
     ]
    }
   ],
   "source": [
    "sigm = sigm100 \n",
    "# sigm = sigm50\n",
    "threshold=0.57 # overshoot so as to get a similarity matrix closer to 0.5\n",
    "numhashes = sigm.shape[0]\n",
    "b, _ = choose_nbands(threshold, numhashes)\n",
    "# b = 13\n",
    "# r = 4\n",
    "# b = 3\n",
    "# r = 3\n",
    "r = round(numhashes / b)\n",
    "threshold = (1/b)**(1/r)\n",
    "print(b*r,'vs',numhashes)\n",
    "print(threshold,b,r)\n",
    "user_ids = np.array(list(range(sigm.shape[1])))\n",
    "buckets = lsh_r_bucket_to_id(sigm,user_ids,b,r,numhashes)"
   ]
  },
  {
   "cell_type": "code",
   "execution_count": 157,
   "metadata": {},
   "outputs": [
    {
     "name": "stdout",
     "output_type": "stream",
     "text": [
      "3503486605907668772\n"
     ]
    },
    {
     "data": {
      "text/plain": [
       "-3378229029050999201"
      ]
     },
     "execution_count": 157,
     "metadata": {},
     "output_type": "execute_result"
    }
   ],
   "source": []
  },
  {
   "cell_type": "code",
   "execution_count": 170,
   "metadata": {
    "scrolled": true
   },
   "outputs": [
    {
     "name": "stdout",
     "output_type": "stream",
     "text": [
      "no_buckets: 1193619\n",
      "no_candidate_buckets 191783\n",
      "max_bucket_size: 0\n",
      "no_pairs: 0\n",
      "pairs: set()\n",
      "Wall time: 714 ms\n"
     ]
    }
   ],
   "source": [
    "%%time\n",
    "import itertools as it\n",
    "pairs = set()\n",
    "max_l = 0\n",
    "print('no_buckets:',len(buckets))\n",
    "short_buckets = {k: v for k, v in buckets.items() if len(v) >= 2}\n",
    "print('no_candidate_buckets',len(short_buckets))\n",
    "i = 0\n",
    "for v in short_buckets.values():\n",
    "    if len(v) > max_l:\n",
    "        max_l = len(v)\n",
    "    pairs.update(set(it.combinations(v,2)))\n",
    "#         i += 1\n",
    "#         if i == 100:\n",
    "#             break\n",
    "print('max_bucket_size:',max_l)\n",
    "print('no_pairs:',len(pairs))\n",
    "print('pairs:',pairs)"
   ]
  },
  {
   "cell_type": "code",
   "execution_count": 171,
   "metadata": {},
   "outputs": [
    {
     "data": {
      "text/plain": [
       "{4874: {905,\n",
       "  3831,\n",
       "  5018,\n",
       "  7582,\n",
       "  8112,\n",
       "  8411,\n",
       "  8671,\n",
       "  8951,\n",
       "  10250,\n",
       "  13706,\n",
       "  14351,\n",
       "  14571,\n",
       "  15649,\n",
       "  18244,\n",
       "  18604,\n",
       "  20481,\n",
       "  23494,\n",
       "  23498,\n",
       "  23663,\n",
       "  25235,\n",
       "  28803,\n",
       "  29977,\n",
       "  30376,\n",
       "  31020,\n",
       "  32190,\n",
       "  32448,\n",
       "  32804,\n",
       "  33737,\n",
       "  34087,\n",
       "  34808,\n",
       "  35331,\n",
       "  35367,\n",
       "  36349,\n",
       "  37894,\n",
       "  39668,\n",
       "  39827,\n",
       "  40200,\n",
       "  40433,\n",
       "  41357,\n",
       "  41383,\n",
       "  41717,\n",
       "  43051,\n",
       "  43208,\n",
       "  43557,\n",
       "  44277,\n",
       "  44359,\n",
       "  45736,\n",
       "  46571,\n",
       "  46743,\n",
       "  47157,\n",
       "  47484,\n",
       "  49023,\n",
       "  52026,\n",
       "  52492,\n",
       "  52743,\n",
       "  54525,\n",
       "  55332,\n",
       "  55968,\n",
       "  56912,\n",
       "  57900,\n",
       "  58498,\n",
       "  60015,\n",
       "  60725,\n",
       "  60819,\n",
       "  61367,\n",
       "  63045,\n",
       "  64297,\n",
       "  64375,\n",
       "  65181,\n",
       "  65910,\n",
       "  66104,\n",
       "  66993,\n",
       "  67107,\n",
       "  68782,\n",
       "  69168,\n",
       "  70739,\n",
       "  72968,\n",
       "  73094,\n",
       "  74469,\n",
       "  75384,\n",
       "  75570,\n",
       "  77245,\n",
       "  77708,\n",
       "  77943,\n",
       "  78127,\n",
       "  78953,\n",
       "  78957,\n",
       "  79228,\n",
       "  79957,\n",
       "  80088,\n",
       "  80872,\n",
       "  81097,\n",
       "  83372,\n",
       "  86261,\n",
       "  86547,\n",
       "  88080,\n",
       "  88923,\n",
       "  89362,\n",
       "  89890,\n",
       "  90974,\n",
       "  91292,\n",
       "  91378,\n",
       "  91758,\n",
       "  92557,\n",
       "  92563,\n",
       "  92833,\n",
       "  95440,\n",
       "  96593,\n",
       "  97959,\n",
       "  99489,\n",
       "  99782,\n",
       "  100146,\n",
       "  100646,\n",
       "  101588,\n",
       "  103146},\n",
       " 24641: {8359, 97621},\n",
       " 24805: {44279, 95940},\n",
       " 64028: {8427, 49487, 64701, 72464, 77442, 99849},\n",
       " 65170: {37214, 101603},\n",
       " 75893: {11336,\n",
       "  13849,\n",
       "  41676,\n",
       "  43877,\n",
       "  45408,\n",
       "  50880,\n",
       "  56593,\n",
       "  61138,\n",
       "  65108,\n",
       "  91537,\n",
       "  100083,\n",
       "  101859},\n",
       " 77784: {54514, 77064},\n",
       " 93882: {1246, 9945, 23409, 26352, 33267, 34438, 51395, 59923, 89936},\n",
       " 99990: {9470, 69768},\n",
       " 146152: {33695, 54393},\n",
       " 151329: {3639, 7257, 40599, 75638, 80540, 87358},\n",
       " 155032: {42961, 67606},\n",
       " 160663: {20926, 42744, 91890, 97009, 100624},\n",
       " 166602: {43171, 53296},\n",
       " 173876: {428, 45163},\n",
       " 189858: {34652, 35197, 89411},\n",
       " 235702: {1176, 3636, 16092, 58190},\n",
       " 246706: {9163, 12847, 66768, 67006, 78464, 89107},\n",
       " 255665: {49623, 53608},\n",
       " 271556: {5886, 17476, 25949}}"
      ]
     },
     "execution_count": 171,
     "metadata": {},
     "output_type": "execute_result"
    }
   ],
   "source": [
    "{k: short_buckets[k] for k in sorted(short_buckets.keys())[:20]}"
   ]
  },
  {
   "cell_type": "code",
   "execution_count": 208,
   "metadata": {},
   "outputs": [
    {
     "name": "stdout",
     "output_type": "stream",
     "text": [
      "115 {20481, 35331, 37894, 52743, 10250, 14351, 88080, 86547, 67107, 32804, 43557, 55332, 35367, 43051, 57900, 69168, 47157, 66104, 63045, 56912, 70739, 79957, 78953, 78957, 91758, 23663, 60015, 77943, 75384, 58498, 28803, 25235, 46743, 91292, 65181, 55968, 92833, 99489, 97959, 30376, 45736, 18604, 68782, 32448, 43208, 81097, 95440, 101588, 80088, 8411, 74469, 103146, 14571, 91378, 39668, 41717, 44277, 3831, 8951, 86261, 54525, 40200, 72968, 52492, 89362, 29977, 15649, 89890, 100646, 34087, 64297, 31020, 78127, 75570, 100146, 60725, 52026, 18244, 44359, 96593, 88923, 90974, 65910, 64375, 47484, 79228, 49023, 73094, 905, 13706, 77708, 41357, 92557, 39827, 60819, 92563, 5018, 7582, 41383, 83372, 8112, 66993, 61367, 77245, 32190, 23494, 99782, 33737, 23498, 8671, 80872, 46571, 40433, 34808, 36349}\n",
      "1 0.4444444444444444\n",
      "2 0.4722222222222222\n",
      "3 0.4594594594594595\n",
      "4 0.4666666666666667\n",
      "5 0.4925373134328358\n",
      "6 0.4444444444444444\n",
      "7 0.5074626865671642\n",
      "8 0.5072463768115942\n",
      "9 0.5428571428571428\n",
      "10 0.5147058823529411\n",
      "11 0.5657894736842105\n",
      "12 0.48148148148148145\n",
      "13 0.37209302325581395\n",
      "14 0.5846153846153846\n",
      "15 0.5432098765432098\n",
      "16 0.3763440860215054\n",
      "17 0.515625\n",
      "18 0.4383561643835616\n",
      "19 0.43243243243243246\n",
      "20 0.5757575757575758\n",
      "21 0.5194805194805194\n",
      "22 0.4782608695652174\n",
      "23 0.5147058823529411\n",
      "24 0.59375\n",
      "25 0.5633802816901409\n",
      "26 0.4177215189873418\n",
      "27 0.4069767441860465\n",
      "28 0.5277777777777778\n",
      "29 0.4931506849315068\n",
      "30 0.4507042253521127\n",
      "31 0.475\n",
      "32 0.4567901234567901\n",
      "33 0.44047619047619047\n",
      "34 0.43037974683544306\n",
      "35 0.5352112676056338\n",
      "36 0.4342105263157895\n",
      "37 0.4868421052631579\n",
      "38 0.47297297297297297\n",
      "39 0.5\n",
      "40 0.5625\n",
      "41 0.5147058823529411\n",
      "42 0.6\n",
      "43 0.6666666666666666\n",
      "44 0.4861111111111111\n",
      "45 0.5223880597014925\n",
      "46 0.4782608695652174\n",
      "47 0.5394736842105263\n",
      "48 0.5633802816901409\n",
      "49 0.47435897435897434\n",
      "50 0.4927536231884058\n",
      "51 0.5616438356164384\n",
      "52 0.5\n",
      "53 0.5211267605633803\n",
      "54 0.5416666666666666\n",
      "55 0.4935064935064935\n",
      "56 0.5540540540540541\n",
      "57 0.5416666666666666\n",
      "58 0.4782608695652174\n",
      "59 0.463768115942029\n",
      "60 0.4634146341463415\n",
      "61 0.56\n",
      "62 0.5277777777777778\n",
      "63 0.5205479452054794\n",
      "64 0.4430379746835443\n",
      "65 0.5131578947368421\n",
      "66 0.47435897435897434\n",
      "67 0.49295774647887325\n",
      "68 0.5066666666666667\n",
      "69 0.4927536231884058\n",
      "70 0.5205479452054794\n",
      "71 0.5303030303030303\n",
      "72 0.4868421052631579\n",
      "73 0.42857142857142855\n",
      "74 0.4696969696969697\n",
      "75 0.46835443037974683\n",
      "76 0.45121951219512196\n",
      "77 0.5211267605633803\n",
      "78 0.5205479452054794\n",
      "79 0.5394736842105263\n",
      "80 0.5\n",
      "81 0.39080459770114945\n",
      "82 0.45\n",
      "83 0.4626865671641791\n",
      "84 0.45121951219512196\n",
      "85 0.42168674698795183\n",
      "86 0.4050632911392405\n",
      "87 0.5405405405405406\n",
      "88 0.43209876543209874\n",
      "89 0.4666666666666667\n",
      "90 0.4857142857142857\n",
      "91 0.4473684210526316\n",
      "92 0.49230769230769234\n",
      "93 0.5909090909090909\n",
      "94 0.5342465753424658\n",
      "95 0.5507246376811594\n",
      "96 0.5454545454545454\n",
      "97 0.5142857142857142\n",
      "98 0.40229885057471265\n",
      "99 0.4794520547945205\n",
      "100 0.5428571428571428\n",
      "101 0.4931506849315068\n",
      "102 0.5070422535211268\n",
      "103 0.4186046511627907\n",
      "104 0.5573770491803278\n",
      "105 0.4931506849315068\n",
      "106 0.5416666666666666\n",
      "107 0.4444444444444444\n",
      "108 0.43661971830985913\n",
      "109 0.527027027027027\n",
      "110 0.5394736842105263\n",
      "111 0.47058823529411764\n",
      "112 0.5070422535211268\n",
      "113 0.4861111111111111\n",
      "114 0.44155844155844154\n"
     ]
    }
   ],
   "source": [
    "sb = short_buckets[4874]\n",
    "print(len(sb),sb)\n",
    "sb = list(sb)\n",
    "base = sigm[:,sb[0]]\n",
    "# print(base)\n",
    "for i in range(1,len(sb)):\n",
    "    far = sigm[:,sb[i]]\n",
    "    intersect = np.intersect1d(base,far)\n",
    "    union = np.union1d(base,far)\n",
    "    print(i,len(intersect)/len(union))\n",
    "#     print(sigm[84:91,i])\n",
    "# print(sigm[84:91,905])\n",
    "# print(sigm[84:91,3831])\n",
    "# print(sigm[84:91,5018])\n",
    "# print(sigm[84:91,23663])\n",
    "# print(sigm[84:91,23490:23500].T)"
   ]
  },
  {
   "cell_type": "code",
   "execution_count": null,
   "metadata": {
    "jupyter": {
     "outputs_hidden": false
    },
    "pycharm": {
     "is_executing": false,
     "name": "#%%\n"
    },
    "scrolled": true
   },
   "outputs": [],
   "source": [
    "np.random.seed = 42\n",
    "\n",
    "# example = csr\n",
    "# example = np.array([[1,0,0,1],[0,0,1,0],[0,1,0,1],[1,0,1,0],[0,0,1,0]])\n",
    "# %time sigm1 = minhash(signature_length,hash_func, example)\n",
    "# signature_length = 100\n",
    "# hash_func = np.array([np.random.permutation(csr.shape[0]) for i in range(signature_length)])\n",
    "# %time sigm1 = rowminhash(signature_length ,hash_func, csr)\n",
    "\n",
    "signature_length = 50\n",
    "hash_func = np.array([np.random.permutation(csr.shape[0]) for i in range(signature_length)])\n",
    "%time sigm2 = rowminhash(signature_length,hash_func, csr)\n",
    "# print(sigm2)\n",
    "# np.save('datasets/sign_matrix_100', sigm1)\n",
    "# np.save('datasets/sign_matrix', sigm2)"
   ]
  },
  {
   "cell_type": "code",
   "execution_count": null,
   "metadata": {
    "scrolled": true
   },
   "outputs": [],
   "source": [
    "#TODO write out our results ans.txt \n",
    "#TODO set seed in our perm hash function\n",
    "#TODO Find pairs of similar users from buckets\n",
    "#TODO Elegance aka classes, comments/report/citation\n",
    "#TODO IMPROVE EFFICIENCY FOR LONGER SIGNATURES Time < 15"
   ]
  },
  {
   "cell_type": "code",
   "execution_count": null,
   "metadata": {
    "pycharm": {
     "is_executing": false
    },
    "scrolled": true
   },
   "outputs": [],
   "source": [
    "def main(argv):\n",
    "    seed = sys.argv[1]\n",
    "    path = sys.argv[2]\n",
    "    print(seed, path)"
   ]
  },
  {
   "cell_type": "markdown",
   "metadata": {},
   "source": [
    "The following snippet passes the start of the program and the command line arguments to the `main` function."
   ]
  },
  {
   "cell_type": "code",
   "execution_count": null,
   "metadata": {
    "pycharm": {
     "is_executing": false
    },
    "scrolled": true
   },
   "outputs": [],
   "source": [
    "if __name__ == \"__main__\":\n",
    "    main(sys.argv[1:])"
   ]
  }
 ],
 "metadata": {
  "kernelspec": {
   "display_name": "Python 3",
   "language": "python",
   "name": "python3"
  },
  "language_info": {
   "codemirror_mode": {
    "name": "ipython",
    "version": 3
   },
   "file_extension": ".py",
   "mimetype": "text/x-python",
   "name": "python",
   "nbconvert_exporter": "python",
   "pygments_lexer": "ipython3",
   "version": "3.7.4"
  },
  "pycharm": {
   "stem_cell": {
    "cell_type": "raw",
    "metadata": {
     "collapsed": false
    },
    "source": []
   }
  }
 },
 "nbformat": 4,
 "nbformat_minor": 4
}
