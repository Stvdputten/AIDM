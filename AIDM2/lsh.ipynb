{
 "cells": [
  {
   "cell_type": "markdown",
   "metadata": {},
   "source": [
    "\n",
    "\n",
    "## **Advances in Data Mining**\n",
    "\n",
    "Stephan van der Putten | (s1528459) | stvdputtenjur@gmail.com  \n",
    "Theo Baart | s2370328 | s2370328@student.leidenuniv.nl\n",
    "\n",
    "### **Assignment 2**\n",
    "This assignment is concerned with finding the set of similar users in the provided datasource. To be more explicit, in finding all pairs of users who have a Jaccard similarity of more than 0.5. Additionally, this assignment considers comparing the \"naïve implementation\" with the \"LSH implementation\". The \"naïve implementation\" can be found in the file `time_estimate.ipynb` and the \"LSH implementation\" in the file `lsh.ipynb`.\n",
    "\n",
    "Note all implementations are based on the assignment guidelines and helper files given as well as the documentation of the used functions. \n",
    "\n",
    "\n",
    "POSSIBLE SOURCES:\n",
    "<http://www.hcbravo.org/dscert-mldm/projects/project_1/>\n",
    "<https://colab.research.google.com/drive/1HetBrWFRYqwUxn0v7wIwS7COBaNmusfD#scrollTo=hzPw8EMoW4i4&forceEdit=true&sandboxMode=true>\n",
    "\n",
    "\n",
    "#### **LSH Implementation**\n",
    "This notebook implements LSH in order to find all pairs of users with a Jaccard similarity of more than 0.5. As noted in the assignment instructions the data file is loaded from `user_movie.npy` and the list of user pairs are printed in the file `ans.txt`. Additionally, this implementation supports the setting of a random seed to determine the permutations to be used in LSH. The algorithm will continually save its output so as to aid in the evluation criteria which only looks at the first 15 minutes of the LSH execution.\n",
    "___"
   ]
  },
  {
   "cell_type": "markdown",
   "metadata": {},
   "source": [
    "The following snippet handles all imports."
   ]
  },
  {
   "cell_type": "code",
   "execution_count": 24,
   "metadata": {
    "pycharm": {
     "is_executing": false
    }
   },
   "outputs": [],
   "source": [
    "import time\n",
    "import sys\n",
    "import numpy as np\n",
    "import pandas as pd\n",
    "from scipy.sparse import csr_matrix, csc_matrix, coo_matrix, lil_matrix, find\n",
    "from scipy.sparse import identity"
   ]
  },
  {
   "cell_type": "markdown",
   "metadata": {},
   "source": [
    "### **Program Execution**\n",
    "This section is concerned with parsing the input arguments and determining the execution flow of the program.\n",
    "\n",
    "___\n",
    "The `main` function handles the start of execution from the command line.\n",
    "\n",
    "In order to do this the function uses the following parameters:\n",
    "  * `argv` - the command line arguments given to the program\n",
    "  \n",
    "The following command line arguments are expected:\n",
    "  * `seed` - the value to use as random seed\n",
    "  * `path` - the location of the `user_movies.npy` file"
   ]
  },
  {
   "cell_type": "code",
   "execution_count": 25,
   "metadata": {
    "pycharm": {
     "is_executing": false
    }
   },
   "outputs": [],
   "source": [
    "user_movie = np.load('datasets/user_movie.npy')"
   ]
  },
  {
   "cell_type": "code",
   "execution_count": 26,
   "metadata": {
    "pycharm": {
     "is_executing": false
    }
   },
   "outputs": [
    {
     "name": "stdout",
     "output_type": "stream",
     "text": [
      "Wall time: 12.4 s\n"
     ]
    }
   ],
   "source": [
    "%%time\n",
    "c = user_movie[:,0]\n",
    "r = user_movie[:,1]\n",
    "d = np.ones(len(c))\n",
    "max_c = len(np.unique(c))\n",
    "max_r = len(np.unique(r))\n",
    "# m = csr_matrix((d, (r,c)), shape=(max_r, max_c))\n",
    "csc = csc_matrix((d, (r,c)), shape=(max_r, max_c))\n",
    "csr = csr_matrix((d, (r,c)), shape=(max_r, max_c))\n",
    "signature_length = 50\n",
    "\n",
    "# example = np.array([[1,0,0,1],[0,0,1,0],[0,1,0,1],[1,0,1,0],[0,0,1,0]])\n",
    "# hash_func = np.array([[4,3,1,2,0], [3,0,4,2,1]])"
   ]
  },
  {
   "cell_type": "code",
   "execution_count": 27,
   "metadata": {
    "collapsed": false,
    "jupyter": {
     "outputs_hidden": false
    },
    "pycharm": {
     "is_executing": false,
     "name": "#%%\n"
    }
   },
   "outputs": [],
   "source": [
    "def rowminhash(signature_length, hash_func, matrix):\n",
    "    sigm = np.full((signature_length, matrix.shape[1]), np.inf)\n",
    "    for row in range(matrix.shape[0]):\n",
    "        ones = find(matrix[row, :])[1]\n",
    "        hash = hash_func[:,row]\n",
    "        B = sigm.copy()\n",
    "        B[:,ones] = 1\n",
    "        B[:,ones] = np.multiply(B[:,ones], hash.reshape((len(hash), 1)))\n",
    "        sigm = np.minimum(sigm, B)\n",
    "    return(sigm)"
   ]
  },
  {
   "cell_type": "code",
   "execution_count": 148,
   "metadata": {
    "collapsed": false,
    "jupyter": {
     "outputs_hidden": false
    },
    "pycharm": {
     "is_executing": false,
     "name": "#%%\n"
    }
   },
   "outputs": [],
   "source": [
    "import scipy.optimize as opt\n",
    "import math\n",
    "\n",
    "def choose_nbands(t, n):\n",
    "    def error_fun(x):\n",
    "        cur_t = (1/x[0])**(x[0]/n)\n",
    "        return (t-cur_t)**2\n",
    "\n",
    "    opt_res = opt.minimize(error_fun, x0=(10), method='Nelder-Mead')\n",
    "    b = int(math.ceil(opt_res['x'][0]))\n",
    "#     r = int(n / b)\n",
    "    r = round(n / b)\n",
    "    final_t = (1/b)**(1/r)\n",
    "    return b, final_t\n",
    "\n",
    "\n",
    "\n",
    "\n",
    "def do_lsh(sign_matrix, signature_length, threshold):\n",
    "    return 0"
   ]
  },
  {
   "cell_type": "code",
   "execution_count": 139,
   "metadata": {},
   "outputs": [],
   "source": [
    "def make_random_hash_fn(p=2**31-1, m=4294967295):\n",
    "#     def make_random_hash_fn(p=2**33-355, m=4294967295):\n",
    "    a = np.random.randint(1,p-1)\n",
    "    b = np.random.randint(0, p-1)\n",
    "    return lambda x: ((a * x + b) % p) % m"
   ]
  },
  {
   "cell_type": "code",
   "execution_count": 140,
   "metadata": {},
   "outputs": [],
   "source": [
    "import hashlib\n",
    "def lsh_r_bucket_to_id(u,id,b,r):\n",
    "    u=u.T\n",
    "    id = np.array(id)\n",
    "    number_of_users = u.shape[0]\n",
    "    buckets = [dict() for x in range(b)]\n",
    "    hash_buckets = [dict() for x in range(b)]\n",
    "    hf = make_random_hash_fn()\n",
    "    t1 = time.time()\n",
    "\n",
    "    for i in range(number_of_users):\n",
    "        if i % 10000==0:\n",
    "            print(str(round(100*i/number_of_users,2))+' percent complete in '+str(round(time.time()-t1,2))+ ' seconds')\n",
    "        row = u[i,:]    \n",
    "        for j in range(b):\n",
    "            r_signature = str(row[j*r:(j+1)*r])\n",
    "            r_hash = int(hashlib.sha1(r_signature.encode()).hexdigest()[:8], 16)\n",
    "            r_hash = hf(r_hash)\n",
    "#             print(r_signature)\n",
    "#             print(r_signature.shape)\n",
    "#             print(r_hash)\n",
    "#             return 0\n",
    "            if r_hash in hash_buckets[j]:\n",
    "                hash_buckets[j][r_hash] = hash_buckets[j][r_hash]+[id[i]]\n",
    "            else :\n",
    "                hash_buckets[j][r_hash] = [id[i]]\n",
    "#             if r_signature in buckets[j]:\n",
    "#                 buckets[j][r_signature] = buckets[j][r_signature]+[id[i]]\n",
    "#             else :\n",
    "#                 buckets[j][r_signature] = [id[i]]\n",
    "    return hash_buckets#buckets"
   ]
  },
  {
   "cell_type": "code",
   "execution_count": 22,
   "metadata": {},
   "outputs": [],
   "source": [
    "# sigm100 = np.load('datasets/sign_matrix_100.npy')\n",
    "sigm50 = np.load('datasets/sign_matrix.npy')"
   ]
  },
  {
   "cell_type": "code",
   "execution_count": 149,
   "metadata": {},
   "outputs": [
    {
     "name": "stdout",
     "output_type": "stream",
     "text": [
      "9 4 0.5773502691896257\n",
      "10 4 0.5623413251903491\n",
      "11 3 0.4496443130226092\n",
      "11 4 0.5491004867761125\n",
      "12 3 0.43679023236814946\n",
      "12 4 0.537284965911771\n",
      "13 3 0.4252903702829902\n",
      "13 4 0.5266403878479267\n",
      "14 3 0.41491326668312173\n",
      "14 4 0.5169731539571706\n"
     ]
    }
   ],
   "source": [
    "# Tests multiple values of b and r and returns those with .1 of our ideal t value\n",
    "#TODO make function and auto generate b/r\n",
    "for b in range(1,15):\n",
    "    r = int(numhashes / b)\n",
    "    for r_i in range (r-1,r+2):\n",
    "        t = (1/b)**(1/r_i)\n",
    "        if t > 0.4 and t < 0.6:\n",
    "            print(b,r_i,t)"
   ]
  },
  {
   "cell_type": "code",
   "execution_count": 150,
   "metadata": {},
   "outputs": [
    {
     "name": "stdout",
     "output_type": "stream",
     "text": [
      "0.57 12 4 0.537284965911771\n"
     ]
    }
   ],
   "source": [
    "sigm = sigm50\n",
    "threshold=0.57 # overshoot so as to get a similarity matrix closer to 0.5\n",
    "numhashes = sigm.shape[0]\n",
    "b, _ = choose_nbands(threshold, numhashes)\n",
    "# b = 13\n",
    "# r = 4\n",
    "r = round(numhashes / b)\n",
    "\n",
    "print(threshold,b,r,_)\n",
    "user_ids = np.array(list(range(csr.shape[1])))\n",
    "# r_bucket_to_id = lsh_r_bucket_to_id(sigm,user_ids,b,r)"
   ]
  },
  {
   "cell_type": "code",
   "execution_count": null,
   "metadata": {},
   "outputs": [],
   "source": [
    "r_bucket_to_id"
   ]
  },
  {
   "cell_type": "code",
   "execution_count": null,
   "metadata": {},
   "outputs": [],
   "source": [
    "https://surfdrive.surf.nl/files/index.php/s/WwZqzkkHxg6KLlL"
   ]
  },
  {
   "cell_type": "code",
   "execution_count": null,
   "metadata": {},
   "outputs": [],
   "source": [
    "print((short_buckets.values()))"
   ]
  },
  {
   "cell_type": "code",
   "execution_count": 142,
   "metadata": {},
   "outputs": [
    {
     "name": "stdout",
     "output_type": "stream",
     "text": [
      "band: 0\n",
      "28232\n",
      "6982\n",
      "band: 1\n",
      "45541\n",
      "10873\n",
      "band: 2\n",
      "35656\n",
      "8466\n",
      "band: 3\n",
      "43230\n",
      "10535\n",
      "band: 4\n",
      "48048\n",
      "10862\n",
      "band: 5\n",
      "46199\n",
      "10892\n",
      "band: 6\n",
      "41774\n",
      "9706\n",
      "band: 7\n",
      "40963\n",
      "10421\n",
      "band: 8\n",
      "33665\n",
      "8080\n",
      "band: 9\n",
      "48973\n",
      "10395\n",
      "band: 10\n",
      "40473\n",
      "9699\n",
      "band: 11\n",
      "43707\n",
      "10135\n",
      "band: 12\n",
      "4445\n",
      "2500\n",
      "band: 13\n",
      "1\n",
      "1\n",
      "0\n",
      "Wall time: 226 ms\n"
     ]
    }
   ],
   "source": [
    "%%time\n",
    "pairs = set()\n",
    "for b in range(len(r_bucket_to_id)):\n",
    "    print('band:',b)\n",
    "    sub_buckets = r_bucket_to_id[b]\n",
    "    print(len(sub_buckets))\n",
    "    short_buckets = {k: v for k, v in sub_buckets.items() if len(v) >= 2}\n",
    "    print(len(short_buckets))\n",
    "    i = 0\n",
    "#     for v in short_buckets.values():\n",
    "# #         print(i,len(v))\n",
    "#         pairs.update(set(it.combinations(v,2)))\n",
    "#         i += 1\n",
    "#         if i == 100:\n",
    "#             break\n",
    "print(len(pairs))"
   ]
  },
  {
   "cell_type": "code",
   "execution_count": 6,
   "metadata": {
    "collapsed": false,
    "jupyter": {
     "outputs_hidden": false
    },
    "pycharm": {
     "is_executing": false,
     "name": "#%%\n"
    }
   },
   "outputs": [
    {
     "name": "stdout",
     "output_type": "stream",
     "text": [
      "CPU times: user 4min 13s, sys: 2min 47s, total: 7min 1s\n",
      "Wall time: 7min 1s\n"
     ]
    }
   ],
   "source": [
    "np.random.seed = 42\n",
    "\n",
    "# example = csr\n",
    "# example = np.array([[1,0,0,1],[0,0,1,0],[0,1,0,1],[1,0,1,0],[0,0,1,0]])\n",
    "# %time sigm1 = minhash(signature_length,hash_func, example)\n",
    "# signature_length = 100\n",
    "# hash_func = np.array([np.random.permutation(csr.shape[0]) for i in range(signature_length)])\n",
    "# %time sigm1 = rowminhash(signature_length ,hash_func, csr)\n",
    "\n",
    "signature_length = 50\n",
    "hash_func = np.array([np.random.permutation(csr.shape[0]) for i in range(signature_length)])\n",
    "%time sigm2 = rowminhash(signature_length,hash_func, csr)\n",
    "# print(sigm2)\n",
    "# np.save('datasets/sign_matrix_100', sigm1)\n",
    "# np.save('datasets/sign_matrix', sigm2)"
   ]
  },
  {
   "cell_type": "code",
   "execution_count": null,
   "metadata": {},
   "outputs": [],
   "source": [
    "#TODO write out our results ans.txt \n",
    "#TODO set seed in our perm hash function\n",
    "#TODO Find pairs of similar users from buckets\n",
    "#TODO Elegance aka classes, comments/report/citation\n",
    "#TODO IMPROVE EFFICIENCY FOR LONGER SIGNATURES Time < 15"
   ]
  },
  {
   "cell_type": "code",
   "execution_count": null,
   "metadata": {
    "pycharm": {
     "is_executing": false
    }
   },
   "outputs": [],
   "source": [
    "def main(argv):\n",
    "    seed = sys.argv[1]\n",
    "    path = sys.argv[2]\n",
    "    print(seed, path)"
   ]
  },
  {
   "cell_type": "markdown",
   "metadata": {},
   "source": [
    "The following snippet passes the start of the program and the command line arguments to the `main` function."
   ]
  },
  {
   "cell_type": "code",
   "execution_count": null,
   "metadata": {
    "pycharm": {
     "is_executing": false
    }
   },
   "outputs": [],
   "source": [
    "if __name__ == \"__main__\":\n",
    "    main(sys.argv[1:])"
   ]
  }
 ],
 "metadata": {
  "kernelspec": {
   "display_name": "Python 3",
   "language": "python",
   "name": "python3"
  },
  "language_info": {
   "codemirror_mode": {
    "name": "ipython",
    "version": 3
   },
   "file_extension": ".py",
   "mimetype": "text/x-python",
   "name": "python",
   "nbconvert_exporter": "python",
   "pygments_lexer": "ipython3",
   "version": "3.7.4"
  },
  "pycharm": {
   "stem_cell": {
    "cell_type": "raw",
    "metadata": {
     "collapsed": false
    },
    "source": []
   }
  }
 },
 "nbformat": 4,
 "nbformat_minor": 4
}
