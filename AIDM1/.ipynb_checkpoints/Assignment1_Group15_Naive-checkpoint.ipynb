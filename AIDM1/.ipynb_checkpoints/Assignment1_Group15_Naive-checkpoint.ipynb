{
 "cells": [
  {
   "cell_type": "markdown",
   "metadata": {},
   "source": [
    "## **Advances in Data Mining**\n",
    "\n",
    "Stephan van der Putten | (s1528459) | stvdputtenjur@gmail.com  \n",
    "Theo Baart | s2370328 | s2370328@student.leidenuniv.nl\n",
    "\n",
    "### **Assignment 1**\n",
    "This assignment is concered with implementing formulas and models capable of predicting movie ratings for a set of users. Additionally, the accuracy of the various models are checked. \n",
    "\n",
    "#### **Naive Approaches**\n",
    "This specific notebook handles the implementation of various naive approaches/formulas to the prediction problem."
   ]
  },
  {
   "cell_type": "code",
   "execution_count": 1,
   "metadata": {},
   "outputs": [],
   "source": [
    "import numpy as np\n",
    "import pandas as pd\n",
    "import matplotlib.pyplot as plt"
   ]
  },
  {
   "cell_type": "markdown",
   "metadata": {},
   "source": [
    "### **Data Extraction**\n",
    "\n",
    "The `convert_data` function is used to extract the data from the raw data file into a format useable within the formulas."
   ]
  },
  {
   "cell_type": "code",
   "execution_count": 20,
   "metadata": {},
   "outputs": [],
   "source": [
    "def convert_data(path=\"datasets/ratings.dat\",cols=(0,1,2),delim=\"::\",dt=\"int\"):\n",
    "    raw = np.genfromtxt(path, usecols=cols, delimiter=delim, dtype=dt)\n",
    "    path, ext = path.split('.')\n",
    "    path = path + \".npy\"\n",
    "    np.save(path,raw)\n",
    "    # check to see if file works\n",
    "    assert np.load(path).all() == raw.all()\n",
    "    return path"
   ]
  },
  {
   "cell_type": "code",
   "execution_count": 29,
   "metadata": {},
   "outputs": [],
   "source": [
    "datapath = 'datasets/ratings.npy' #leave blank to force data reload\n",
    "if not datapath:\n",
    "    datapath = convert_data()\n",
    "ratings = np.load(datapath)"
   ]
  },
  {
   "cell_type": "markdown",
   "metadata": {},
   "source": [
    "### **Rating Global**\n",
    "\n",
    "The `rating_global` function predicts the user's ratings for a certain movie by taking the mean of all the ratings in the dataset. In order to do this the function uses the following parameters:\n",
    "    * `User` - the user for which we want the rating\n",
    "    * `Item` - the item (movie) for which we want the rating"
   ]
  },
  {
   "cell_type": "markdown",
   "metadata": {},
   "source": [
    "### **Rating Item**\n",
    "\n",
    "The `rating_item` function predicts the user's ratings for a certain movie by taking the mean of all the ratings in the dataset for that specific movie. In order to do this the function uses the following parameters:\n",
    "    * `User` - the user for which we want the rating\n",
    "    * `Item` - the item (movie) for which we want the rating"
   ]
  },
  {
   "cell_type": "markdown",
   "metadata": {},
   "source": [
    "### **Rating User**\n",
    "\n",
    "The `rating_user` function predicts the user's ratings for a certain movie by taking the mean of all the ratings in the dataset by the specific user. In order to do this the function uses the following parameters:\n",
    "    * `User` - the user for which we want the rating\n",
    "    * `Item` - the item (movie) for which we want the rating"
   ]
  },
  {
   "cell_type": "markdown",
   "metadata": {},
   "source": [
    "### **Rating User-Item**\n",
    "\n",
    "The `rating_user_item` function predicts the user's ratings for a certain movie by applying a linear regression to the outputs of the `rating_user` and `rating_item` functions. In order to do this the function uses the following parameters:\n",
    "    * `User` - the user for which we want the rating\n",
    "    * `Item` - the item (movie) for which we want the rating\n",
    "    * `alpha` - the weight for the `rating_user` function\n",
    "    * `beta` - the weight for the `rating_item` function\n",
    "    * `gamma` - the offset/modifier for the linear regression"
   ]
  }
 ],
 "metadata": {
  "kernelspec": {
   "display_name": "Python 3",
   "language": "python",
   "name": "python3"
  },
  "language_info": {
   "codemirror_mode": {
    "name": "ipython",
    "version": 3
   },
   "file_extension": ".py",
   "mimetype": "text/x-python",
   "name": "python",
   "nbconvert_exporter": "python",
   "pygments_lexer": "ipython3",
   "version": "3.7.4"
  }
 },
 "nbformat": 4,
 "nbformat_minor": 2
}
