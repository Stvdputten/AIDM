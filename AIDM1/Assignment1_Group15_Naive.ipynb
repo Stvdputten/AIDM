{
 "cells": [
  {
   "cell_type": "markdown",
   "metadata": {},
   "source": [
    "## **Advances in Data Mining**\n",
    "\n",
    "Stephan van der Putten | (s1528459) | stvdputtenjur@gmail.com  \n",
    "Theo Baart | s2370328 | s2370328@student.leidenuniv.nl\n",
    "\n",
    "### **Assignment 1**\n",
    "This assignment is concered with implementing formulas and models capable of predicting movie ratings for a set of users. Additionally, the accuracy of the various models are checked. \n",
    "\n",
    "#### **Naive Approaches**\n",
    "This specific notebook handles the implementation of various naive approaches/formulas to the prediction problem."
   ]
  },
  {
   "cell_type": "code",
   "execution_count": 1,
   "metadata": {},
   "outputs": [],
   "source": [
    "import numpy as np\n",
    "import pandas as pd\n",
    "import matplotlib.pyplot as plt"
   ]
  },
  {
   "cell_type": "markdown",
   "metadata": {},
   "source": [
    "### **Data Extraction**\n",
    "\n",
    "The `convert_data` function is used to extract the data from the raw data file and store it in a format that is more convenient for us. \n",
    "\n",
    "In order to do this the function uses the following parameters:\n",
    "    * `path` - the (relative) location of the raw dataset\n",
    "    * `cols` - which columns to load from the raw dataset\n",
    "    * `delim` - the delimitor used in the raw dataset\n",
    "    * `dt` - the datatype used for the data in the raw dataset\n",
    "    \n",
    "Additionally it returns the following value:\n",
    "    * `path` - the location at which the converted dataset is stored"
   ]
  },
  {
   "cell_type": "code",
   "execution_count": 2,
   "metadata": {},
   "outputs": [],
   "source": [
    "def convert_data(path=\"datasets/ratings.dat\",cols=(0,1,2),delim=\"::\",dt=\"int\"):\n",
    "    raw = np.genfromtxt(path, usecols=cols, delimiter=delim, dtype=dt)\n",
    "    path, ext = path.split('.')\n",
    "    path = path + \".npy\"\n",
    "    np.save(path,raw)\n",
    "    # check to see if file works\n",
    "    assert np.load(path).all() == raw.all()\n",
    "    return path"
   ]
  },
  {
   "cell_type": "markdown",
   "metadata": {},
   "source": [
    "The `prep_data` function is used to load the stored data and transform it into a usable and well defined dataframe. \n",
    "\n",
    "In order to do this the function uses the following parameters:\n",
    "    * `datapth` - the (relative) location of the converted dataset\n",
    "    \n",
    "Additionally it returns the following value:\n",
    "    * `df_ratings` - a dataframe containing the dataset"
   ]
  },
  {
   "cell_type": "code",
   "execution_count": 3,
   "metadata": {},
   "outputs": [],
   "source": [
    "def prep_data(datapath=''):\n",
    "    if not datapath:\n",
    "        datapath = convert_data()\n",
    "    ratings = np.load(datapath)\n",
    "    df_ratings = pd.DataFrame(ratings)\n",
    "    colnames = ['UserId', 'MovieId', 'Rating']\n",
    "    df_ratings.columns = colnames\n",
    "    return df_ratings"
   ]
  },
  {
   "cell_type": "code",
   "execution_count": null,
   "metadata": {},
   "outputs": [],
   "source": []
  },
  {
   "cell_type": "markdown",
   "metadata": {},
   "source": [
    "The `split_dataset` function is used to split the dataset into training and test subsets.\n",
    "\n",
    "In order to do this the function uses the following parameters:\n",
    "    * `df` - the dataframe contianing the dataset to be split\n",
    "    * `no` - the number of training/test sets to be generated\n",
    "    * `seed` - the random seed to be used\n",
    "    \n",
    "Additionally it returns the following value:\n",
    "    * `sets` - a nested dictionary containing the training/test sets"
   ]
  },
  {
   "cell_type": "code",
   "execution_count": 4,
   "metadata": {},
   "outputs": [],
   "source": [
    "def split_dataset(df,no,seed=17092019):\n",
    "    sets = {}\n",
    "    np.random.seed(seed)\n",
    "    sequences = [x%no for x in range(len(df))]\n",
    "    np.random.shuffle(sequences)\n",
    "    for n in range(no):\n",
    "        subset = {}\n",
    "        train_subset=np.array([x!=n for x in sequences])\n",
    "        test_subset=np.array([x==n for x in sequences])\n",
    "        subset['Train'] = df[train_subset]\n",
    "        subset['Test'] = df[test_subset]\n",
    "        sets[n] = subset\n",
    "    return sets"
   ]
  },
  {
   "cell_type": "code",
   "execution_count": 5,
   "metadata": {},
   "outputs": [],
   "source": [
    "datapath = 'datasets/ratings.npy'\n",
    "df_ratings = prep_data(datapath)\n",
    "split_sets = split_dataset(df_ratings,5)"
   ]
  },
  {
   "cell_type": "markdown",
   "metadata": {},
   "source": [
    "### **Rating Global**\n",
    "\n",
    "The `rating_global` function predicts the user's ratings for a certain movie by taking the mean of all the ratings in the dataset. \n",
    "\n",
    "In order to do this the function uses the following parameters:\n",
    "    * `df` - the dataframe containing the dataset\n",
    "    \n",
    "Additionally it returns the following value:\n",
    "    * `mean` - the predicted rating for the requested movie by the requested user"
   ]
  },
  {
   "cell_type": "code",
   "execution_count": 6,
   "metadata": {},
   "outputs": [],
   "source": [
    "def rating_global(df):\n",
    "    mean = df['Rating'].mean()\n",
    "    return mean"
   ]
  },
  {
   "cell_type": "code",
   "execution_count": 7,
   "metadata": {},
   "outputs": [
    {
     "name": "stdout",
     "output_type": "stream",
     "text": [
      "3.581564453029317\n"
     ]
    }
   ],
   "source": [
    "example = rating_global(df_ratings)\n",
    "print(example)"
   ]
  },
  {
   "cell_type": "markdown",
   "metadata": {},
   "source": [
    "### **Rating Item**\n",
    "\n",
    "The `rating_item` function predicts the user's ratings for a certain movie by taking the mean of all the ratings in the dataset for that specific movie.\n",
    "\n",
    "In order to do this the function uses the following parameters:\n",
    "    * `item` - the item (movie) for which we want the rating\n",
    "    * `df` - the dataframe containing the dataset\n",
    "    \n",
    "Additionally it returns the following value:\n",
    "    * `mean` - the predicted rating for the requested movie by the requested user"
   ]
  },
  {
   "cell_type": "code",
   "execution_count": 8,
   "metadata": {},
   "outputs": [],
   "source": [
    "def rating_item(item,df):\n",
    "    mean = df[df['MovieId']== item].groupby('MovieId')['Rating'].mean()\n",
    "    return mean[item]"
   ]
  },
  {
   "cell_type": "code",
   "execution_count": 9,
   "metadata": {},
   "outputs": [
    {
     "name": "stdout",
     "output_type": "stream",
     "text": [
      "3.0067567567567566\n"
     ]
    }
   ],
   "source": [
    "example = rating_item(5,df_ratings)\n",
    "print(example)"
   ]
  },
  {
   "cell_type": "markdown",
   "metadata": {},
   "source": [
    "### **Rating User**\n",
    "\n",
    "The `rating_user` function predicts the user's ratings for a certain movie by taking the mean of all the ratings in the dataset by the specific user. \n",
    "\n",
    "In order to do this the function uses the following parameters:\n",
    "    * `user` - the user for which we want the rating\n",
    "    * `df` - the dataframe containing the dataset\n",
    "    \n",
    "Additionally it returns the following value:\n",
    "    * `mean` - the predicted rating for the requested movie by the requested user"
   ]
  },
  {
   "cell_type": "code",
   "execution_count": 10,
   "metadata": {},
   "outputs": [],
   "source": [
    "def rating_user(user,df):\n",
    "    mean = df[df['UserId']== user].groupby('UserId')['Rating'].mean()\n",
    "    return mean[user]"
   ]
  },
  {
   "cell_type": "code",
   "execution_count": 11,
   "metadata": {},
   "outputs": [
    {
     "name": "stdout",
     "output_type": "stream",
     "text": [
      "4.083333333333333\n"
     ]
    }
   ],
   "source": [
    "example = rating_user(20,df_ratings)\n",
    "print(example)"
   ]
  },
  {
   "cell_type": "markdown",
   "metadata": {},
   "source": [
    "### **Rating User-Item**\n",
    "\n",
    "The `rating_user_item` function predicts the user's ratings for a certain movie by applying a linear regression to the outputs of the `rating_user` and `rating_item` functions. \n",
    "\n",
    "In order to do this the function uses the following parameters:\n",
    "    * `user` - the user for which we want the rating\n",
    "    * `item` - the item (movie) for which we want the rating\n",
    "    * `df` - the dataframe containing the dataset\n",
    "    * `alpha` - the weight for the `rating_user` function\n",
    "    * `beta` - the weight for the `rating_item` function\n",
    "    * `gamma` - the offset/modifier for the linear regression\n",
    "    \n",
    "Additionally it returns the following value:\n",
    "    * `mean` - the predicted rating for the requested movie by the requested user    \n",
    "  \n",
    "Note: `alpha`, `beta` and `gamma` are estimated by the `run_linear_regression` function. "
   ]
  },
  {
   "cell_type": "code",
   "execution_count": 12,
   "metadata": {},
   "outputs": [],
   "source": [
    "def rating_user_item(user,item,df,alpha,beta,gamma):\n",
    "    mean_user = rating_user(user,df)\n",
    "    mean_item = rating_item(item,df)\n",
    "    print(mean_user,mean_item)\n",
    "    mean = alpha * mean_user + beta * mean_item + gamma\n",
    "    return mean"
   ]
  },
  {
   "cell_type": "markdown",
   "metadata": {},
   "source": [
    "The `run_linear_regression` function estimates the values needed for `alpha`, `beta` and `gamma`.\n",
    "\n",
    "In order to do this the function uses the following parameters:\n",
    "\n",
    "    * `df` - the dataframe containing the dataset\n",
    "\n",
    "Additionally it returns the following values:\n",
    "    * `alpha` - the estimated weight for the `rating_user` function\n",
    "    * `beta` - the estimated weight for the `rating_item` function\n",
    "    * `gamma` - the estimated offset/modifier for the linear regression"
   ]
  },
  {
   "cell_type": "code",
   "execution_count": 13,
   "metadata": {},
   "outputs": [
    {
     "name": "stdout",
     "output_type": "stream",
     "text": [
      "UserId\n",
      "1       4.188679\n",
      "2       3.713178\n",
      "3       3.901961\n",
      "4       4.190476\n",
      "5       3.146465\n",
      "6       3.901408\n",
      "7       4.322581\n",
      "8       3.884892\n",
      "9       3.735849\n",
      "10      4.114713\n",
      "11      3.277372\n",
      "12      3.826087\n",
      "13      3.388889\n",
      "14      3.320000\n",
      "15      3.323383\n",
      "16      3.028571\n",
      "17      4.075829\n",
      "18      3.649180\n",
      "19      3.572549\n",
      "20      4.083333\n",
      "21      2.909091\n",
      "22      3.067340\n",
      "23      3.315789\n",
      "24      3.948529\n",
      "25      3.741176\n",
      "26      2.960000\n",
      "27      4.171429\n",
      "28      3.757009\n",
      "29      3.583333\n",
      "30      3.488372\n",
      "          ...   \n",
      "6011    3.969543\n",
      "6012    3.000000\n",
      "6013    4.080645\n",
      "6014    3.886792\n",
      "6015    3.754386\n",
      "6016    3.189219\n",
      "6017    3.515152\n",
      "6018    3.591195\n",
      "6019    3.460674\n",
      "6020    4.395349\n",
      "6021    3.500000\n",
      "6022    3.854167\n",
      "6023    3.687075\n",
      "6024    4.126316\n",
      "6025    3.302583\n",
      "6026    3.617284\n",
      "6027    4.250000\n",
      "6028    3.446809\n",
      "6029    3.903226\n",
      "6030    3.939130\n",
      "6031    3.666667\n",
      "6032    4.134615\n",
      "6033    3.850000\n",
      "6034    4.095238\n",
      "6035    2.610714\n",
      "6036    3.302928\n",
      "6037    3.717822\n",
      "6038    3.800000\n",
      "6039    3.878049\n",
      "6040    3.577713\n",
      "Name: Rating, Length: 6040, dtype: float64\n"
     ]
    }
   ],
   "source": [
    "r_user = df_ratings.groupby('UserId')['Rating'].mean()\n",
    "r_item = df_ratings.groupby('MovieId')['Rating'].mean().tolist()\n",
    "# np.vstack((r_user,r_item))\n",
    "print(r_user)"
   ]
  },
  {
   "cell_type": "code",
   "execution_count": 23,
   "metadata": {},
   "outputs": [],
   "source": [
    "def run_linear_regression(df):\n",
    "    r_user = df.groupby('UserId')['Rating'].mean()\n",
    "    r_item = df.groupby('MovieId')['Rating'].mean()\n",
    "    \n",
    "    matrix = []\n",
    "    for index, row in df.iterrows():\n",
    "        #print(row['UserId'],row['MovieId'],r_user[row['UserId']], r_item[row['MovieId']])\n",
    "        matrix.append([r_user[row['UserId']], r_item[row['MovieId']], 1])\n",
    "    #print(matrix)\n",
    "    np.save('inputLM.npy', matrix)\n",
    "        \n",
    "    alpha = 0.5 #replace me \n",
    "    beta = 0.5 #replace me\n",
    "    gamma = 0.5 #replace me\n",
    "    return alpha, beta, gamma"
   ]
  },
  {
   "cell_type": "code",
   "execution_count": 24,
   "metadata": {},
   "outputs": [
    {
     "name": "stdout",
     "output_type": "stream",
     "text": [
      "4.188679245283019 4.146846413095811\n"
     ]
    }
   ],
   "source": [
    "alpha,beta,gamma = run_linear_regression(df_ratings)\n",
    "example = rating_user_item(1,1,df_ratings,alpha,beta,gamma)\n",
    "#print(example)"
   ]
  },
  {
   "cell_type": "code",
   "execution_count": 25,
   "metadata": {},
   "outputs": [],
   "source": [
    "matrix = np.load('inputLM.npy')    "
   ]
  },
  {
   "cell_type": "code",
   "execution_count": 26,
   "metadata": {},
   "outputs": [
    {
     "data": {
      "text/plain": [
       "(1000209, 3)"
      ]
     },
     "execution_count": 26,
     "metadata": {},
     "output_type": "execute_result"
    }
   ],
   "source": [
    "matrix.shape"
   ]
  },
  {
   "cell_type": "code",
   "execution_count": 29,
   "metadata": {},
   "outputs": [
    {
     "data": {
      "text/plain": [
       "array([4.18867925, 4.39072464, 1.        ])"
      ]
     },
     "execution_count": 29,
     "metadata": {},
     "output_type": "execute_result"
    }
   ],
   "source": [
    "matrix[0]"
   ]
  }
 ],
 "metadata": {
  "kernelspec": {
   "display_name": "Python 3",
   "language": "python",
   "name": "python3"
  },
  "language_info": {
   "codemirror_mode": {
    "name": "ipython",
    "version": 3
   },
   "file_extension": ".py",
   "mimetype": "text/x-python",
   "name": "python",
   "nbconvert_exporter": "python",
   "pygments_lexer": "ipython3",
   "version": "3.6.8"
  }
 },
 "nbformat": 4,
 "nbformat_minor": 2
}
