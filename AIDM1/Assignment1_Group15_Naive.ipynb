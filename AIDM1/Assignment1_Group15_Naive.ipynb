{
 "cells": [
  {
   "cell_type": "markdown",
   "metadata": {},
   "source": [
    "## **Advances in Data Mining**\n",
    "\n",
    "Stephan van der Putten | (s1528459) | stvdputtenjur@gmail.com  \n",
    "Theo Baart | s2370328 | s2370328@student.leidenuniv.nl\n",
    "\n",
    "### **Assignment 1**\n",
    "This assignment is concered with implementing formulas and models capable of predicting movie ratings for a set of users. Additionally, the accuracy of the various models are checked. \n",
    "\n",
    "#### **Naive Approaches**\n",
    "This specific notebook handles the implementation of various naive approaches/formulas to the prediction problem."
   ]
  },
  {
   "cell_type": "markdown",
   "metadata": {},
   "source": [
    "The following snippet handles all imports."
   ]
  },
  {
   "cell_type": "code",
   "execution_count": 106,
   "metadata": {},
   "outputs": [],
   "source": [
    "import numpy as np\n",
    "import pandas as pd\n",
    "import matplotlib.pyplot as plt\n",
    "import os.path\n",
    "import sklearn\n",
    "from sklearn.model_selection import KFold"
   ]
  },
  {
   "cell_type": "markdown",
   "metadata": {},
   "source": [
    "### **Data Extraction and Preparation**\n",
    "\n",
    "The `convert_data` function is used to extract the data from the raw data file and store it in a format that is more convenient for us. \n",
    "\n",
    "In order to do this the function uses the following parameters:\n",
    "  * `path` - the (relative) location of the raw dataset (with filetype `.dat`)\n",
    "  * `cols` - which columns to load from the raw dataset\n",
    "  * `delim` - the delimitor used in the raw dataset\n",
    "  * `dt` - the datatype used for the data in the raw dataset\n",
    "    \n",
    "Additionally it returns the following value:\n",
    "  * `path` - the location at which the converted dataset is stored (with filetype `.npy`)"
   ]
  },
  {
   "cell_type": "code",
   "execution_count": 104,
   "metadata": {},
   "outputs": [],
   "source": [
    "def convert_data(path=\"datasets/ratings\",cols=(0,1,2),delim=\"::\",dt=\"int\"):\n",
    "    raw = np.genfromtxt(path+'.dat', usecols=cols, delimiter=delim, dtype=dt)\n",
    "    np.save(path+\".npy\",raw)\n",
    "    # check to see if file works\n",
    "    assert np.load(path+'.npy').all() == raw.all()\n",
    "    return path"
   ]
  },
  {
   "cell_type": "markdown",
   "metadata": {},
   "source": [
    "The `prep_data` function is used to load the stored data and transform it into a usable and well defined dataframe. \n",
    "\n",
    "In order to do this the function uses the following parameters:\n",
    "  * `path` - the (relative) location of the converted dataset\n",
    "    \n",
    "Additionally it returns the following value:\n",
    "  * `df_ratings` - a dataframe containing the dataset"
   ]
  },
  {
   "cell_type": "code",
   "execution_count": 8,
   "metadata": {},
   "outputs": [],
   "source": [
    "def prep_data(path='datasets/ratings'):\n",
    "    filepath = path+'.npy'\n",
    "     if not os.path.isfile(filepath):\n",
    "        path = conver_data()\n",
    "    if not datapath:\n",
    "        datapath = convert_data()\n",
    "    ratings = np.load(datapath)\n",
    "    df_ratings = pd.DataFrame(ratings)\n",
    "    colnames = ['UserId', 'MovieId', 'Rating']\n",
    "    df_ratings.columns = colnames\n",
    "    return df_ratings"
   ]
  },
  {
   "cell_type": "markdown",
   "metadata": {},
   "source": [
    "The following snippet is responsible for running the extraction and preparation of the raw data. The data is stored in `df_ratings`."
   ]
  },
  {
   "cell_type": "markdown",
   "metadata": {},
   "source": [
    "datapath = 'datasets/ratings.npy'\n",
    "df_ratings = prep_data(datapath)"
   ]
  },
  {
   "cell_type": "markdown",
   "metadata": {},
   "source": [
    "### **Rating Global**\n",
    "\n",
    "The `rating_global` function predicts the user's ratings for a certain movie by taking the mean of all the ratings in the dataset. \n",
    "\n",
    "In order to do this the function uses the following parameters:\n",
    "  * `df` - the dataframe containing the dataset\n",
    "    \n",
    "Additionally it returns the following value:\n",
    "  * `mean` - the predicted rating for the requested movie by the requested user"
   ]
  },
  {
   "cell_type": "code",
   "execution_count": 11,
   "metadata": {},
   "outputs": [],
   "source": [
    "def rating_global(df):\n",
    "    mean = df['Rating'].mean()\n",
    "    return mean"
   ]
  },
  {
   "cell_type": "markdown",
   "metadata": {},
   "source": [
    "The following snippet executes a test run of the rating function."
   ]
  },
  {
   "cell_type": "code",
   "execution_count": 12,
   "metadata": {},
   "outputs": [
    {
     "name": "stdout",
     "output_type": "stream",
     "text": [
      "3.581564453029317\n"
     ]
    }
   ],
   "source": [
    "example = rating_global(df_ratings)\n",
    "print(example)"
   ]
  },
  {
   "cell_type": "markdown",
   "metadata": {},
   "source": [
    "### **Rating Item**\n",
    "\n",
    "The `rating_item` function predicts the user's ratings for a certain movie by taking the mean of all the ratings in the dataset for that specific movie.\n",
    "\n",
    "In order to do this the function uses the following parameters:\n",
    "  * `item` - the item (movie) for which we want the rating\n",
    "  * `df` - the dataframe containing the dataset\n",
    "    \n",
    "Additionally it returns the following value:\n",
    "  * `mean` - the predicted rating for the requested movie by the requested user"
   ]
  },
  {
   "cell_type": "code",
   "execution_count": 13,
   "metadata": {},
   "outputs": [],
   "source": [
    "def rating_item(item,df):\n",
    "    mean = df[df['MovieId']== item].groupby('MovieId')['Rating'].mean()\n",
    "    return mean[item]"
   ]
  },
  {
   "cell_type": "markdown",
   "metadata": {},
   "source": [
    "The following snippet executes a test run of the rating function."
   ]
  },
  {
   "cell_type": "code",
   "execution_count": 14,
   "metadata": {},
   "outputs": [
    {
     "name": "stdout",
     "output_type": "stream",
     "text": [
      "3.0067567567567566\n"
     ]
    }
   ],
   "source": [
    "example = rating_item(5,df_ratings)\n",
    "print(example)"
   ]
  },
  {
   "cell_type": "markdown",
   "metadata": {},
   "source": [
    "### **Rating User**\n",
    "\n",
    "The `rating_user` function predicts the user's ratings for a certain movie by taking the mean of all the ratings in the dataset by the specific user. \n",
    "\n",
    "In order to do this the function uses the following parameters:\n",
    "  * `user` - the user for which we want the rating\n",
    "  * `df` - the dataframe containing the dataset\n",
    "    \n",
    "Additionally it returns the following value:\n",
    "  * `mean` - the predicted rating for the requested movie by the requested user"
   ]
  },
  {
   "cell_type": "code",
   "execution_count": 15,
   "metadata": {},
   "outputs": [],
   "source": [
    "def rating_user(user,df):\n",
    "    mean = df[df['UserId']== user].groupby('UserId')['Rating'].mean()\n",
    "    return mean[user]"
   ]
  },
  {
   "cell_type": "markdown",
   "metadata": {},
   "source": [
    "The following snippet executes a test run of the rating function."
   ]
  },
  {
   "cell_type": "code",
   "execution_count": 16,
   "metadata": {},
   "outputs": [
    {
     "name": "stdout",
     "output_type": "stream",
     "text": [
      "4.083333333333333\n"
     ]
    }
   ],
   "source": [
    "example = rating_user(20,df_ratings)\n",
    "print(example)"
   ]
  },
  {
   "cell_type": "markdown",
   "metadata": {},
   "source": [
    "### **Rating User-Item**\n",
    "\n",
    "The `rating_user_item` function predicts the user's ratings for a certain movie by applying a linear regression to the outputs of the `rating_user` and `rating_item` functions. \n",
    "\n",
    "In order to do this the function uses the following parameters:\n",
    "  * `user` - the user for which we want the rating\n",
    "  * `item` - the item (movie) for which we want the rating\n",
    "  * `df` - the dataframe containing the dataset\n",
    "  * `alpha` - the weight for the `rating_user` function\n",
    "  * `beta` - the weight for the `rating_item` function\n",
    "  * `gamma` - the offset/modifier for the linear regression\n",
    "    \n",
    "Additionally it returns the following value:\n",
    "  * `mean` - the predicted rating for the requested movie by the requested user    \n",
    "  \n",
    "Note: `alpha`, `beta` and `gamma` are estimated by the `run_linear_regression` function. "
   ]
  },
  {
   "cell_type": "code",
   "execution_count": 88,
   "metadata": {},
   "outputs": [],
   "source": [
    "def rating_user_item(user,item,df,alpha,beta,gamma):\n",
    "    mean_user = rating_user(user,df)\n",
    "    mean_item = rating_item(item,df)\n",
    "    mean = alpha * mean_user + beta * mean_item + gamma\n",
    "\n",
    "    return mean"
   ]
  },
  {
   "cell_type": "markdown",
   "metadata": {},
   "source": [
    "The `generate_store_matrix` function is responsible for generating the input matrix for the `run_linear_regression` function. This matrix consists of the user rating, movie rating and a constant term. For easier (re)use the matrix stored into a file.\n",
    "\n",
    "In order to do this the function uses the following parameters:\n",
    "  * `df` - the dataframe containing the dataset\n",
    "  * `path` - the path where the matrix should be stored"
   ]
  },
  {
   "cell_type": "code",
   "execution_count": 29,
   "metadata": {},
   "outputs": [],
   "source": [
    "def generate_store_matrix(df,path='datasets/inputLM'):  \n",
    "    r_user = df.groupby('UserId')['Rating'].mean()\n",
    "    r_item = df.groupby('MovieId')['Rating'].mean()\n",
    "    \n",
    "    matrix = []\n",
    "    for index, row in df.iterrows():\n",
    "        matrix.append([index, r_user[row['UserId']], r_item[row['MovieId']], 1])\n",
    "    np.save(path+'.npy', matrix)  "
   ]
  },
  {
   "cell_type": "markdown",
   "metadata": {},
   "source": [
    "The `run_linear_regression` function estimates the values needed for `alpha`, `beta` and `gamma`.\n",
    "\n",
    "In order to do this the function uses the following parameters:\n",
    "  * `df` - the dataframe containing the dataset\n",
    "  * `path` - the location of the input matrix: if no file exists at this location one will be generated\n",
    "\n",
    "Additionally it returns the following values:\n",
    "  * `alpha` - the estimated weight for the `rating_user` function\n",
    "  * `beta` - the estimated weight for the `rating_item` function\n",
    "  * `gamma` - the estimated offset/modifier for the linear regression\n",
    "  \n",
    "Note it is assumed that the indexes in `df` and the matrix stored at `path` correspond, e.g. the data in row 0 of the matrix is computed based on the values of the data in row 0 of `df`."
   ]
  },
  {
   "cell_type": "code",
   "execution_count": 101,
   "metadata": {},
   "outputs": [],
   "source": [
    "def run_linear_regression(df, path='datasets/inputLM'):\n",
    "    filepath = path+'.npy'\n",
    "    if not os.path.isfile(filepath):\n",
    "        generate_store_matrix(df,path)\n",
    "    matrix = np.load(filepath) \n",
    "    y = df['Rating']\n",
    "    S = np.linalg.lstsq(matrix,y,rcond=None)\n",
    "    alpha =S[0][0]\n",
    "    beta = S[0][1]\n",
    "    gamma = S[0][2]\n",
    "    print('Sum Squared Error: '+str(S[1]))\n",
    "    return alpha, beta, gamma"
   ]
  },
  {
   "cell_type": "markdown",
   "metadata": {},
   "source": [
    "The following snippet executes a test run of the rating function."
   ]
  },
  {
   "cell_type": "code",
   "execution_count": 110,
   "metadata": {},
   "outputs": [
    {
     "name": "stdout",
     "output_type": "stream",
     "text": [
      "Sum Squared Error: [838481.41893203]\n",
      "0.7821285278628085 0.8757397042780259 -2.356197475012722\n",
      "4.551446108280905\n"
     ]
    }
   ],
   "source": [
    "alpha,beta,gamma = run_linear_regression(df_ratings)\n",
    "print(alpha,beta,gamma)\n",
    "example = rating_user_item(1,1,df_ratings,alpha,beta,gamma)\n",
    "print(example)"
   ]
  },
  {
   "cell_type": "code",
   "execution_count": 23,
   "metadata": {},
   "outputs": [],
   "source": [
    "X = df_ratings[:100]"
   ]
  },
  {
   "cell_type": "markdown",
   "metadata": {},
   "source": [
    "The `split_dataset` function is used to split the dataset into training and test subsets.\n",
    "\n",
    "In order to do this the function uses the following parameters:\n",
    "  * `df` - the dataframe contianing the dataset to be split\n",
    "  * `no` - the number of training/test sets to be generated\n",
    "  * `seed` - the random seed to be used\n",
    "    \n",
    "Additionally it returns the following value:\n",
    "  * `sets` - a nested dictionary containing the training/test sets"
   ]
  },
  {
   "cell_type": "code",
   "execution_count": 9,
   "metadata": {},
   "outputs": [],
   "source": [
    "def split_dataset(df,no,seed=17092019):\n",
    "    sets = {}\n",
    "    np.random.seed(seed)\n",
    "    sequences = [x%no for x in range(len(df))]\n",
    "    np.random.shuffle(sequences)\n",
    "    for n in range(no):\n",
    "        subset = {}\n",
    "        train_subset=np.array([x!=n for x in sequences])\n",
    "        test_subset=np.array([x==n for x in sequences])\n",
    "        subset['Train'] = df[train_subset]\n",
    "        subset['Test'] = df[test_subset]\n",
    "        sets[n] = subset\n",
    "    return sets"
   ]
  },
  {
   "cell_type": "code",
   "execution_count": 27,
   "metadata": {},
   "outputs": [
    {
     "name": "stdout",
     "output_type": "stream",
     "text": [
      "KFold(n_splits=5, random_state=21092019, shuffle=True)\n",
      "TRAIN: [ 0  1  2  3  4  5  6  7  8  9 10 11 12 13 14 15 16 18 21 22 23 24 25 26\n",
      " 27 29 30 32 34 35 36 37 38 39 40 41 42 43 44 45 46 47 48 49 50 51 54 56\n",
      " 58 59 61 63 66 67 68 69 70 71 72 73 75 77 78 80 82 83 85 86 87 88 89 90\n",
      " 91 92 93 95 96 97 98 99] TEST: [17 19 20 28 31 33 52 53 55 57 60 62 64 65 74 76 79 81 84 94]\n",
      "TRAIN: [ 0  1  2  3  5  7  8  9 10 11 12 13 14 16 17 18 19 20 21 22 23 24 27 28\n",
      " 29 30 31 33 34 35 36 37 38 39 41 43 46 47 48 50 51 52 53 54 55 57 58 60\n",
      " 61 62 63 64 65 66 67 68 69 71 72 73 74 75 76 77 78 79 81 82 84 86 87 88\n",
      " 89 91 92 93 94 96 98 99] TEST: [ 4  6 15 25 26 32 40 42 44 45 49 56 59 70 80 83 85 90 95 97]\n",
      "TRAIN: [ 0  1  3  4  5  6  7  8 10 11 13 14 15 17 19 20 21 22 23 24 25 26 28 29\n",
      " 31 32 33 34 35 36 37 38 39 40 42 43 44 45 46 47 48 49 50 51 52 53 54 55\n",
      " 56 57 58 59 60 62 63 64 65 66 70 72 74 75 76 78 79 80 81 82 83 84 85 87\n",
      " 90 91 92 93 94 95 97 99] TEST: [ 2  9 12 16 18 27 30 41 61 67 68 69 71 73 77 86 88 89 96 98]\n",
      "TRAIN: [ 2  4  5  6  7  8  9 11 12 15 16 17 18 19 20 21 22 25 26 27 28 29 30 31\n",
      " 32 33 35 36 37 38 40 41 42 44 45 46 47 49 52 53 54 55 56 57 59 60 61 62\n",
      " 63 64 65 66 67 68 69 70 71 72 73 74 76 77 79 80 81 82 83 84 85 86 88 89\n",
      " 90 91 92 94 95 96 97 98] TEST: [ 0  1  3 10 13 14 23 24 34 39 43 48 50 51 58 75 78 87 93 99]\n",
      "TRAIN: [ 0  1  2  3  4  6  9 10 12 13 14 15 16 17 18 19 20 23 24 25 26 27 28 30\n",
      " 31 32 33 34 39 40 41 42 43 44 45 48 49 50 51 52 53 55 56 57 58 59 60 61\n",
      " 62 64 65 67 68 69 70 71 73 74 75 76 77 78 79 80 81 83 84 85 86 87 88 89\n",
      " 90 93 94 95 96 97 98 99] TEST: [ 5  7  8 11 21 22 29 35 36 37 38 46 47 54 63 66 72 82 91 92]\n"
     ]
    }
   ],
   "source": [
    "\n",
    "randomState = 21092019\n",
    "kf = KFold(n_splits=5, shuffle=True,random_state=randomState)\n",
    "# kf.get_n_splits(X)\n",
    "\n",
    "print(kf)  \n",
    "\n",
    "for train_index, test_index in kf.split(X):\n",
    "   print(\"TRAIN:\", train_index, \"TEST:\", test_index)\n",
    "   X_train, X_test = X.iloc[train_index], X.iloc[test_index]"
   ]
  },
  {
   "cell_type": "code",
   "execution_count": 79,
   "metadata": {},
   "outputs": [
    {
     "data": {
      "text/plain": [
       "array([2.        , 4.18867925, 4.15408805, 1.        ])"
      ]
     },
     "execution_count": 79,
     "metadata": {},
     "output_type": "execute_result"
    }
   ],
   "source": []
  }
 ],
 "metadata": {
  "kernelspec": {
   "display_name": "Python 3",
   "language": "python",
   "name": "python3"
  },
  "language_info": {
   "codemirror_mode": {
    "name": "ipython",
    "version": 3
   },
   "file_extension": ".py",
   "mimetype": "text/x-python",
   "name": "python",
   "nbconvert_exporter": "python",
   "pygments_lexer": "ipython3",
   "version": "3.7.4"
  }
 },
 "nbformat": 4,
 "nbformat_minor": 4
}
