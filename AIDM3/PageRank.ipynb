{
 "cells": [
  {
   "cell_type": "markdown",
   "metadata": {},
   "source": [
    "## **Advances in Data Mining**\n",
    "\n",
    "Stephan van der Putten | (s1528459) | stvdputtenjur@gmail.com  \n",
    "Theo Baart | s2370328 | s2370328@student.leidenuniv.nl\n",
    "\n",
    "### **Assignment 3**\n",
    "This assignment is concerned with performing an analysis of and execute PageRank on the wikipedia links given in the `wikilink_graph.2004-03-01.csv` file. In order to do this the assignment is split up into four subtasks with each subtask receiving its dedicated `.ipynb` file. See each specific file for details on what this notebook accomplishes.\n",
    "\n",
    "Note all implementations are based on the assignment guidelines and helper files given as well as the documentation of the used functions. \n",
    "\n",
    "#### **PageRank Algorithm (Improved)**\n",
    "This notebook executes the PageRank algorithm using the improved storage method and algorithm as presented in the lecture (see also slide 18 of the instructional slideset). Additionally, some basic analaysis is performed and the results are compared to the \"Sparse\" implementation of PageRank.\n",
    "___"
   ]
  },
  {
   "cell_type": "markdown",
   "metadata": {},
   "source": [
    "### **Helper Functions**\n",
    "This section contains functions which aid and simplify the code.\n",
    "___\n",
    "The following snippet handles all imports."
   ]
  },
  {
   "cell_type": "code",
   "execution_count": 10,
   "metadata": {},
   "outputs": [],
   "source": [
    "import numpy as np\n",
    "import matplotlib.pyplot as plt\n",
    "import seaborn as sns\n",
    "import pandas as pd\n",
    "import scipy.sparse\n",
    "from scipy.sparse import csr_matrix\n",
    "from collections import defaultdict\n",
    "from sklearn.preprocessing import normalize\n",
    "import time"
   ]
  },
  {
   "cell_type": "markdown",
   "metadata": {},
   "source": [
    "### **PageRankCustom Class**\n",
    "\n",
    "This section contains the class and functions responsible for the implementation of the PageRank algorithm as shown on slide 17 of the instructional slideset. Due to the limitations of `.ipynb` files the various functions will be described first and then the implementation will be shown.\n",
    "\n",
    "___\n",
    "The `__init__` function initializes the class.\n",
    "\n",
    "In order to do this the function uses the following (optional) parameters:\n",
    "  * `prepped_dataset` - the prepared link data [default: None]\n",
    "  * `converted_dataset` - the converted link data [default: None]\n",
    "  * `normalized_dataset` - the normalized link data [default: None]\n",
    "___\n",
    "The `load_prepped_data` function is responsible for retrieving the data prepped by `prep.ipynb` and loading it for exploratory data analysis.\n",
    "\n",
    "In order to do this the function uses the following parameter:\n",
    "  * `filename` - the name of the file containing the prepped data [default: `prep_data.npz`]\n",
    "___\n",
    "The `convert_to_custom_format` function is responsible for converting the transition matrix from a sparse matrix representation to the custom format specified in slide 17 of the instructional slideset. It is assumed that the in the sparse matrix each (nonempty) column represents a source node.\n",
    "___\n",
    "The `initialize_pagerank` function initializes the vectors and variables needed for pagerank.\n",
    "\n",
    "In order to do this the function uses the following parameter:\n",
    "  * `beta` - the value to use for Beta [default: `0.8`]\n",
    "___\n",
    "The `pagerank_iteration` function is responsible for executing a single iteration of PageRank using the sparse matrix implementation. \n",
    "___\n",
    "The `run_pagerank` function runs page rank until the maximum number of iterations has been reached.\n",
    "\n",
    "In order to do this the function uses the following parameter:\n",
    "  * `max_iterations` - the maximum number of iterations to execute [default: `25`]\n",
    "___  \n",
    "The `analyze_mse` function plots the mse of the various PageRank iterations. \n",
    "___\n",
    "The `analyze_runtimes` function plots the runtimes of the various PageRank iterations. "
   ]
  },
  {
   "cell_type": "code",
   "execution_count": 18,
   "metadata": {},
   "outputs": [],
   "source": [
    "class PageRankCustom():\n",
    "    def __init__(self,prepped_dataset=None,converted_dataset=None,normalized_dataset=None):\n",
    "        self.prepped_dataset = prepped_dataset\n",
    "        self.converted_dataset = converted_dataset\n",
    "        self.normalized_dataset = normalized_dataset\n",
    "    \n",
    "    def load_prepped_data(self,filename = 'prep_data.npz'):\n",
    "        self.prepped_dataset = scipy.sparse.load_npz(filename) \n",
    "        \n",
    "    def convert_to_custom_format(self):\n",
    "        indices = self.prepped_dataset.nonzero()\n",
    "        dictionary = defaultdict(list)\n",
    "        np_degree = []\n",
    "\n",
    "        for source, destination in zip(indices[1], indices[0]):\n",
    "            dictionary[source].append(destination)\n",
    "\n",
    "        for source,destination in dictionary.items():\n",
    "            np_degree += [[source,len(destination),np.array(destination)]]\n",
    "\n",
    "        self.converted_dataset = np.array(np_degree)\n",
    "        \n",
    "    def initialize_pagerank(self,beta=0.8):\n",
    "        self.beta = 0.8\n",
    "        self.mse = []\n",
    "        self.runtimes = []\n",
    "        self.normalized_dataset = normalize(self.prepped_dataset, norm='l1', axis=0)\n",
    "        self.N = self.prepped_dataset.shape[0]\n",
    "        \n",
    "        self.v_old = np.repeat(1.0 / self.N , self.N)\n",
    "        self.v_new = np.repeat((1-self.beta) / self.N, self.N)\n",
    "\n",
    "    def pagerank_iteration(self):\n",
    "        self.v_new = np.repeat((1-self.beta) / self.N, self.N)\n",
    "        for i in range(len(self.converted_dataset)):\n",
    "            degree = self.converted_dataset[i,[1]]\n",
    "            destinations = self.converted_dataset[i,[2]]\n",
    "        #     print(f'Degree is {degree}, destinations are {destinations}')\n",
    "            for destination in destinations[0]:\n",
    "        #         print(f'v_new for {destination} is {self.v_new[destination]}')\n",
    "                self.v_new[destination] += self.beta * self.v_old[destination] / degree\n",
    "        #         print(f'v_new for {destination} is {self.v_new[destination]}')\n",
    "        self.mse.append(((self.v_new - self.normalized_dataset * self.v_new)**2).mean())\n",
    "        self.v_old = self.v_new.copy()\n",
    "        \n",
    "    def run_pagerank(self,max_iterations=25):\n",
    "        for i in range(max_iterations):\n",
    "            start = time.time()\n",
    "            self.pagerank_iteration()\n",
    "            end = time.time()\n",
    "            self.runtimes.append(np.round(end - start,4))\n",
    "            \n",
    "    def analyze_mse(self):\n",
    "        x_axis = list(range(len(self.mse)))\n",
    "        y_axis = self.mse\n",
    "        plt.plot(x_axis, y_axis)\n",
    "        plt.xlabel('Iterations')\n",
    "        plt.ylabel('MSE')\n",
    "        plt.title('MSE over iterations')\n",
    "        plt.show()\n",
    "        \n",
    "    def analyze_runtimes(self):\n",
    "        x_axis = list(range(len(self.runtimes)))\n",
    "        y_axis = self.runtimes\n",
    "        plt.plot(x_axis, y_axis)\n",
    "        plt.xlabel('Iterations')\n",
    "        plt.ylabel('Runtime (s)')\n",
    "        plt.title('Runtime over iterations')\n",
    "        plt.show()\n",
    "        average = np.mean(self.runtimes)\n",
    "        print(f'The average runtime is {average} seconds.')     "
   ]
  },
  {
   "cell_type": "markdown",
   "metadata": {},
   "source": [
    "### **Program Execution**\n",
    "This section is concerned with parsing the input arguments and determining the execution flow of the program.\n",
    "___\n",
    "The `main` function handles the command line arguments and is responsible for the main flow of the program.\n",
    "\n",
    "In order to do this the function uses the following parameters:\n",
    "  * `path` - the location for the link data file [default: `prep_data.npz`]\n",
    "  * `beta` - the Beta value to use [default: `0.8`]\n",
    "  * `max_iter` - the maximum number of iterations to execute [default: `25`]"
   ]
  },
  {
   "cell_type": "code",
   "execution_count": 16,
   "metadata": {
    "pycharm": {
     "is_executing": false
    },
    "scrolled": true
   },
   "outputs": [],
   "source": [
    "def main(path = 'prep_data.npz', beta=0.8,max_iter=25):\n",
    "    pagerank = PageRankCustom()\n",
    "    %time pagerank.load_prepped_data(path)\n",
    "    %time pagerank.convert_to_custom_format()\n",
    "    \n",
    "    %time pagerank.initialize_pagerank(beta=beta)\n",
    "    %time pagerank.run_pagerank()\n",
    "    \n",
    "    %time pagerank.analyze_mse()\n",
    "    print('\\n')\n",
    "    %time pagerank.analyze_runtimes()"
   ]
  },
  {
   "cell_type": "markdown",
   "metadata": {},
   "source": [
    "The following snippet passes the start of the program and the command line arguments to the `main` function.\n",
    "\n",
    "The following command line argument is expected:\n",
    "  * `path` - the location of the `prep_data.npz` file\n",
    "  * `beta` - the beta value to use\n",
    "  * `max_iter` - the maximal number of Pagerank iterations"
   ]
  },
  {
   "cell_type": "code",
   "execution_count": null,
   "metadata": {
    "pycharm": {
     "is_executing": false,
     "name": "#%%\n"
    }
   },
   "outputs": [],
   "source": [
    "if __name__ == \"__main__\":\n",
    "    filepath = sys.argv[1]\n",
    "    beta = sys.argv[2]\n",
    "    max_iter = sys.argv[3]\n",
    "    main(path=filepath,beta=beta,max_iter=max_iter)"
   ]
  },
  {
   "cell_type": "markdown",
   "metadata": {},
   "source": [
    "The following snippet triggers the manual execuation of the program"
   ]
  },
  {
   "cell_type": "code",
   "execution_count": 17,
   "metadata": {},
   "outputs": [
    {
     "name": "stdout",
     "output_type": "stream",
     "text": [
      "Wall time: 186 ms\n",
      "Wall time: 5.08 s\n",
      "Wall time: 206 ms\n",
      "Wall time: 15min 46s\n"
     ]
    },
    {
     "data": {
      "image/png": "[encoded data removed]",
      "text/plain": [
       "<Figure size 432x288 with 1 Axes>"
      ]
     },
     "metadata": {
      "needs_background": "light"
     },
     "output_type": "display_data"
    },
    {
     "name": "stdout",
     "output_type": "stream",
     "text": [
      "Wall time: 209 ms\n",
      "\n",
      "\n"
     ]
    },
    {
     "data": {
      "image/png": "[encoded data removed]",
      "text/plain": [
       "<Figure size 432x288 with 1 Axes>"
      ]
     },
     "metadata": {
      "needs_background": "light"
     },
     "output_type": "display_data"
    },
    {
     "name": "stdout",
     "output_type": "stream",
     "text": [
      "The average runtime is 37.872692 seconds.\n",
      "Wall time: 270 ms\n"
     ]
    }
   ],
   "source": [
    "main()"
   ]
  },
  {
   "cell_type": "markdown",
   "metadata": {
    "pycharm": {
     "name": "#%% md\n"
    }
   },
   "source": [
    "### **Discussion**\n",
    "\n",
    "When comparing the results of the \"custom\" implementation in this notebook and the \"sparse\" implementation in the `sparse.ipynb` notebook we can observe that, in general the results are quite similar, but that in the details there are major differences. We can see from the graphs in `sparse.ipynb` and `PageRank.ipynb` that both do succeed in, over-time, reducing the MSE and getting better results with MSE's that approach zero. However, the \"sparse\" implementation has a lower minimum MSE. Potentially, increasing the maximum number of iterations could allow the \"custom\" implementation to get the upper-hand, however, additional testing would be needed to verify this. \n",
    "\n",
    "Comparing the two in detail we can see the following differences between the two implementations:\n",
    "\n",
    "| Metric | Sparse | Custom |\n",
    "|-----|-----|----|\n",
    "| minimum MSE | 1.777e-12 | 3.158e-11 |\n",
    "| RAM | 52.682MB | 15.652MB |\n",
    "| Runtime / iteration | 0.018s | 14.856s |\n",
    "\n",
    "As is evident in the table above, the \"sparse\" implementation outperforms the \"custom\" implementation on all major facets except for RAM. When considering what causes these differences we have come to the following conclusions:\n",
    "  1. The MSE for the \"sparse\" variant could potentially be better as it address all probabilities at once as opposed to sequentially tackling each source/destination pair. We are, however, unsure of this.\n",
    "  2. The Matrix algebra used in the \"sparse\" variant allows for significantly faster iterations compared to the double loop in the \"custom\" variant.\n",
    "  3. The storage requirements for the \"custom\" variant are much smaller as it only stores `average_number_of_links` + 2 values as opposed to twice the `average_number_of_links` values. \n"
   ]
  }
 ],
 "metadata": {
  "kernelspec": {
   "display_name": "Python 3",
   "language": "python",
   "name": "python3"
  },
  "language_info": {
   "codemirror_mode": {
    "name": "ipython",
    "version": 3
   },
   "file_extension": ".py",
   "mimetype": "text/x-python",
   "name": "python",
   "nbconvert_exporter": "python",
   "pygments_lexer": "ipython3",
   "version": "3.7.4"
  }
 },
 "nbformat": 4,
 "nbformat_minor": 4
}
