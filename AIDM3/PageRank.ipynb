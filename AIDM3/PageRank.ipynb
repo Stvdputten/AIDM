{
 "cells": [
  {
   "cell_type": "markdown",
   "metadata": {},
   "source": [
    "## **Advances in Data Mining**\n",
    "\n",
    "Stephan van der Putten | (s1528459) | stvdputtenjur@gmail.com  \n",
    "Theo Baart | s2370328 | s2370328@student.leidenuniv.nl\n",
    "\n",
    "### **Assignment 3**\n",
    "This assignment is concerned with performing an analysis of and execute PageRank on the wikipedia links given in the `wikilink_graph.2004-03-01.csv` file. In order to do this the assignment is split up into four subtasks with each subtask receiving its dedicated `.ipynb` file. See each specific file for details on what this notebook accomplishes.\n",
    "\n",
    "Note all implementations are based on the assignment guidelines and helper files given as well as the documentation of the used functions. \n",
    "\n",
    "#### **PageRank Algorithm (Improved)**\n",
    "This notebook executes the PageRank algorithm using the improved storage method and algorithm as presented in the lecture (see also slide 18 of the instructional slideset). Additionally, some basic analaysis is performed and the results are compared to the \"Sparse\" implementation of PageRank.\n",
    "___"
   ]
  },
  {
   "cell_type": "markdown",
   "metadata": {},
   "source": [
    "### **Helper Functions**\n",
    "This section contains functions which aid and simplify the code.\n",
    "___\n",
    "The following snippet handles all imports."
   ]
  },
  {
   "cell_type": "code",
   "execution_count": 1,
   "metadata": {},
   "outputs": [],
   "source": [
    "import numpy as np\n",
    "import matplotlib.pyplot as plt\n",
    "import seaborn as sns\n",
    "import pandas as pd\n",
    "import scipy.sparse\n",
    "from scipy.sparse import csr_matrix\n",
    "from collections import defaultdict"
   ]
  },
  {
   "cell_type": "markdown",
   "metadata": {},
   "source": [
    "The class `PageRank` is our implementation for the Pagerank Algorithm"
   ]
  },
  {
   "cell_type": "code",
   "execution_count": null,
   "metadata": {},
   "outputs": [],
   "source": [
    "class PageRank():\n",
    "    def __init__(self):\n",
    "        "
   ]
  },
  {
   "cell_type": "markdown",
   "metadata": {},
   "source": [
    "The `load_prepped_data` function is responsible for retrieving the data prepped by `prep.ipynb` and loading it for exploratory data analysis.\n",
    "\n",
    "In order to do this the function uses the following parameters:\n",
    "  * `filename` - the name of the file containing the prepped data [default = `prep-data.npz`]\n",
    "  \n",
    "Additionally, it returns the following value:\n",
    "  * `data` - an array representing the prepped data  "
   ]
  },
  {
   "cell_type": "code",
   "execution_count": 2,
   "metadata": {},
   "outputs": [],
   "source": [
    "def load_prepped_data(filename = 'prep_data.npz'):\n",
    "    data = scipy.sparse.load_npz(filename)\n",
    "    return data"
   ]
  },
  {
   "cell_type": "markdown",
   "metadata": {},
   "source": [
    "The following snippet triggers data loading"
   ]
  },
  {
   "cell_type": "code",
   "execution_count": 3,
   "metadata": {},
   "outputs": [],
   "source": [
    "data = load_prepped_data()"
   ]
  },
  {
   "cell_type": "markdown",
   "metadata": {},
   "source": [
    "The `convert_to_custom_format` function is responsible for converting the transition matrix from a sparse matrix representation to the custom format specified in slide 17 of the instructional slideset. It is assumed that the in the sparse matrix each (nonempty) column represents a source node.\n",
    "\n",
    "In order to do this the function uses the following parameters:\n",
    "  * `data` - the data as a sparse matrix\n",
    "  \n",
    "Additionally, it returns the following value:\n",
    "  * `converted` - an array representing the converted data  "
   ]
  },
  {
   "cell_type": "code",
   "execution_count": 8,
   "metadata": {},
   "outputs": [],
   "source": [
    "def convert_to_custom_format(data):\n",
    "    indices = data.nonzero()\n",
    "    dictionary = defaultdict(list)\n",
    "    np_degree = []\n",
    "\n",
    "    for source, destination in zip(indices[1], indices[0]):\n",
    "        dictionary[source].append(destination)\n",
    "    \n",
    "    for s,d in dictionary.items():\n",
    "        np_degree += [[s,len(d),np.array(d)]]\n",
    "    \n",
    "    return(np.array(np_degree))"
   ]
  },
  {
   "cell_type": "code",
   "execution_count": 134,
   "metadata": {},
   "outputs": [
    {
     "name": "stdout",
     "output_type": "stream",
     "text": [
      "88.5 µs ± 4.58 µs per loop (mean ± std. dev. of 7 runs, 10000 loops each)\n"
     ]
    }
   ],
   "source": [
    "# TODO TEMPORARY\n",
    "%timeit convert_to_custom_format(simple_data)"
   ]
  },
  {
   "cell_type": "code",
   "execution_count": 10,
   "metadata": {
    "collapsed": true
   },
   "outputs": [
    {
     "name": "stdout",
     "output_type": "stream",
     "text": [
      "CPU times: user 2.9 s, sys: 52.9 ms, total: 2.95 s\n",
      "Wall time: 1.89 s\n"
     ]
    },
    {
     "data": {
      "text/plain": [
       "array([[234, 75,\n",
       "        array([     0,   2667,   3099,   4923,   6424,   8248,   8270,   9045,\n",
       "        10479,  13208,  15800,  16386,  17933,  18031,  18126,  18373,\n",
       "        18408,  18416,  18649,  24851,  26678,  36013,  41131,  50953,\n",
       "        63777,  75177,  90801,  93361,  96939,  98374,  98864,  99999,\n",
       "       108340, 110082, 111258, 111417, 114051, 114066, 115513, 116711,\n",
       "       118275, 122305, 122711, 126312, 127886, 130324, 134003, 136380,\n",
       "       150296, 169859, 176293, 181813, 182193, 185349, 190904, 193669,\n",
       "       194106, 197593, 198215, 201113, 204705, 212808, 213280, 213744,\n",
       "       215591, 216670, 219581, 223713, 226522, 232564, 239792, 240206,\n",
       "       240638, 241549, 242326], dtype=int32)],\n",
       "       [240, 36,\n",
       "        array([     0,   2576,   3938,   6570,   7754,   9488,   9614,  10717,\n",
       "        11755,  11838,  12210,  13120,  16300,  16301,  16372,  17260,\n",
       "        27990,  29872,  40859,  53585,  93309, 125582, 125585, 126643,\n",
       "       126714, 128227, 128388, 132797, 136491, 214333, 222860, 235926,\n",
       "       240419, 242445, 245147, 245916], dtype=int32)],\n",
       "       [1365, 198,\n",
       "        array([     0,      6,    349,    460,    573,    576,    675,    806,\n",
       "          952,   2667,   2767,   3109,   3924,   4252,   4461,   4956,\n",
       "         5044,   5660,   5821,   6724,   7672,   7796,   7892,   8219,\n",
       "         8324,   9957,  10423,  10426,  10469,  10702,  10720,  11037,\n",
       "        11409,  11449,  11475,  11478,  11498,  12884,  12921,  14165,\n",
       "        15165,  15953,  16035,  16304,  16874,  18340,  18369,  18372,\n",
       "        18454,  18485,  18554,  18615,  19242,  19277,  21245,  21669,\n",
       "        25275,  25276,  25508,  25853,  25907,  26065,  26262,  27288,\n",
       "        28109,  28321,  28802,  29465,  30105,  32404,  32439,  33033,\n",
       "        37343,  38641,  39349,  39965,  40189,  40212,  40231,  40376,\n",
       "        40379,  41461,  43332,  43371,  44891,  47463,  52855,  55227,\n",
       "        57011,  63777,  63948,  73286,  76958,  89257,  91477,  91725,\n",
       "        92456,  92625,  93759,  97148,  98212,  98296,  99644, 101195,\n",
       "       102440, 103219, 103851, 106286, 107143, 113205, 114110, 116810,\n",
       "       116985, 118982, 120192, 121397, 123182, 125009, 125724, 126360,\n",
       "       126410, 127725, 129194, 130272, 134225, 134364, 136818, 139747,\n",
       "       139826, 140364, 141014, 141251, 141983, 145433, 148353, 148834,\n",
       "       148859, 152490, 154149, 155137, 155317, 156704, 158075, 159107,\n",
       "       159676, 160445, 160753, 161281, 162394, 165636, 166329, 168849,\n",
       "       169295, 170838, 171428, 172343, 175671, 176868, 180091, 180752,\n",
       "       182703, 182924, 183525, 183748, 184692, 185563, 186548, 188452,\n",
       "       195206, 197737, 199575, 202203, 202726, 202960, 204684, 205394,\n",
       "       215912, 218933, 219380, 221366, 230436, 231458, 234927, 240760,\n",
       "       240784, 240833, 241249, 241533, 241913, 242114, 242469, 242806,\n",
       "       243215, 243704, 244423, 247127, 247487, 247572], dtype=int32)],\n",
       "       ...,\n",
       "       [228110, 1, array([248139], dtype=int32)],\n",
       "       [152638, 1, array([248160], dtype=int32)],\n",
       "       [218998, 1, array([248170], dtype=int32)]], dtype=object)"
      ]
     },
     "execution_count": 10,
     "metadata": {},
     "output_type": "execute_result"
    }
   ],
   "source": [
    "%time convert_to_custom_format(data)"
   ]
  },
  {
   "cell_type": "code",
   "execution_count": 11,
   "metadata": {},
   "outputs": [
    {
     "data": {
      "text/plain": [
       "(192038, 3)"
      ]
     },
     "execution_count": 11,
     "metadata": {},
     "output_type": "execute_result"
    }
   ],
   "source": [
    "test = convert_to_custom_format(data)\n",
    "test.shape"
   ]
  },
  {
   "cell_type": "markdown",
   "metadata": {},
   "source": [
    "### REMOVE EVERTHING BELOW THIS"
   ]
  },
  {
   "cell_type": "code",
   "execution_count": 83,
   "metadata": {},
   "outputs": [
    {
     "name": "stdout",
     "output_type": "stream",
     "text": [
      "[[0 0 0 1]\n",
      " [0 0 1 1]\n",
      " [1 0 0 0]\n",
      " [1 0 1 0]]\n"
     ]
    }
   ],
   "source": [
    "# TODO REMOVE ME I AM TEMPORARY!\n",
    "simple_data = load_prepped_data('simple_data.npz')\n",
    "print(simple_data.todense())"
   ]
  },
  {
   "cell_type": "code",
   "execution_count": 147,
   "metadata": {},
   "outputs": [
    {
     "data": {
      "text/plain": [
       "<248193x248193 sparse matrix of type '<class 'numpy.int32'>'\n",
       "\twith 3170614 stored elements in Compressed Sparse Row format>"
      ]
     },
     "execution_count": 147,
     "metadata": {},
     "output_type": "execute_result"
    }
   ],
   "source": [
    "data"
   ]
  }
 ],
 "metadata": {
  "kernelspec": {
   "display_name": "Python 3",
   "language": "python",
   "name": "python3"
  },
  "language_info": {
   "codemirror_mode": {
    "name": "ipython",
    "version": 3
   },
   "file_extension": ".py",
   "mimetype": "text/x-python",
   "name": "python",
   "nbconvert_exporter": "python",
   "pygments_lexer": "ipython3",
   "version": "3.7.4"
  }
 },
 "nbformat": 4,
 "nbformat_minor": 4
}
