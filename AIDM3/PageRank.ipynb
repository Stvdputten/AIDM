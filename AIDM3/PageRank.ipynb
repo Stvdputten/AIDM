{
 "cells": [
  {
   "cell_type": "markdown",
   "metadata": {},
   "source": [
    "## **Advances in Data Mining**\n",
    "\n",
    "Stephan van der Putten | (s1528459) | stvdputtenjur@gmail.com  \n",
    "Theo Baart | s2370328 | s2370328@student.leidenuniv.nl\n",
    "\n",
    "### **Assignment 3**\n",
    "This assignment is concerned with performing an analysis of and execute PageRank on the wikipedia links given in the `wikilink_graph.2004-03-01.csv` file. In order to do this the assignment is split up into four subtasks with each subtask receiving its dedicated `.ipynb` file. See each specific file for details on what this notebook accomplishes.\n",
    "\n",
    "Note all implementations are based on the assignment guidelines and helper files given as well as the documentation of the used functions. \n",
    "\n",
    "#### **PageRank Algorithm (Improved)**\n",
    "This notebook executes the PageRank algorithm using the improved storage method and algorithm as presented in the lecture (see also slide 18 of the instructional slideset). Additionally, some basic analaysis is performed and the results are compared to the \"Sparse\" implementation of PageRank.\n",
    "___"
   ]
  },
  {
   "cell_type": "markdown",
   "metadata": {},
   "source": [
    "### **Helper Functions**\n",
    "This section contains functions which aid and simplify the code.\n",
    "___\n",
    "The following snippet handles all imports."
   ]
  },
  {
   "cell_type": "code",
   "execution_count": 1,
   "metadata": {},
   "outputs": [],
   "source": [
    "import numpy as np\n",
    "import matplotlib.pyplot as plt\n",
    "import seaborn as sns\n",
    "import pandas as pd\n",
    "import scipy.sparse\n",
    "import time\n",
    "from scipy.sparse import csr_matrix\n",
    "from collections import defaultdict"
   ]
  },
  {
   "cell_type": "markdown",
   "metadata": {},
   "source": [
    "The class `PageRank` is our implementation for the Pagerank Algorithm"
   ]
  },
  {
   "cell_type": "code",
   "execution_count": null,
   "metadata": {},
   "outputs": [],
   "source": [
    "class PageRank():\n",
    "    def __init__(self):\n",
    "        "
   ]
  },
  {
   "cell_type": "markdown",
   "metadata": {},
   "source": [
    "The `load_prepped_data` function is responsible for retrieving the data prepped by `prep.ipynb` and loading it for exploratory data analysis.\n",
    "\n",
    "In order to do this the function uses the following parameters:\n",
    "  * `filename` - the name of the file containing the prepped data [default = `prep-data.npz`]\n",
    "  \n",
    "Additionally, it returns the following value:\n",
    "  * `data` - an array representing the prepped data  "
   ]
  },
  {
   "cell_type": "code",
   "execution_count": 2,
   "metadata": {},
   "outputs": [],
   "source": [
    "def load_prepped_data(filename = 'prep_data.npz'):\n",
    "    data = scipy.sparse.load_npz(filename)\n",
    "    return data"
   ]
  },
  {
   "cell_type": "markdown",
   "metadata": {},
   "source": [
    "The following snippet triggers data loading"
   ]
  },
  {
   "cell_type": "code",
   "execution_count": 3,
   "metadata": {},
   "outputs": [],
   "source": [
    "data = load_prepped_data()"
   ]
  },
  {
   "cell_type": "markdown",
   "metadata": {},
   "source": [
    "The `convert_to_custom_format` function is responsible for converting the transition matrix from a sparse matrix representation to the custom format specified in slide 17 of the instructional slideset. It is assumed that the in the sparse matrix each (nonempty) column represents a source node.\n",
    "\n",
    "In order to do this the function uses the following parameters:\n",
    "  * `data` - the data as a sparse matrix\n",
    "  \n",
    "Additionally, it returns the following value:\n",
    "  * `converted` - an array representing the converted data  "
   ]
  },
  {
   "cell_type": "code",
   "execution_count": 8,
   "metadata": {},
   "outputs": [],
   "source": [
    "def convert_to_custom_format(data):\n",
    "    indices = data.nonzero()\n",
    "    dictionary = defaultdict(list)\n",
    "    np_degree = []\n",
    "\n",
    "    for source, destination in zip(indices[1], indices[0]):\n",
    "        dictionary[source].append(destination)\n",
    "    \n",
    "    for s,d in dictionary.items():\n",
    "        np_degree += [[s,len(d),np.array(d)]]\n",
    "    \n",
    "    return(np.array(np_degree))"
   ]
  },
  {
   "cell_type": "code",
   "execution_count": 134,
   "metadata": {},
   "outputs": [
    {
     "name": "stdout",
     "output_type": "stream",
     "text": [
      "88.5 µs ± 4.58 µs per loop (mean ± std. dev. of 7 runs, 10000 loops each)\n"
     ]
    }
   ],
   "source": [
    "# TODO TEMPORARY\n",
    "%timeit convert_to_custom_format(simple_data)"
   ]
  },
  {
   "cell_type": "code",
   "execution_count": 16,
   "metadata": {},
   "outputs": [
    {
     "name": "stdout",
     "output_type": "stream",
     "text": [
      " "
     ]
    }
   ],
   "source": [
    "%time convert_to_custom_format(data)"
   ]
  },
  {
   "cell_type": "code",
   "execution_count": 33,
   "metadata": {},
   "outputs": [],
   "source": [
    "M = convert_to_custom_format(data)"
   ]
  },
  {
   "cell_type": "markdown",
   "metadata": {},
   "source": [
    "### REMOVE EVERTHING BELOW THIS"
   ]
  },
  {
   "cell_type": "code",
   "execution_count": 83,
   "metadata": {},
   "outputs": [
    {
     "name": "stdout",
     "output_type": "stream",
     "text": [
      "[[0 0 0 1]\n",
      " [0 0 1 1]\n",
      " [1 0 0 0]\n",
      " [1 0 1 0]]\n"
     ]
    }
   ],
   "source": [
    "# TODO REMOVE ME I AM TEMPORARY!\n",
    "simple_data = load_prepped_data('simple_data.npz')\n",
    "print(simple_data.todense())"
   ]
  },
  {
   "cell_type": "code",
   "execution_count": 73,
   "metadata": {},
   "outputs": [],
   "source": [
    "N = data.shape[0]\n",
    "v_original = np.repeat(1.0 / N , N)\n",
    "Beta = 0.8\n",
    "v_new = np.repeat((1-Beta) / N, N)"
   ]
  },
  {
   "cell_type": "code",
   "execution_count": 74,
   "metadata": {},
   "outputs": [],
   "source": [
    "from sklearn.preprocessing import normalize\n",
    "M_normalized = normalize(data, norm='l1', axis=0)"
   ]
  },
  {
   "cell_type": "code",
   "execution_count": 80,
   "metadata": {},
   "outputs": [
    {
     "name": "stdout",
     "output_type": "stream",
     "text": [
      "time is 16.05258083343506\n",
      "time is 16.188412189483643\n",
      "time is 15.975532531738281\n",
      "time is 15.837153434753418\n",
      "time is 15.893394947052002\n",
      "time is 16.016355991363525\n",
      "time is 15.895385980606079\n",
      "time is 15.886227130889893\n",
      "time is 15.816770553588867\n",
      "time is 15.825418472290039\n",
      "time is 16.050198078155518\n",
      "time is 15.874647855758667\n",
      "time is 15.965051174163818\n",
      "time is 15.918271541595459\n",
      "time is 15.924828290939331\n",
      "time is 15.858988285064697\n",
      "time is 15.903129577636719\n",
      "time is 15.947254657745361\n",
      "time is 15.960615634918213\n",
      "time is 15.932201623916626\n",
      " "
     ]
    }
   ],
   "source": [
    "%%prun\n",
    "v_old =  v_original.copy()\n",
    "mse = []\n",
    "for i in range(25):\n",
    "    start = time.time()\n",
    "    v_new = np.repeat((1-Beta) / N, N)\n",
    "    for i in range(len(M)):\n",
    "        degree = M[i,[1]]\n",
    "        destinations = M[i,[2]]\n",
    "    #     print(f'Degree is {degree}, destinations are {destinations}')\n",
    "        for destination in destinations[0]:\n",
    "    #         print(f'v_new for {destination} is {v_new[destination]}')\n",
    "            v_new[destination] += Beta * v_old[destination] / degree\n",
    "    #         print(f'v_new for {destination} is {v_new[destination]}')\n",
    "    print(f'time is {time.time() - start}')\n",
    "    mse.append(((v_new - M_normalized * v_new)**2).mean())\n",
    "    v_old = v_new.copy()\n",
    "\n",
    "# analyse iteration\n",
    "# MSE: v_old vs. v_new\n",
    "# v_old == v_new\n",
    "#TODO: Analyzes"
   ]
  },
  {
   "cell_type": "code",
   "execution_count": 86,
   "metadata": {
    "scrolled": true
   },
   "outputs": [
    {
     "data": {
      "image/png": "[encoded data removed]",
      "text/plain": [
       "<Figure size 432x288 with 1 Axes>"
      ]
     },
     "metadata": {
      "needs_background": "light"
     },
     "output_type": "display_data"
    }
   ],
   "source": [
    "#Should be declining, Double check\n",
    "plt.plot(list(range(20)), np.log(mse))\n",
    "plt.show()"
   ]
  },
  {
   "cell_type": "code",
   "execution_count": 85,
   "metadata": {},
   "outputs": [
    {
     "name": "stdout",
     "output_type": "stream",
     "text": [
      "-23.160422980160064\n",
      "-13.60699820137293\n",
      "-2.820890875659146\n",
      "8.198290719102184\n",
      "19.32929874778344\n",
      "30.515996405905042\n",
      "41.733833027386055\n",
      "52.97057140649708\n",
      "64.21930590106984\n",
      "75.47581386603505\n",
      "86.73740197011549\n",
      "98.00231925119587\n",
      "109.26941902705583\n",
      "120.53794884195489\n",
      "131.8074149961606\n",
      "143.0774938304229\n",
      "154.34797335399742\n",
      "165.61871482593978\n",
      "176.8896274998714\n",
      "188.16065204721446\n"
     ]
    }
   ],
   "source": [
    "#Check mse\n",
    "for i in mse:\n",
    "    print(np.log(i))"
   ]
  }
 ],
 "metadata": {
  "kernelspec": {
   "display_name": "Python 3",
   "language": "python",
   "name": "python3"
  },
  "language_info": {
   "codemirror_mode": {
    "name": "ipython",
    "version": 3
   },
   "file_extension": ".py",
   "mimetype": "text/x-python",
   "name": "python",
   "nbconvert_exporter": "python",
   "pygments_lexer": "ipython3",
   "version": "3.7.4"
  }
 },
 "nbformat": 4,
 "nbformat_minor": 4
}
