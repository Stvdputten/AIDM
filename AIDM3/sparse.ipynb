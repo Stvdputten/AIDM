{
 "cells": [
  {
   "cell_type": "markdown",
   "metadata": {},
   "source": [
    "## **Advances in Data Mining**\n",
    "\n",
    "Stephan van der Putten | (s1528459) | stvdputtenjur@gmail.com  \n",
    "Theo Baart | s2370328 | s2370328@student.leidenuniv.nl\n",
    "\n",
    "### **Assignment 3**\n",
    "This assignment is concerned with performing an analysis of and execute PageRank on the wikipedia links given in the `wikilink_graph.2004-03-01.csv` file. In order to do this the assignment is split up into four subtasks with each subtask receiving its dedicated `.ipynb` file. See each specific file for details on what this notebook accomplishes.\n",
    "\n",
    "Note all implementations are based on the assignment guidelines and helper files given as well as the documentation of the used functions. Additionally, the following sources are referenced:\n",
    "  1. Mining of Masive Datasets by Jure Leskovec, Anand Rajaraman and Jeff ullman\n",
    "\n",
    "#### **PageRank Algorithm (Improved)**\n",
    "This notebook executes the PageRank algorithm using the improved storage method and algorithm as presented in the lecture (see also slide 18 of the instructional slideset). Additionally, some basic analaysis is performed and the results are compared to the \"Sparse\" implementation of PageRank.\n",
    "___"
   ]
  },
  {
   "cell_type": "markdown",
   "metadata": {},
   "source": [
    "### **Helper Functions**\n",
    "This section contains functions which aid and simplify the code.\n",
    "___\n",
    "The following snippet handles all imports."
   ]
  },
  {
   "cell_type": "code",
   "execution_count": 7,
   "metadata": {},
   "outputs": [],
   "source": [
    "import numpy as np\n",
    "import matplotlib.pyplot as plt\n",
    "import seaborn as sns\n",
    "import pandas as pd\n",
    "import scipy.sparse\n",
    "from scipy.sparse import csr_matrix\n",
    "from collections import defaultdict\n",
    "from sklearn.preprocessing import normalize\n",
    "import time"
   ]
  },
  {
   "cell_type": "markdown",
   "metadata": {},
   "source": [
    "The class `PageRank` is our implementation for the Pagerank Algorithm"
   ]
  },
  {
   "cell_type": "markdown",
   "metadata": {},
   "source": [
    "### **PageRankSparse Class**\n",
    "\n",
    "This section contains the class and functions responsible for the sparse matrix implementation of the PageRank algorithm. Due to the limitations of `.ipynb` files the various functions will be described first and then the implementation will be shown.\n",
    "\n",
    "___\n",
    "The `__init__` function initializes the class.\n",
    "\n",
    "In order to do this the function uses the following (optional) parameters:\n",
    "  * `prepped_dataset` - the prepared link data [default: None]\n",
    "  * `normalized_dataset` - the normalized link data [default: None]\n",
    "___\n",
    "The `load_prepped_data` function is responsible for retrieving the data prepped by `prep.ipynb` and loading it for exploratory data analysis.\n",
    "\n",
    "In order to do this the function uses the following parameter:\n",
    "  * `filename` - the name of the file containing the prepped data [default: `prep_data.npz`]\n",
    "___\n",
    "The `initialize_pagerank` function initializes the vectors and variables needed for pagerank.\n",
    "\n",
    "In order to do this the function uses the following parameter:\n",
    "  * `beta` - the value to use for Beta [default: `0.8`]\n",
    "___\n",
    "The `pagerank_iteration` function is responsible for executing a single iteration of PageRank using the sparse matrix implementation. \n",
    "___\n",
    "The `run_pagerank` function runs page rank until the maximum number of iterations has been reached.\n",
    "\n",
    "In order to do this the function uses the following parameter:\n",
    "  * `max_iterations` - the maximum number of iterations to execute [default: `25`]\n",
    "___  \n",
    "The `analyze_mse` function plots the mse of the various PageRank iterations. \n",
    "___\n",
    "The `compute_maximal_graph` function estimtes the maximal number of nodes (i.e. sources & destinations) such that this PageRank implementation can run on a system with the specified settings. The RAM computation is based on the description given in Section 5.2.1 of [1].\n",
    "\n",
    "In order to do this the function uses the following parameters:\n",
    "  * `max_ram` - the maximum RAM available in the system (in MB) [default: `1000`]\n",
    "  * `out_degree` - the average out-degree of the graph [default: `15`]\n",
    "  * `bits` - how many bits are needed to store a value [default: `64`]"
   ]
  },
  {
   "cell_type": "code",
   "execution_count": 23,
   "metadata": {},
   "outputs": [],
   "source": [
    "class PageRankSparse():\n",
    "    def __init__(self,prepped_dataset=None,normalized_dataset=None):\n",
    "        self.prepped_dataset = prepped_dataset\n",
    "        self.normalized_dataset = normalized_dataset\n",
    "    \n",
    "    def load_prepped_data(self,filename = 'prep_data.npz'):\n",
    "        self.prepped_dataset = scipy.sparse.load_npz(filename) \n",
    "        \n",
    "    def initialize_pagerank(self,beta=0.8):\n",
    "        self.beta = 0.8\n",
    "        self.mse = []\n",
    "        self.runtimes = []\n",
    "        self.normalized_dataset = normalize(self.prepped_dataset, norm='l1', axis=0)\n",
    "        N = self.prepped_dataset.shape[0]\n",
    "        \n",
    "        self.v_original = np.repeat(1.0 / N , N)\n",
    "        self.v_new = np.repeat((1-self.beta) / N, N)\n",
    "        self.v_old =  self.v_original.copy()\n",
    "\n",
    "    def pagerank_iteration(self):\n",
    "        self.v_new = (self.beta * self.normalized_dataset * self.v_old) + (1 - self.beta)*(self.v_original)\n",
    "        self.mse.append(((self.v_new - self.normalized_dataset * self.v_new)**2).mean())\n",
    "        self.v_old = self.v_new.copy()\n",
    "        \n",
    "    def run_pagerank(self,max_iterations=25):\n",
    "        for i in range(max_iterations):\n",
    "            start = time.time()\n",
    "            self.pagerank_iteration()\n",
    "            end = time.time()\n",
    "            self.runtimes.append(np.round(end - start,4))\n",
    "            \n",
    "    def analyze_mse(self):\n",
    "        x_axis = list(range(len(self.mse)))\n",
    "        y_axis = self.mse\n",
    "        plt.plot(x_axis, y_axis)\n",
    "        plt.xlabel('Iterations')\n",
    "        plt.ylabel('MSE')\n",
    "        plt.title('MSE over iterations')\n",
    "        plt.show()\n",
    "        \n",
    "    def analyze_runtimes(self):\n",
    "        x_axis = list(range(len(self.runtimes)))\n",
    "        y_axis = self.runtimes\n",
    "        plt.plot(x_axis, y_axis)\n",
    "        plt.xlabel('Iterations')\n",
    "        plt.ylabel('Runtime')\n",
    "        plt.title('Runtime over iterations')\n",
    "        plt.show()\n",
    "        average = np.mean(self.runtimes)\n",
    "        print(f'The average runtime is {average} seconds.')\n",
    "        \n",
    "    def compute_maximal_graph(self,max_ram=1000,out_degree=15,bits=64):\n",
    "        max_bytes = max_ram * 1e6 # convert MB to bytes\n",
    "        max_bits = max_bytes * 8 # bytes -> bits\n",
    "        \n",
    "        # nodes -> RAM requirements [taken from `eda.ipynb`]...\n",
    "        # max_bits = (num_nodes * bits) + (num_nodes * out_degree * bits) + (num_nodes * out_degree * 64) [assuming 32 bit coordinates]\n",
    "        # thus RAM -> nodes is...\n",
    "        # num_nodes = max_bits / (bits + (out_degree * bits) + (out_degree * 64))\n",
    "        num_nodes = max_bits / (bits + (out_degree * bits) + (out_degree * 64))\n",
    "        num_nodes = np.floor(num_nodes)\n",
    "        \n",
    "        print(f'The maximum number of nodes is {num_nodes}.')        "
   ]
  },
  {
   "cell_type": "markdown",
   "metadata": {},
   "source": [
    "### **Program Execution**\n",
    "This section is concerned with parsing the input arguments and determining the execution flow of the program.\n",
    "___\n",
    "The `main` function handles the command line arguments and is responsible for the main flow of the program.\n",
    "\n",
    "In order to do this the function uses the following parameters:\n",
    "  * `path` - the location for the link data file [default: `prep_data.npz`]\n",
    "  * `beta` - the Beta value to use [default: `0.8`]\n",
    "  * `max_iter` - the maximum number of iterations to execute [default: `25`]"
   ]
  },
  {
   "cell_type": "code",
   "execution_count": 10,
   "metadata": {
    "pycharm": {
     "is_executing": false
    },
    "scrolled": true
   },
   "outputs": [],
   "source": [
    "def main(path = 'prep_data.npz', beta=0.8,max_iter=25):\n",
    "    sparse = PageRankSparse()\n",
    "    sparse.load_prepped_data(path)\n",
    "    \n",
    "    sparse.initialize_pagerank(beta=beta)\n",
    "    sparse.run_pagerank()\n",
    "    \n",
    "    sparse.analyze_mse()\n",
    "    print('\\n')\n",
    "    sparse.analyze_runtimes()\n",
    "    print('\\n')    \n",
    "    sparse.compute_maximal_graph()"
   ]
  },
  {
   "cell_type": "markdown",
   "metadata": {},
   "source": [
    "The following snippet passes the start of the program and the command line arguments to the `main` function.\n",
    "\n",
    "The following command line argument is expected:\n",
    "  * `path` - the location of the `prep_data.npz` file\n",
    "  * `beta` - the beta value to use\n",
    "  * `max_iter` - the maximal number of Pagerank iterations"
   ]
  },
  {
   "cell_type": "code",
   "execution_count": null,
   "metadata": {
    "pycharm": {
     "is_executing": false,
     "name": "#%%\n"
    }
   },
   "outputs": [],
   "source": [
    "if __name__ == \"__main__\":\n",
    "    filepath = sys.argv[1]\n",
    "    beta = sys.argv[2]\n",
    "    max_iter = sys.argv[3]\n",
    "    main(path=filepath,beta=beta,max_iter=max_iter)"
   ]
  },
  {
   "cell_type": "markdown",
   "metadata": {},
   "source": [
    "The following snippet triggers the manual execuation of the program"
   ]
  },
  {
   "cell_type": "code",
   "execution_count": 24,
   "metadata": {},
   "outputs": [
    {
     "data": {
      "image/png": "[encoded data removed]",
      "text/plain": [
       "<Figure size 432x288 with 1 Axes>"
      ]
     },
     "metadata": {
      "needs_background": "light"
     },
     "output_type": "display_data"
    },
    {
     "name": "stdout",
     "output_type": "stream",
     "text": [
      "\n",
      "\n"
     ]
    },
    {
     "data": {
      "image/png": "[encoded data removed]",
      "text/plain": [
       "<Figure size 432x288 with 1 Axes>"
      ]
     },
     "metadata": {
      "needs_background": "light"
     },
     "output_type": "display_data"
    },
    {
     "name": "stdout",
     "output_type": "stream",
     "text": [
      "The average runtime is 0.07684 seconds.\n",
      "\n",
      "\n",
      "The maximum number of nodes is 4032258.0.\n"
     ]
    }
   ],
   "source": [
    "main()"
   ]
  }
 ],
 "metadata": {
  "kernelspec": {
   "display_name": "Python 3",
   "language": "python",
   "name": "python3"
  },
  "language_info": {
   "codemirror_mode": {
    "name": "ipython",
    "version": 3
   },
   "file_extension": ".py",
   "mimetype": "text/x-python",
   "name": "python",
   "nbconvert_exporter": "python",
   "pygments_lexer": "ipython3",
   "version": "3.7.4"
  }
 },
 "nbformat": 4,
 "nbformat_minor": 4
}
