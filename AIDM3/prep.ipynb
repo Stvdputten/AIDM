{
 "cells": [
  {
   "cell_type": "markdown",
   "metadata": {},
   "source": [
    "## **Advances in Data Mining**\n",
    "\n",
    "Stephan van der Putten | (s1528459) | stvdputtenjur@gmail.com  \n",
    "Theo Baart | s2370328 | s2370328@student.leidenuniv.nl\n",
    "\n",
    "### **Assignment 3**\n",
    "This assignment is concerned with performing an analysis of and execute PageRank on the wikipedia links given in the `wikilink_graph.2004-03-01.csv` file. In order to do this the assignment is split up into four subtasks with each subtask receiving its dedicated `.ipynb` file. See each specific file for details on what this notebook accomplishes.\n",
    "\n",
    "Note all implementations are based on the assignment guidelines and helper files given as well as the documentation of the used functions. \n",
    "\n",
    "#### **Data Preprocessing**\n",
    "This notebook is responsible for preprocessing the data in the given `.csv` file and preparing it for the other subtasks. Additionally, the processed data is stored to the harddisk.\n",
    "___"
   ]
  },
  {
   "cell_type": "markdown",
   "metadata": {},
   "source": [
    "### **Helper Functions**\n",
    "This section contains functions which aid and simplify the code.\n",
    "___\n",
    "The following snippet handles all imports."
   ]
  },
  {
   "cell_type": "code",
   "execution_count": 2,
   "metadata": {},
   "outputs": [],
   "source": [
    "import numpy as np\n",
    "import matplotlib.pyplot as plt\n",
    "import pandas as pd\n",
    "import scipy\n",
    "from scipy.sparse import csr_matrix"
   ]
  },
  {
   "cell_type": "markdown",
   "metadata": {},
   "source": [
    "### **DataPreprocessing Class**\n",
    "\n",
    "This section contains the class and its functions which execute the various steps of data preprocessing. Due to the limitations of `.ipynb` files the various functions will be described first and then the implementation will be shown.\n",
    "\n",
    "___\n",
    "The `__init__` function initializes the class.\n",
    "\n",
    "In order to do this the function uses the following (optional) parameters:\n",
    "  * `raw_dataset` - the raw link data [default: None]\n",
    "  * `sparse_matrix` - the a sparse matrix representation of the link data [default: None]\n",
    "  * `categories` - the unique set of categories (pages) in the link data [default: None] \n",
    "  * `categorical_dataset` - the raw dataset renumbered according to `categories` [default: None]\n",
    "___\n",
    "The `load` function loads data and stores it in `raw_dataset`.\n",
    "\n",
    "In order to do this the function uses the following parameters:\n",
    "  * `path` - the location of the data to load [default: `wikilnks_graph.2004-03-01.csv`]\n",
    "  * `delimiter` - the delimiter to use in the file [default: `\\t`]\n",
    "  * `datatype` - the datatype to load the data as [default: `np.int64`]\n",
    "___\n",
    "The `determine_categories` function extracts from the data the various unique categories [i.e. pages].\n",
    "___\n",
    "The `renumber_pages` function ensures that all page_ids are represented as consecutive integers. In doing so it initializes the `categorical_dataset`.\n",
    "___\n",
    "The `convert_to_sparse_matrix` function transforms the dataset into a sparse matrix such that a 1 signifies that page A [column] links to page B [row].\n",
    "\n",
    "In order to do this the function uses the following parameter:\n",
    "  * `datatype` - the datatype to use to store the values [default: `np.int32`]\n",
    "___\n",
    "The `eliminate_self_loops` function removes all self loops (page A links to page A) from the dataset.\n",
    "___\n",
    "The `save` function stores the data in `sparse_matrix` at the specified location.\n",
    "\n",
    "In order to do this the function uses the following parameters:\n",
    "  * `path` - the storage location of the data"
   ]
  },
  {
   "cell_type": "code",
   "execution_count": 58,
   "metadata": {},
   "outputs": [],
   "source": [
    "class DataPreprocessing():\n",
    "    def __init__(self,raw_dataset=None,sparse_matrix=None,categories=None,categorical_dataset=None):\n",
    "        self.raw_dataset = raw_dataset\n",
    "        self.sparse_matrix = sparse_matrix\n",
    "        self.categories = categories\n",
    "        self.categorical_dataset = categorical_dataset\n",
    "        \n",
    "    def load(self, path='wikilink_graph.2004-03-01.csv',delimiter='\\t',datatype=np.int64):\n",
    "        self.raw_dataset = pd.read_csv(path,usecols=(0,2),delimiter=delimiter,dtype=datatype,skiprows=0)\n",
    "        \n",
    "    def determine_categories(self):\n",
    "        source_index = np.unique(self.raw_dataset.iloc[:,0])\n",
    "        destination_index = np.unique(self.raw_dataset.iloc[:,1])\n",
    "        self.categories = np.unique(np.append(source_index, destination_index))\n",
    "        \n",
    "    def renumber_pages(self):\n",
    "        self.raw_dataset['source_index'] = pd.Categorical(self.raw_dataset.iloc[:,0], categories=self.categories).codes\n",
    "        self.raw_dataset['destination_index'] = pd.Categorical(self.raw_dataset.iloc[:,1], categories=self.categories).codes\n",
    "        display(self.raw_dataset.head()) #verify if results are what we expect so far\n",
    "        self.categorical_dataset = self.raw_dataset.iloc[:, [2,3]].to_numpy()\n",
    "        display(self.categorical_dataset) #verify if results are what we expect so far\n",
    "\n",
    "    def convert_to_sparse_matrix(self,datatype=np.int32):\n",
    "        col =  self.categorical_dataset[:,1]\n",
    "        row =  self.categorical_dataset[:,0]\n",
    "        data = np.ones(len(col))\n",
    "        max_len = len(self.categories)\n",
    "        self.sparse_matrix = csr_matrix((data,(row,col)), shape=(max_len, max_len), dtype=datatype)\n",
    "        display(self.sparse_matrix[:10,:10].todense()) #verify if results are what we expect so far\n",
    "        \n",
    "    def eliminate_self_loops(self):\n",
    "        lil_matrix = self.sparse_matrix.tolil()\n",
    "        lil_matrix.setdiag(0) # documentation suggests setdiag to be executed on lil instead of csr\n",
    "        self.sparse_matrix = lil_matrix.tocsr()\n",
    "        self.sparse_matrix.eliminate_zeros()\n",
    "        display(self.sparse_matrix[:10,:10].todense()) #verify if results are what we expect so far\n",
    "        \n",
    "    def save(self,path='prep_data'):\n",
    "        scipy.sparse.save_npz('prep_data', self.sparse_matrix)"
   ]
  },
  {
   "cell_type": "markdown",
   "metadata": {},
   "source": [
    "### **Program Execution**\n",
    "This section is concerned with parsing the input arguments and determining the execution flow of the program.\n",
    "___\n",
    "The `main` function handles the command line arguments and is responsible for the main flow of the program.\n",
    "\n",
    "In order to do this the function uses the following parameter:\n",
    "  * `path` - the location for the link data file [default = `wikilink_graph.2004-03-01.csv`]"
   ]
  },
  {
   "cell_type": "code",
   "execution_count": 61,
   "metadata": {
    "pycharm": {
     "is_executing": false
    },
    "scrolled": true
   },
   "outputs": [],
   "source": [
    "def main(path = 'wikilink_graph.2004-03-01.csv'):\n",
    "    prep = DataPreprocessing()\n",
    "    prep.load(path)\n",
    "    \n",
    "    prep.determine_categories()\n",
    "    prep.renumber_pages()\n",
    "    \n",
    "    prep.convert_to_sparse_matrix()\n",
    "    prep.eliminate_self_loops()\n",
    "    \n",
    "    prep.save()"
   ]
  },
  {
   "cell_type": "markdown",
   "metadata": {},
   "source": [
    "The following snippet passes the start of the program and the command line arguments to the `main` function.\n",
    "\n",
    "The following command line argument is expected:\n",
    "  * `path` - the location of the `wikilink_graph.2004-03-01.csv` file"
   ]
  },
  {
   "cell_type": "code",
   "execution_count": null,
   "metadata": {
    "pycharm": {
     "is_executing": false,
     "name": "#%%\n"
    }
   },
   "outputs": [],
   "source": [
    "if __name__ == \"__main__\":\n",
    "    filepath = sys.argv[1]\n",
    "    main(path=filepath)"
   ]
  },
  {
   "cell_type": "markdown",
   "metadata": {},
   "source": [
    "The following snippet triggers the manual execuation of the program"
   ]
  },
  {
   "cell_type": "code",
   "execution_count": 64,
   "metadata": {},
   "outputs": [
    {
     "data": {
      "text/html": [
       "<div>\n",
       "<style scoped>\n",
       "    .dataframe tbody tr th:only-of-type {\n",
       "        vertical-align: middle;\n",
       "    }\n",
       "\n",
       "    .dataframe tbody tr th {\n",
       "        vertical-align: top;\n",
       "    }\n",
       "\n",
       "    .dataframe thead th {\n",
       "        text-align: right;\n",
       "    }\n",
       "</style>\n",
       "<table border=\"1\" class=\"dataframe\">\n",
       "  <thead>\n",
       "    <tr style=\"text-align: right;\">\n",
       "      <th></th>\n",
       "      <th>page_id_from</th>\n",
       "      <th>page_id_to</th>\n",
       "      <th>source_index</th>\n",
       "      <th>destination_index</th>\n",
       "    </tr>\n",
       "  </thead>\n",
       "  <tbody>\n",
       "    <tr>\n",
       "      <td>0</td>\n",
       "      <td>12</td>\n",
       "      <td>34568</td>\n",
       "      <td>0</td>\n",
       "      <td>18381</td>\n",
       "    </tr>\n",
       "    <tr>\n",
       "      <td>1</td>\n",
       "      <td>12</td>\n",
       "      <td>35416</td>\n",
       "      <td>0</td>\n",
       "      <td>19179</td>\n",
       "    </tr>\n",
       "    <tr>\n",
       "      <td>2</td>\n",
       "      <td>12</td>\n",
       "      <td>34569</td>\n",
       "      <td>0</td>\n",
       "      <td>18382</td>\n",
       "    </tr>\n",
       "    <tr>\n",
       "      <td>3</td>\n",
       "      <td>12</td>\n",
       "      <td>34699</td>\n",
       "      <td>0</td>\n",
       "      <td>18501</td>\n",
       "    </tr>\n",
       "    <tr>\n",
       "      <td>4</td>\n",
       "      <td>12</td>\n",
       "      <td>34700</td>\n",
       "      <td>0</td>\n",
       "      <td>18502</td>\n",
       "    </tr>\n",
       "  </tbody>\n",
       "</table>\n",
       "</div>"
      ],
      "text/plain": [
       "   page_id_from  page_id_to  source_index  destination_index\n",
       "0            12       34568             0              18381\n",
       "1            12       35416             0              19179\n",
       "2            12       34569             0              18382\n",
       "3            12       34699             0              18501\n",
       "4            12       34700             0              18502"
      ]
     },
     "metadata": {},
     "output_type": "display_data"
    },
    {
     "data": {
      "text/plain": [
       "array([[     0,  18381],\n",
       "       [     0,  19179],\n",
       "       [     0,  18382],\n",
       "       ...,\n",
       "       [248190, 102031],\n",
       "       [248191, 241638],\n",
       "       [248192, 120406]])"
      ]
     },
     "metadata": {},
     "output_type": "display_data"
    },
    {
     "data": {
      "text/plain": [
       "matrix([[0, 0, 0, 0, 0, 0, 0, 0, 0, 0],\n",
       "        [0, 1, 0, 0, 0, 0, 0, 0, 0, 0],\n",
       "        [0, 0, 0, 0, 0, 0, 0, 0, 0, 0],\n",
       "        [0, 0, 0, 0, 0, 0, 0, 0, 0, 0],\n",
       "        [0, 0, 0, 0, 0, 0, 0, 0, 0, 0],\n",
       "        [0, 0, 0, 0, 0, 0, 0, 0, 0, 0],\n",
       "        [0, 0, 0, 0, 0, 0, 0, 0, 0, 0],\n",
       "        [0, 0, 0, 0, 0, 0, 0, 1, 0, 0],\n",
       "        [0, 0, 0, 0, 0, 0, 0, 0, 0, 0],\n",
       "        [0, 0, 0, 0, 0, 0, 0, 0, 1, 0]], dtype=int32)"
      ]
     },
     "metadata": {},
     "output_type": "display_data"
    },
    {
     "data": {
      "text/plain": [
       "matrix([[0, 0, 0, 0, 0, 0, 0, 0, 0, 0],\n",
       "        [0, 0, 0, 0, 0, 0, 0, 0, 0, 0],\n",
       "        [0, 0, 0, 0, 0, 0, 0, 0, 0, 0],\n",
       "        [0, 0, 0, 0, 0, 0, 0, 0, 0, 0],\n",
       "        [0, 0, 0, 0, 0, 0, 0, 0, 0, 0],\n",
       "        [0, 0, 0, 0, 0, 0, 0, 0, 0, 0],\n",
       "        [0, 0, 0, 0, 0, 0, 0, 0, 0, 0],\n",
       "        [0, 0, 0, 0, 0, 0, 0, 0, 0, 0],\n",
       "        [0, 0, 0, 0, 0, 0, 0, 0, 0, 0],\n",
       "        [0, 0, 0, 0, 0, 0, 0, 0, 1, 0]], dtype=int32)"
      ]
     },
     "metadata": {},
     "output_type": "display_data"
    }
   ],
   "source": [
    "main()"
   ]
  }
 ],
 "metadata": {
  "kernelspec": {
   "display_name": "Python 3",
   "language": "python",
   "name": "python3"
  },
  "language_info": {
   "codemirror_mode": {
    "name": "ipython",
    "version": 3
   },
   "file_extension": ".py",
   "mimetype": "text/x-python",
   "name": "python",
   "nbconvert_exporter": "python",
   "pygments_lexer": "ipython3",
   "version": "3.7.4"
  },
  "pycharm": {
   "stem_cell": {
    "cell_type": "raw",
    "metadata": {
     "collapsed": false
    },
    "source": []
   }
  }
 },
 "nbformat": 4,
 "nbformat_minor": 4
}
