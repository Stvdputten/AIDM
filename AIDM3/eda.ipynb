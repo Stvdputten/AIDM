{
 "cells": [
  {
   "cell_type": "markdown",
   "metadata": {},
   "source": [
    "## **Advances in Data Mining**\n",
    "\n",
    "Stephan van der Putten | (s1528459) | stvdputtenjur@gmail.com  \n",
    "Theo Baart | s2370328 | s2370328@student.leidenuniv.nl\n",
    "\n",
    "### **Assignment 3**\n",
    "This assignment is concerned with performing an analysis of and execute PageRank on the wikipedia links given in the `wikilink_graph.2004-03-01.csv` file. In order to do this the assignment is split up into four subtasks with each subtask receiving its dedicated `.ipynb` file. See each specific file for details on what this notebook accomplishes.\n",
    "\n",
    "Note all implementations are based on the assignment guidelines and helper files given as well as the documentation of the used functions. \n",
    "\n",
    "#### **Exploratory Data Analysis**\n",
    "This notebook performs an exploratory analysis on the dataset. This includes some anlaysis on the nodes and edges as well as estimating system requirements for being able to execute the PageRank algorithm.\n",
    "___"
   ]
  },
  {
   "cell_type": "markdown",
   "metadata": {},
   "source": [
    "### **Helper Functions**\n",
    "This section contains functions which aid and simplify the code for our LSH implementation\n",
    "___\n",
    "The following snippet handles all imports."
   ]
  },
  {
   "cell_type": "code",
   "execution_count": 403,
   "metadata": {},
   "outputs": [],
   "source": [
    "import numpy as np\n",
    "import matplotlib.pyplot as plt\n",
    "import seaborn as sns\n",
    "import pandas as pd\n",
    "import scipy.sparse\n",
    "from scipy.sparse import csr_matrix"
   ]
  },
  {
   "cell_type": "markdown",
   "metadata": {},
   "source": [
    "The `load_prepped_data` function is responsible for retrieving the data prepped by `prep.ipynb` and loading it for exploratory data analysis.\n",
    "\n",
    "In order to do this the function uses the following parameters:\n",
    "  * `filename` - the name of the file containing the prepped data [default = `prep-data.npz`]\n",
    "  \n",
    "Additionally, it returns the following value:\n",
    "  * `data` - an array representing the prepped data  "
   ]
  },
  {
   "cell_type": "code",
   "execution_count": 412,
   "metadata": {},
   "outputs": [],
   "source": [
    "def load_prepped_data(filename = 'prep_data.npz'):\n",
    "    data = scipy.sparse.load_npz(filename)\n",
    "    return data"
   ]
  },
  {
   "cell_type": "markdown",
   "metadata": {},
   "source": [
    "The following snippet triggers data loading"
   ]
  },
  {
   "cell_type": "code",
   "execution_count": 413,
   "metadata": {},
   "outputs": [],
   "source": [
    "data = load_prepped_data()"
   ]
  },
  {
   "cell_type": "markdown",
   "metadata": {},
   "source": [
    "The `plot_distribution` function plots the distribution of a one-dimensional sparse matrix.\n",
    "\n",
    "In order to do this the function uses the following parameters:\n",
    "  * `data` - the one-dimensional sparse matrix to be plotted\n",
    "  * `title` - the title to give the plot [default = `'distribution'`]\n",
    "  * `ignore_zeros` - whether to include zeros in the distrubtion [default = `True`]"
   ]
  },
  {
   "cell_type": "code",
   "execution_count": 466,
   "metadata": {},
   "outputs": [],
   "source": [
    "def plot_distribution(data,title='distribution',ignore_zeros=True):\n",
    "    data = data.toarray()[0]\n",
    "    if ignore_zeros:\n",
    "        data = data[data!=0]\n",
    "#     print(data)\n",
    "    plt.title(title)\n",
    "#     print(data.min(),data.max())\n",
    "    sns.set_style(\"white\")\n",
    "    plot = sns.distplot(data)\n",
    "    plot.set(xlim={data.min()-0.5,data.max()+0.5})\n",
    "    sns.despine()\n",
    "    plt.show()"
   ]
  },
  {
   "cell_type": "markdown",
   "metadata": {},
   "source": [
    "The `compute_average` function computes the average value of a one-dimensional sparse matrix.\n",
    "\n",
    "In order to do this the function uses the following parameters:\n",
    "  * `data` - the one-dimensional sparse matrix we want the average of\n",
    "  * `ignore_zero` - whether to ignore zeros [default = `True`]\n",
    "\n",
    "Additionally, it returns the following value:\n",
    "  * `average` - the average value of the given matrix."
   ]
  },
  {
   "cell_type": "code",
   "execution_count": 467,
   "metadata": {},
   "outputs": [],
   "source": [
    "def compute_average(data,ignore_zero=True):\n",
    "    if ignore_zero:\n",
    "        # built in functions don't ignore zeros\n",
    "        d_sum = data.sum()\n",
    "        d_len = data.count_nonzero()\n",
    "        average = d_sum / d_len\n",
    "    else:\n",
    "        average = data.mean()\n",
    "    return average"
   ]
  },
  {
   "cell_type": "markdown",
   "metadata": {},
   "source": [
    "The `compute_x_degrees` function parses the nodes and computes for each node the x-degree of the node.\n",
    "\n",
    "In order to do this the function uses the following parameters:\n",
    "  * `data` - the prepped data\n",
    "  * `x` - whether to compute the in- or out-degree [default = `in`]\n",
    "  \n",
    "Additionally, it returns the following values:\n",
    "  * `x_degrees` - a list of all the nodes and their x-degrees"
   ]
  },
  {
   "cell_type": "code",
   "execution_count": 468,
   "metadata": {},
   "outputs": [],
   "source": [
    "def compute_x_degrees(data, x = 'in'):\n",
    "    if x == 'in':\n",
    "        edges = data.nonzero()[0]\n",
    "        edges_length = data.get_shape()[0]\n",
    "    else:\n",
    "        edges = data.nonzero()[1]\n",
    "        edges_length = data.get_shape()[1]\n",
    "    edges_index, edges_count = np.unique(edges, return_counts=True)\n",
    "    edges_nonzero_length = len(edges_index)\n",
    "    edges_zeros = np.zeros(edges_nonzero_length)\n",
    "#     print(edges_index,edges_count,edges_zeros,edges_nonzero_length,edges_length)\n",
    "    x_degrees = csr_matrix((edges_count, (edges_zeros,edges_index)), shape=(1,edges_length))\n",
    "#     print(x_degrees)\n",
    "    return x_degrees"
   ]
  },
  {
   "cell_type": "markdown",
   "metadata": {},
   "source": [
    "#### **Dead Ends**\n",
    "This section is concerned with determining how many dead ends there are. A dead end refers to nodes which do not have any outgoing edges.\n",
    "___\n",
    "The `compute_dead_ends_set` function parses the nodes and computes a set of all nodes which are dead_ends. Analyzing the data it is evident that for a node to be in the dataset it must either have an outgoing edge or an incoming edge. By definition a dead end has no outgoing edges and therefore it cannot be in the list of outgoing edges. Thus, the difference between the set of all edges and the set of outgoing edges is the set of dead ends.\n",
    "\n",
    "In order to do this the function uses the following parameters:\n",
    "  * `data` - the prepped data\n",
    "  \n",
    "Additionally, it returns the following values:\n",
    "  * `dead_ends` - a list of all the dead ends [in consecutive numbering]"
   ]
  },
  {
   "cell_type": "code",
   "execution_count": 469,
   "metadata": {},
   "outputs": [],
   "source": [
    "def compute_dead_ends_set(data):\n",
    "    all_edges = set(range(data.get_shape()[1])) # get all column ID's \n",
    "    outgoing_edges = set(data.nonzero()[1]) # column ID's of outgoing edges\n",
    "#     print(all_edges)\n",
    "#     print(outgoing_edges)\n",
    "    dead_ends = all_edges - outgoing_edges\n",
    "#     print(dead_ends)\n",
    "    dead_ends = set(dead_ends)\n",
    "    return dead_ends"
   ]
  },
  {
   "cell_type": "markdown",
   "metadata": {},
   "source": [
    "The `analyse_dead_ends` function analyzes the matrix and prints some data on the dead ends in the graph.\n",
    "\n",
    "In order to do this the function uses the following parameters:\n",
    "  * `data` - the prepped data\n",
    "  * `print_set`  - whether to print the set of dead ends [default = `False`]"
   ]
  },
  {
   "cell_type": "code",
   "execution_count": 470,
   "metadata": {},
   "outputs": [],
   "source": [
    "def analyze_dead_ends(data,print_set=False):\n",
    "    dead_ends = compute_dead_ends_set(data)\n",
    "    count_dead_ends = len(dead_ends)\n",
    "    if count_dead_ends == 0:\n",
    "        print(\"There are no dead ends\")\n",
    "        return\n",
    "    # TODO convert consecutive numbering to original number\n",
    "    if count_dead_ends == 1:\n",
    "        print(\"There is 1 dead end.\")\n",
    "    else:\n",
    "        print(\"There are \"+str(len(dead_ends))+\" dead ends.\")\n",
    "    if print_set:\n",
    "        print(\"The following set contains all nodes classified as dead ends [in consecutive numbering].\")\n",
    "        print(dead_ends)"
   ]
  },
  {
   "cell_type": "markdown",
   "metadata": {},
   "source": [
    "The following snippet triggers the dead end analysis"
   ]
  },
  {
   "cell_type": "code",
   "execution_count": 471,
   "metadata": {},
   "outputs": [
    {
     "name": "stdout",
     "output_type": "stream",
     "text": [
      "There are 56255 dead ends.\n",
      "Wall time: 984 ms\n"
     ]
    }
   ],
   "source": [
    "%time analyze_dead_ends(data)"
   ]
  },
  {
   "cell_type": "markdown",
   "metadata": {},
   "source": [
    "#### **In-degrees**\n",
    "This section is concerned with analyzing the in-degrees of the nodes. An in-degree refers to the number of incoming edges that a node has.\n",
    "___\n",
    "The `analyze_in_degrees` function analyzes the matrix and prints some data on the in-degrees of the graph. This includes a distribution of the in-degrees as well as the average number of in-degrees.\n",
    "\n",
    "In order to do this the function uses the following parameters:\n",
    "  * `data` - the prepped data\n",
    "  * `ignore_zeros_plot` - whether to plot zeros [default = `True`]"
   ]
  },
  {
   "cell_type": "code",
   "execution_count": 472,
   "metadata": {},
   "outputs": [],
   "source": [
    "def analyze_in_degrees(data,ignore_zeros_plot = True):\n",
    "    in_degrees = compute_x_degrees(data, 'in')\n",
    "    \n",
    "    # Distribution\n",
    "    plot_distribution(in_degrees,title='Distribution of in-degrees',ignore_zeros=ignore_zeros_plot)\n",
    "    \n",
    "    # Averages\n",
    "    average_zero = compute_average(in_degrees,ignore_zero=False)\n",
    "    average_nonzero = compute_average(in_degrees,ignore_zero=True)\n",
    "    print(\"The average in-degree (including zeros): \" + str(average_zero))\n",
    "    print(\"The average in-degree (excluding zeros): \" + str(average_nonzero))"
   ]
  },
  {
   "cell_type": "markdown",
   "metadata": {},
   "source": [
    "The following snippet triggers the in-degree analysis"
   ]
  },
  {
   "cell_type": "code",
   "execution_count": 473,
   "metadata": {},
   "outputs": [
    {
     "data": {
      "image/png": "[encoded data removed]",
      "text/plain": [
       "<Figure size 432x288 with 1 Axes>"
      ]
     },
     "metadata": {},
     "output_type": "display_data"
    },
    {
     "name": "stdout",
     "output_type": "stream",
     "text": [
      "The average in-degree (including zeros): 12.766314924243972\n",
      "The average in-degree (excluding zeros): 13.73700981986083\n",
      "Wall time: 630 ms\n"
     ]
    }
   ],
   "source": [
    "%time analyze_in_degrees(data)"
   ]
  },
  {
   "cell_type": "markdown",
   "metadata": {},
   "source": [
    "#### **Out-degrees**\n",
    "This section is concerned with analyzing the out-degrees of the nodes. An out-degree refers to the number of outgoinng edges that a node has.\n",
    "___\n",
    "The `analyze_out_degrees` function analyzes the matrix and prints some data on the out-degrees of the graph. This includes a distribution of the out-degrees as well as the average number of out-degrees.\n",
    "\n",
    "In order to do this the function uses the following parameters:\n",
    "  * `data` - the prepped data\n",
    "  * `ignore_zeros_plot` - whether to plot zeros [default = `True`]"
   ]
  },
  {
   "cell_type": "code",
   "execution_count": 476,
   "metadata": {},
   "outputs": [],
   "source": [
    "def analyze_out_degrees(data,ignore_zeros_plot = True):\n",
    "    out_degrees = compute_x_degrees(data,'out')\n",
    "    \n",
    "    # Distribution\n",
    "    plot_distribution(out_degrees,title='Distribution of out-degrees',ignore_zeros=ignore_zeros_plot)\n",
    "    \n",
    "    # Averages\n",
    "    average_zero = compute_average(out_degrees,ignore_zero=False)\n",
    "    average_nonzero = compute_average(out_degrees,ignore_zero=True)\n",
    "    print(\"The average out-degree (including zeros): \" + str(average_zero))\n",
    "    print(\"The average out-degree (excluding zeros): \" + str(average_nonzero))"
   ]
  },
  {
   "cell_type": "markdown",
   "metadata": {},
   "source": [
    "The following snippet triggers the out-degree analysis"
   ]
  },
  {
   "cell_type": "code",
   "execution_count": 477,
   "metadata": {},
   "outputs": [
    {
     "data": {
      "image/png": "[encoded data removed]",
      "text/plain": [
       "<Figure size 432x288 with 1 Axes>"
      ]
     },
     "metadata": {},
     "output_type": "display_data"
    },
    {
     "name": "stdout",
     "output_type": "stream",
     "text": [
      "The average out-degree (including zeros): 12.766314924221792\n",
      "The average out-degree (excluding zeros): 16.5079869541206\n"
     ]
    }
   ],
   "source": [
    "analyze_out_degrees(data)"
   ]
  },
  {
   "cell_type": "code",
   "execution_count": 410,
   "metadata": {},
   "outputs": [],
   "source": [
    "# TODO REMOVE ME I AM TEMPORARY!\n",
    "no_dead_ends = [[0,2],[1,2],[0,3],[2,1],[2,3],[3,1],[3,0]]\n",
    "one_dead_end = [[0,2],[0,3],[2,1],[2,3],[3,1],[3,0]]\n",
    "two_dead_ends = [[0,2],[0,3],[2,1],[2,3]]\n",
    "# temp_data = no_dead_ends\n",
    "# temp_data = one_dead_end\n",
    "temp_data = two_dead_ends\n",
    "temp_data = np.array(temp_data)\n",
    "c = temp_data[:,0]\n",
    "r = temp_data[:,1]\n",
    "d = np.ones(len(c))\n",
    "max_c = 4\n",
    "temp_data = csr_matrix((d,(r,c)), shape=(max_c, max_c), dtype=np.uint16)\n",
    "scipy.sparse.save_npz('simple_data',temp_data)"
   ]
  },
  {
   "cell_type": "code",
   "execution_count": 453,
   "metadata": {},
   "outputs": [
    {
     "name": "stdout",
     "output_type": "stream",
     "text": [
      "[[0 0 0 0]\n",
      " [0 0 1 0]\n",
      " [1 0 0 0]\n",
      " [1 0 1 0]]\n",
      "There are 2 dead ends.\n",
      "[0 1 1 2]\n",
      "[1 1 2]\n"
     ]
    },
    {
     "data": {
      "image/png": "[encoded data removed]",
      "text/plain": [
       "<Figure size 432x288 with 1 Axes>"
      ]
     },
     "metadata": {},
     "output_type": "display_data"
    },
    {
     "name": "stdout",
     "output_type": "stream",
     "text": [
      "The average in-degree (including zeros): 1.0\n",
      "The average in-degree (excluding zeros): 1.3333333333333333\n",
      "[2 0 2 0]\n",
      "[2 2]\n"
     ]
    },
    {
     "name": "stderr",
     "output_type": "stream",
     "text": [
      "C:\\Users\\ThinkPad\\Anaconda3\\lib\\site-packages\\statsmodels\\nonparametric\\kde.py:487: RuntimeWarning: invalid value encountered in true_divide\n",
      "  binned = fast_linbin(X, a, b, gridsize) / (delta * nobs)\n",
      "C:\\Users\\ThinkPad\\Anaconda3\\lib\\site-packages\\statsmodels\\nonparametric\\kdetools.py:34: RuntimeWarning: invalid value encountered in double_scalars\n",
      "  FAC1 = 2*(np.pi*bw/RANGE)**2\n"
     ]
    },
    {
     "data": {
      "image/png": "[encoded data removed]",
      "text/plain": [
       "<Figure size 432x288 with 1 Axes>"
      ]
     },
     "metadata": {},
     "output_type": "display_data"
    },
    {
     "name": "stdout",
     "output_type": "stream",
     "text": [
      "The average out-degree (including zeros): 1.0\n",
      "The average out-degree (excluding zeros): 2.0\n"
     ]
    }
   ],
   "source": [
    "simple_data = load_prepped_data('simple_data.npz')\n",
    "print(simple_data.todense())\n",
    "analyze_dead_ends(simple_data)\n",
    "analyze_in_degrees(simple_data)\n",
    "analyze_out_degrees(simple_data)"
   ]
  },
  {
   "cell_type": "code",
   "execution_count": null,
   "metadata": {},
   "outputs": [],
   "source": []
  }
 ],
 "metadata": {
  "kernelspec": {
   "display_name": "Python 3",
   "language": "python",
   "name": "python3"
  },
  "language_info": {
   "codemirror_mode": {
    "name": "ipython",
    "version": 3
   },
   "file_extension": ".py",
   "mimetype": "text/x-python",
   "name": "python",
   "nbconvert_exporter": "python",
   "pygments_lexer": "ipython3",
   "version": "3.7.4"
  }
 },
 "nbformat": 4,
 "nbformat_minor": 4
}
